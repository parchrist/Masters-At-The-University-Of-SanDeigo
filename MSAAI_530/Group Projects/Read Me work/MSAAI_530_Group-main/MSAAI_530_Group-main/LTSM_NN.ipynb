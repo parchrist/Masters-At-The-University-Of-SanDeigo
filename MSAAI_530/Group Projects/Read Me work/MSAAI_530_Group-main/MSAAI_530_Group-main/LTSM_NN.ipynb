{
 "cells": [
  {
   "cell_type": "markdown",
   "metadata": {},
   "source": [
    "## LTSM Neural Network \n",
    "\n",
    "#### By: Parker Christenson \n",
    "\n",
    "This is going to the the attempt to get the Long short term memory neural network to work on the data set. I will be using the Keras library to build the model. \n",
    "\n",
    "I will be attempting to optimize the model by using a variety of different hyperparameters, and tunning the model to get the best results possible. By doing so, I hope that I will be able to achevive the best results possible. "
   ]
  },
  {
   "cell_type": "markdown",
   "metadata": {},
   "source": [
    "### Importing the needed Libraries for Model development"
   ]
  },
  {
   "cell_type": "code",
   "execution_count": 34,
   "metadata": {},
   "outputs": [],
   "source": [
    "import pandas as pd \n",
    "import numpy as np \n",
    "import matplotlib.pyplot as plt\n",
    "import seaborn as sns\n",
    "from sklearn.model_selection import train_test_split\n",
    "import time\n",
    "from sklearn.metrics import accuracy_score\n",
    "from sklearn.metrics import confusion_matrix\n",
    "from sklearn.metrics import classification_report\n",
    "import tensorflow as tf"
   ]
  },
  {
   "cell_type": "code",
   "execution_count": 35,
   "metadata": {},
   "outputs": [
    {
     "data": {
      "text/html": [
       "<div>\n",
       "<style scoped>\n",
       "    .dataframe tbody tr th:only-of-type {\n",
       "        vertical-align: middle;\n",
       "    }\n",
       "\n",
       "    .dataframe tbody tr th {\n",
       "        vertical-align: top;\n",
       "    }\n",
       "\n",
       "    .dataframe thead th {\n",
       "        text-align: right;\n",
       "    }\n",
       "</style>\n",
       "<table border=\"1\" class=\"dataframe\">\n",
       "  <thead>\n",
       "    <tr style=\"text-align: right;\">\n",
       "      <th></th>\n",
       "      <th>date</th>\n",
       "      <th>Temperature</th>\n",
       "      <th>Humidity</th>\n",
       "      <th>Light</th>\n",
       "      <th>CO2</th>\n",
       "      <th>HumidityRatio</th>\n",
       "      <th>Occupancy</th>\n",
       "    </tr>\n",
       "  </thead>\n",
       "  <tbody>\n",
       "    <tr>\n",
       "      <th>0</th>\n",
       "      <td>2015-02-02 14:19:00</td>\n",
       "      <td>23.7000</td>\n",
       "      <td>26.272</td>\n",
       "      <td>585.200000</td>\n",
       "      <td>749.200000</td>\n",
       "      <td>0.004764</td>\n",
       "      <td>1</td>\n",
       "    </tr>\n",
       "    <tr>\n",
       "      <th>1</th>\n",
       "      <td>2015-02-02 14:19:59</td>\n",
       "      <td>23.7180</td>\n",
       "      <td>26.290</td>\n",
       "      <td>578.400000</td>\n",
       "      <td>760.400000</td>\n",
       "      <td>0.004773</td>\n",
       "      <td>1</td>\n",
       "    </tr>\n",
       "    <tr>\n",
       "      <th>2</th>\n",
       "      <td>2015-02-02 14:21:00</td>\n",
       "      <td>23.7300</td>\n",
       "      <td>26.230</td>\n",
       "      <td>572.666667</td>\n",
       "      <td>769.666667</td>\n",
       "      <td>0.004765</td>\n",
       "      <td>1</td>\n",
       "    </tr>\n",
       "    <tr>\n",
       "      <th>3</th>\n",
       "      <td>2015-02-02 14:22:00</td>\n",
       "      <td>23.7225</td>\n",
       "      <td>26.125</td>\n",
       "      <td>493.750000</td>\n",
       "      <td>774.750000</td>\n",
       "      <td>0.004744</td>\n",
       "      <td>1</td>\n",
       "    </tr>\n",
       "    <tr>\n",
       "      <th>4</th>\n",
       "      <td>2015-02-02 14:23:00</td>\n",
       "      <td>23.7540</td>\n",
       "      <td>26.200</td>\n",
       "      <td>488.600000</td>\n",
       "      <td>779.000000</td>\n",
       "      <td>0.004767</td>\n",
       "      <td>1</td>\n",
       "    </tr>\n",
       "  </tbody>\n",
       "</table>\n",
       "</div>"
      ],
      "text/plain": [
       "                  date  Temperature  Humidity       Light         CO2  \\\n",
       "0  2015-02-02 14:19:00      23.7000    26.272  585.200000  749.200000   \n",
       "1  2015-02-02 14:19:59      23.7180    26.290  578.400000  760.400000   \n",
       "2  2015-02-02 14:21:00      23.7300    26.230  572.666667  769.666667   \n",
       "3  2015-02-02 14:22:00      23.7225    26.125  493.750000  774.750000   \n",
       "4  2015-02-02 14:23:00      23.7540    26.200  488.600000  779.000000   \n",
       "\n",
       "   HumidityRatio  Occupancy  \n",
       "0       0.004764          1  \n",
       "1       0.004773          1  \n",
       "2       0.004765          1  \n",
       "3       0.004744          1  \n",
       "4       0.004767          1  "
      ]
     },
     "execution_count": 35,
     "metadata": {},
     "output_type": "execute_result"
    }
   ],
   "source": [
    "df = pd.read_csv('Occupancy.csv')\n",
    "df.head()"
   ]
  },
  {
   "cell_type": "code",
   "execution_count": 36,
   "metadata": {},
   "outputs": [
    {
     "data": {
      "text/plain": [
       "date              object\n",
       "Temperature      float64\n",
       "Humidity         float64\n",
       "Light            float64\n",
       "CO2              float64\n",
       "HumidityRatio    float64\n",
       "Occupancy          int64\n",
       "dtype: object"
      ]
     },
     "execution_count": 36,
     "metadata": {},
     "output_type": "execute_result"
    }
   ],
   "source": [
    "# getting the data types of the columns\n",
    "df.dtypes"
   ]
  },
  {
   "cell_type": "code",
   "execution_count": 37,
   "metadata": {},
   "outputs": [
    {
     "data": {
      "text/plain": [
       "date             0\n",
       "Temperature      0\n",
       "Humidity         0\n",
       "Light            0\n",
       "CO2              0\n",
       "HumidityRatio    0\n",
       "Occupancy        0\n",
       "dtype: int64"
      ]
     },
     "execution_count": 37,
     "metadata": {},
     "output_type": "execute_result"
    }
   ],
   "source": [
    "# Checking for missing values\n",
    "df.isnull().sum()"
   ]
  },
  {
   "cell_type": "code",
   "execution_count": 38,
   "metadata": {},
   "outputs": [
    {
     "data": {
      "text/plain": [
       "0"
      ]
     },
     "execution_count": 38,
     "metadata": {},
     "output_type": "execute_result"
    }
   ],
   "source": [
    "# Checking for duplicates\n",
    "df.duplicated().sum()"
   ]
  },
  {
   "cell_type": "markdown",
   "metadata": {},
   "source": [
    "### We are now going to do some basic feature extraction and data preprocessing. Our goal here is to pull out as much relevant information as possible from the data set, which in theory should help our model perform better"
   ]
  },
  {
   "cell_type": "code",
   "execution_count": 39,
   "metadata": {},
   "outputs": [],
   "source": [
    "# making a new column called 'time' from the 'date' column \n",
    "df['time'] = pd.to_datetime(df['date']).dt.time"
   ]
  },
  {
   "cell_type": "code",
   "execution_count": 40,
   "metadata": {},
   "outputs": [
    {
     "data": {
      "text/html": [
       "<div>\n",
       "<style scoped>\n",
       "    .dataframe tbody tr th:only-of-type {\n",
       "        vertical-align: middle;\n",
       "    }\n",
       "\n",
       "    .dataframe tbody tr th {\n",
       "        vertical-align: top;\n",
       "    }\n",
       "\n",
       "    .dataframe thead th {\n",
       "        text-align: right;\n",
       "    }\n",
       "</style>\n",
       "<table border=\"1\" class=\"dataframe\">\n",
       "  <thead>\n",
       "    <tr style=\"text-align: right;\">\n",
       "      <th></th>\n",
       "      <th>date</th>\n",
       "      <th>Temperature</th>\n",
       "      <th>Humidity</th>\n",
       "      <th>Light</th>\n",
       "      <th>CO2</th>\n",
       "      <th>HumidityRatio</th>\n",
       "      <th>Occupancy</th>\n",
       "      <th>time</th>\n",
       "      <th>Temp_Hum_Ratio</th>\n",
       "    </tr>\n",
       "  </thead>\n",
       "  <tbody>\n",
       "    <tr>\n",
       "      <th>0</th>\n",
       "      <td>2015-02-02 14:19:00</td>\n",
       "      <td>23.7000</td>\n",
       "      <td>26.272</td>\n",
       "      <td>585.200000</td>\n",
       "      <td>749.200000</td>\n",
       "      <td>0.004764</td>\n",
       "      <td>1</td>\n",
       "      <td>14:19:00</td>\n",
       "      <td>0.902101</td>\n",
       "    </tr>\n",
       "    <tr>\n",
       "      <th>1</th>\n",
       "      <td>2015-02-02 14:19:59</td>\n",
       "      <td>23.7180</td>\n",
       "      <td>26.290</td>\n",
       "      <td>578.400000</td>\n",
       "      <td>760.400000</td>\n",
       "      <td>0.004773</td>\n",
       "      <td>1</td>\n",
       "      <td>14:19:59</td>\n",
       "      <td>0.902168</td>\n",
       "    </tr>\n",
       "    <tr>\n",
       "      <th>2</th>\n",
       "      <td>2015-02-02 14:21:00</td>\n",
       "      <td>23.7300</td>\n",
       "      <td>26.230</td>\n",
       "      <td>572.666667</td>\n",
       "      <td>769.666667</td>\n",
       "      <td>0.004765</td>\n",
       "      <td>1</td>\n",
       "      <td>14:21:00</td>\n",
       "      <td>0.904689</td>\n",
       "    </tr>\n",
       "    <tr>\n",
       "      <th>3</th>\n",
       "      <td>2015-02-02 14:22:00</td>\n",
       "      <td>23.7225</td>\n",
       "      <td>26.125</td>\n",
       "      <td>493.750000</td>\n",
       "      <td>774.750000</td>\n",
       "      <td>0.004744</td>\n",
       "      <td>1</td>\n",
       "      <td>14:22:00</td>\n",
       "      <td>0.908038</td>\n",
       "    </tr>\n",
       "    <tr>\n",
       "      <th>4</th>\n",
       "      <td>2015-02-02 14:23:00</td>\n",
       "      <td>23.7540</td>\n",
       "      <td>26.200</td>\n",
       "      <td>488.600000</td>\n",
       "      <td>779.000000</td>\n",
       "      <td>0.004767</td>\n",
       "      <td>1</td>\n",
       "      <td>14:23:00</td>\n",
       "      <td>0.906641</td>\n",
       "    </tr>\n",
       "  </tbody>\n",
       "</table>\n",
       "</div>"
      ],
      "text/plain": [
       "                  date  Temperature  Humidity       Light         CO2  \\\n",
       "0  2015-02-02 14:19:00      23.7000    26.272  585.200000  749.200000   \n",
       "1  2015-02-02 14:19:59      23.7180    26.290  578.400000  760.400000   \n",
       "2  2015-02-02 14:21:00      23.7300    26.230  572.666667  769.666667   \n",
       "3  2015-02-02 14:22:00      23.7225    26.125  493.750000  774.750000   \n",
       "4  2015-02-02 14:23:00      23.7540    26.200  488.600000  779.000000   \n",
       "\n",
       "   HumidityRatio  Occupancy      time  Temp_Hum_Ratio  \n",
       "0       0.004764          1  14:19:00        0.902101  \n",
       "1       0.004773          1  14:19:59        0.902168  \n",
       "2       0.004765          1  14:21:00        0.904689  \n",
       "3       0.004744          1  14:22:00        0.908038  \n",
       "4       0.004767          1  14:23:00        0.906641  "
      ]
     },
     "execution_count": 40,
     "metadata": {},
     "output_type": "execute_result"
    }
   ],
   "source": [
    "# Getting the 'Temperature' and 'Humidity' ratio and making a new column called 'Temp_Hum_Ratio'\n",
    "df['Temp_Hum_Ratio'] = df['Temperature'] / df['Humidity']\n",
    "df.head()"
   ]
  },
  {
   "cell_type": "code",
   "execution_count": 41,
   "metadata": {},
   "outputs": [
    {
     "data": {
      "text/html": [
       "<div>\n",
       "<style scoped>\n",
       "    .dataframe tbody tr th:only-of-type {\n",
       "        vertical-align: middle;\n",
       "    }\n",
       "\n",
       "    .dataframe tbody tr th {\n",
       "        vertical-align: top;\n",
       "    }\n",
       "\n",
       "    .dataframe thead th {\n",
       "        text-align: right;\n",
       "    }\n",
       "</style>\n",
       "<table border=\"1\" class=\"dataframe\">\n",
       "  <thead>\n",
       "    <tr style=\"text-align: right;\">\n",
       "      <th></th>\n",
       "      <th>date</th>\n",
       "      <th>Temperature</th>\n",
       "      <th>Humidity</th>\n",
       "      <th>Light</th>\n",
       "      <th>CO2</th>\n",
       "      <th>HumidityRatio</th>\n",
       "      <th>Occupancy</th>\n",
       "      <th>time</th>\n",
       "      <th>Temp_Hum_Ratio</th>\n",
       "      <th>DOTW</th>\n",
       "    </tr>\n",
       "  </thead>\n",
       "  <tbody>\n",
       "    <tr>\n",
       "      <th>0</th>\n",
       "      <td>2015-02-02 14:19:00</td>\n",
       "      <td>23.7000</td>\n",
       "      <td>26.272</td>\n",
       "      <td>585.200000</td>\n",
       "      <td>749.200000</td>\n",
       "      <td>0.004764</td>\n",
       "      <td>1</td>\n",
       "      <td>14:19:00</td>\n",
       "      <td>0.902101</td>\n",
       "      <td>Monday</td>\n",
       "    </tr>\n",
       "    <tr>\n",
       "      <th>1</th>\n",
       "      <td>2015-02-02 14:19:59</td>\n",
       "      <td>23.7180</td>\n",
       "      <td>26.290</td>\n",
       "      <td>578.400000</td>\n",
       "      <td>760.400000</td>\n",
       "      <td>0.004773</td>\n",
       "      <td>1</td>\n",
       "      <td>14:19:59</td>\n",
       "      <td>0.902168</td>\n",
       "      <td>Monday</td>\n",
       "    </tr>\n",
       "    <tr>\n",
       "      <th>2</th>\n",
       "      <td>2015-02-02 14:21:00</td>\n",
       "      <td>23.7300</td>\n",
       "      <td>26.230</td>\n",
       "      <td>572.666667</td>\n",
       "      <td>769.666667</td>\n",
       "      <td>0.004765</td>\n",
       "      <td>1</td>\n",
       "      <td>14:21:00</td>\n",
       "      <td>0.904689</td>\n",
       "      <td>Monday</td>\n",
       "    </tr>\n",
       "    <tr>\n",
       "      <th>3</th>\n",
       "      <td>2015-02-02 14:22:00</td>\n",
       "      <td>23.7225</td>\n",
       "      <td>26.125</td>\n",
       "      <td>493.750000</td>\n",
       "      <td>774.750000</td>\n",
       "      <td>0.004744</td>\n",
       "      <td>1</td>\n",
       "      <td>14:22:00</td>\n",
       "      <td>0.908038</td>\n",
       "      <td>Monday</td>\n",
       "    </tr>\n",
       "    <tr>\n",
       "      <th>4</th>\n",
       "      <td>2015-02-02 14:23:00</td>\n",
       "      <td>23.7540</td>\n",
       "      <td>26.200</td>\n",
       "      <td>488.600000</td>\n",
       "      <td>779.000000</td>\n",
       "      <td>0.004767</td>\n",
       "      <td>1</td>\n",
       "      <td>14:23:00</td>\n",
       "      <td>0.906641</td>\n",
       "      <td>Monday</td>\n",
       "    </tr>\n",
       "  </tbody>\n",
       "</table>\n",
       "</div>"
      ],
      "text/plain": [
       "                  date  Temperature  Humidity       Light         CO2  \\\n",
       "0  2015-02-02 14:19:00      23.7000    26.272  585.200000  749.200000   \n",
       "1  2015-02-02 14:19:59      23.7180    26.290  578.400000  760.400000   \n",
       "2  2015-02-02 14:21:00      23.7300    26.230  572.666667  769.666667   \n",
       "3  2015-02-02 14:22:00      23.7225    26.125  493.750000  774.750000   \n",
       "4  2015-02-02 14:23:00      23.7540    26.200  488.600000  779.000000   \n",
       "\n",
       "   HumidityRatio  Occupancy      time  Temp_Hum_Ratio    DOTW  \n",
       "0       0.004764          1  14:19:00        0.902101  Monday  \n",
       "1       0.004773          1  14:19:59        0.902168  Monday  \n",
       "2       0.004765          1  14:21:00        0.904689  Monday  \n",
       "3       0.004744          1  14:22:00        0.908038  Monday  \n",
       "4       0.004767          1  14:23:00        0.906641  Monday  "
      ]
     },
     "execution_count": 41,
     "metadata": {},
     "output_type": "execute_result"
    }
   ],
   "source": [
    "# getting the weekday from the 'date' column\n",
    "df['DOTW'] = pd.to_datetime(df['date']).dt.day_name()\n",
    "df.head()"
   ]
  },
  {
   "cell_type": "markdown",
   "metadata": {},
   "source": [
    "## We can not go extremely heavy on the Feature extraction\n",
    "\n",
    "### Why can't you go heavy on the feature extraction?\n",
    "\n",
    "This data set is going to train our IoT device to predict the next value in the sequence. This means that we need to be able to extract the most relevant information from the data set, and then use that information to train the model. If you start having lots and lots of features, then we are going to have to add more CPU and memory to the model, which is going to make it more expensive to run, and build. "
   ]
  },
  {
   "cell_type": "code",
   "execution_count": 42,
   "metadata": {},
   "outputs": [],
   "source": [
    "# making the column 'DOTW' to be catergorical and will now be changed to numerical values representing the days of the week\n",
    "day_mapping = {\n",
    "    'Monday': 1,\n",
    "    'Tuesday': 2,\n",
    "    'Wednesday': 3,\n",
    "    'Thursday': 4,\n",
    "    'Friday': 5,\n",
    "    'Saturday': 6,\n",
    "    'Sunday': 7\n",
    "}\n",
    "\n",
    "# now mapping the new values to the 'DOTW' column\n",
    "df['DOTW_encoded'] = df['DOTW'].map(day_mapping)\n"
   ]
  },
  {
   "cell_type": "code",
   "execution_count": 43,
   "metadata": {},
   "outputs": [],
   "source": [
    "# setting our target variable to be the 'Occupancy' column\n",
    "y = df['Occupancy']\n",
    "\n",
    "# setting our features to be the 'Temperature', 'Humidity', 'Light', 'CO2', 'HumidityRatio', 'Temp_Hum_Ratio', 'DOTW' columns\n",
    "X = df[['Temperature', 'Humidity', 'Light', 'CO2', 'HumidityRatio', 'Temp_Hum_Ratio', 'DOTW_encoded']]"
   ]
  },
  {
   "cell_type": "code",
   "execution_count": 44,
   "metadata": {},
   "outputs": [],
   "source": [
    "# Splitting the data into training and testing sets to keep it linear when we are optimizing the models\n",
    "\n",
    "X_train, X_test, y_train, y_test = train_test_split(X, y, test_size=0.2, random_state=42)"
   ]
  },
  {
   "cell_type": "markdown",
   "metadata": {},
   "source": [
    "### We are going to make the models and only change one of the features at a time, and then see how well the model performs. We are going to start by making changes to the layers in the model. We are looking to achevive a model thats accuracy is around 93% or higher, for us to switch and move onto the next feature."
   ]
  },
  {
   "cell_type": "markdown",
   "metadata": {},
   "source": [
    "#### Model 1: One input layer, one hidden layer with 50 Neurons, and one output layer."
   ]
  },
  {
   "cell_type": "code",
   "execution_count": 45,
   "metadata": {},
   "outputs": [],
   "source": [
    "# Setting the LTSM model to be one input layer, one hidden layer and one output layer with 50 neurons\n",
    "model = tf.keras.models.Sequential([\n",
    "    tf.keras.layers.Dense(50, input_dim=7, activation='relu'),\n",
    "    tf.keras.layers.Dense(50, activation='relu'),\n",
    "    tf.keras.layers.Dense(1, activation='sigmoid')\n",
    "])"
   ]
  },
  {
   "cell_type": "code",
   "execution_count": 46,
   "metadata": {},
   "outputs": [],
   "source": [
    "# model 2 with 50 neurons in the first, 100 in the second and then 50 in the third \n",
    "\n",
    "model_2 = tf.keras.models.Sequential([\n",
    "    tf.keras.layers.Dense(50, activation='relu'),\n",
    "    tf.keras.layers.Dense(100, activation='relu'),\n",
    "    tf.keras.layers.Dense(50, activation='relu'),\n",
    "    tf.keras.layers.Dense(1, activation='sigmoid')\n",
    "])"
   ]
  },
  {
   "cell_type": "code",
   "execution_count": 47,
   "metadata": {},
   "outputs": [],
   "source": [
    "# model 3 with 50 neurons in the first, 100 in the second and then 100 in the third\n",
    "\n",
    "model_3 = tf.keras.models.Sequential([\n",
    "    tf.keras.layers.Dense(50, activation='relu'),\n",
    "    tf.keras.layers.Dense(100, activation='relu'),\n",
    "    tf.keras.layers.Dense(100, activation='relu'),\n",
    "    tf.keras.layers.Dense(1, activation='sigmoid')\n",
    "])"
   ]
  },
  {
   "cell_type": "markdown",
   "metadata": {},
   "source": [
    "## Model 1 Creation and Evaluation"
   ]
  },
  {
   "cell_type": "code",
   "execution_count": 48,
   "metadata": {},
   "outputs": [
    {
     "name": "stdout",
     "output_type": "stream",
     "text": [
      "Epoch 1/50\n"
     ]
    },
    {
     "name": "stdout",
     "output_type": "stream",
     "text": [
      "1316/1316 [==============================] - 3s 1ms/step - loss: 0.6347 - accuracy: 0.9435 - val_loss: 0.3211 - val_accuracy: 0.9641\n",
      "Epoch 2/50\n",
      "1316/1316 [==============================] - 2s 1ms/step - loss: 0.2551 - accuracy: 0.9678 - val_loss: 0.3028 - val_accuracy: 0.9687\n",
      "Epoch 3/50\n",
      "1316/1316 [==============================] - 2s 1ms/step - loss: 0.2618 - accuracy: 0.9695 - val_loss: 0.1527 - val_accuracy: 0.9845\n",
      "Epoch 4/50\n",
      "1316/1316 [==============================] - 2s 1ms/step - loss: 0.2150 - accuracy: 0.9732 - val_loss: 0.1973 - val_accuracy: 0.9824\n",
      "Epoch 5/50\n",
      "1316/1316 [==============================] - 2s 1ms/step - loss: 0.1887 - accuracy: 0.9759 - val_loss: 0.0892 - val_accuracy: 0.9772\n",
      "Epoch 6/50\n",
      "1316/1316 [==============================] - 2s 1ms/step - loss: 0.1535 - accuracy: 0.9773 - val_loss: 0.2204 - val_accuracy: 0.9723\n",
      "Epoch 7/50\n",
      "1316/1316 [==============================] - 2s 1ms/step - loss: 0.1191 - accuracy: 0.9789 - val_loss: 0.0879 - val_accuracy: 0.9647\n",
      "Epoch 8/50\n",
      "1316/1316 [==============================] - 2s 1ms/step - loss: 0.1069 - accuracy: 0.9794 - val_loss: 0.0828 - val_accuracy: 0.9866\n",
      "Epoch 9/50\n",
      "1316/1316 [==============================] - 1s 1ms/step - loss: 0.0881 - accuracy: 0.9805 - val_loss: 0.1281 - val_accuracy: 0.9787\n",
      "Epoch 10/50\n",
      "1316/1316 [==============================] - 1s 1ms/step - loss: 0.0771 - accuracy: 0.9834 - val_loss: 0.2273 - val_accuracy: 0.9605\n",
      "Epoch 11/50\n",
      "1316/1316 [==============================] - 1s 1ms/step - loss: 0.0709 - accuracy: 0.9843 - val_loss: 0.1271 - val_accuracy: 0.9310\n",
      "Epoch 12/50\n",
      "1316/1316 [==============================] - 2s 1ms/step - loss: 0.0735 - accuracy: 0.9820 - val_loss: 0.0720 - val_accuracy: 0.9860\n",
      "Epoch 13/50\n",
      "1316/1316 [==============================] - 1s 1ms/step - loss: 0.0648 - accuracy: 0.9859 - val_loss: 0.0596 - val_accuracy: 0.9860\n",
      "Epoch 14/50\n",
      "1316/1316 [==============================] - 1s 1ms/step - loss: 0.0603 - accuracy: 0.9875 - val_loss: 0.0563 - val_accuracy: 0.9857\n",
      "Epoch 15/50\n",
      "1316/1316 [==============================] - 2s 1ms/step - loss: 0.0548 - accuracy: 0.9884 - val_loss: 0.0850 - val_accuracy: 0.9796\n",
      "Epoch 16/50\n",
      "1316/1316 [==============================] - 1s 1ms/step - loss: 0.0548 - accuracy: 0.9870 - val_loss: 0.0853 - val_accuracy: 0.9857\n",
      "Epoch 17/50\n",
      "1316/1316 [==============================] - 1s 1ms/step - loss: 0.0497 - accuracy: 0.9890 - val_loss: 0.0510 - val_accuracy: 0.9860\n",
      "Epoch 18/50\n",
      "1316/1316 [==============================] - 1s 1ms/step - loss: 0.0488 - accuracy: 0.9891 - val_loss: 0.0534 - val_accuracy: 0.9863\n",
      "Epoch 19/50\n",
      "1316/1316 [==============================] - 1s 1ms/step - loss: 0.0465 - accuracy: 0.9892 - val_loss: 0.0489 - val_accuracy: 0.9857\n",
      "Epoch 20/50\n",
      "1316/1316 [==============================] - 2s 1ms/step - loss: 0.0461 - accuracy: 0.9891 - val_loss: 0.0505 - val_accuracy: 0.9857\n",
      "Epoch 21/50\n",
      "1316/1316 [==============================] - 1s 1ms/step - loss: 0.0456 - accuracy: 0.9893 - val_loss: 0.0492 - val_accuracy: 0.9860\n",
      "Epoch 22/50\n",
      "1316/1316 [==============================] - 1s 1ms/step - loss: 0.0471 - accuracy: 0.9888 - val_loss: 0.0546 - val_accuracy: 0.9860\n",
      "Epoch 23/50\n",
      "1316/1316 [==============================] - 1s 1ms/step - loss: 0.0450 - accuracy: 0.9895 - val_loss: 0.0489 - val_accuracy: 0.9860\n",
      "Epoch 24/50\n",
      "1316/1316 [==============================] - 1s 1ms/step - loss: 0.0447 - accuracy: 0.9898 - val_loss: 0.0529 - val_accuracy: 0.9851\n",
      "Epoch 25/50\n",
      "1316/1316 [==============================] - 1s 1ms/step - loss: 0.0456 - accuracy: 0.9892 - val_loss: 0.0540 - val_accuracy: 0.9842\n",
      "Epoch 26/50\n",
      "1316/1316 [==============================] - 1s 1ms/step - loss: 0.0450 - accuracy: 0.9892 - val_loss: 0.0556 - val_accuracy: 0.9860\n",
      "Epoch 27/50\n",
      "1316/1316 [==============================] - 1s 1ms/step - loss: 0.0464 - accuracy: 0.9892 - val_loss: 0.0547 - val_accuracy: 0.9854\n",
      "Epoch 28/50\n",
      "1316/1316 [==============================] - 2s 1ms/step - loss: 0.0453 - accuracy: 0.9892 - val_loss: 0.0509 - val_accuracy: 0.9866\n",
      "Epoch 29/50\n",
      "1316/1316 [==============================] - 1s 1ms/step - loss: 0.0441 - accuracy: 0.9894 - val_loss: 0.0548 - val_accuracy: 0.9860\n",
      "Epoch 30/50\n",
      "1316/1316 [==============================] - 1s 1ms/step - loss: 0.0453 - accuracy: 0.9894 - val_loss: 0.0482 - val_accuracy: 0.9857\n",
      "Epoch 31/50\n",
      "1316/1316 [==============================] - 1s 1ms/step - loss: 0.0434 - accuracy: 0.9896 - val_loss: 0.0545 - val_accuracy: 0.9866\n",
      "Epoch 32/50\n",
      "1316/1316 [==============================] - 1s 1ms/step - loss: 0.0448 - accuracy: 0.9893 - val_loss: 0.0492 - val_accuracy: 0.9860\n",
      "Epoch 33/50\n",
      "1316/1316 [==============================] - 1s 1ms/step - loss: 0.0451 - accuracy: 0.9897 - val_loss: 0.0479 - val_accuracy: 0.9866\n",
      "Epoch 34/50\n",
      "1316/1316 [==============================] - 1s 1ms/step - loss: 0.0446 - accuracy: 0.9890 - val_loss: 0.0527 - val_accuracy: 0.9860\n",
      "Epoch 35/50\n",
      "1316/1316 [==============================] - 2s 1ms/step - loss: 0.0442 - accuracy: 0.9895 - val_loss: 0.0513 - val_accuracy: 0.9860\n",
      "Epoch 36/50\n",
      "1316/1316 [==============================] - 1s 1ms/step - loss: 0.0430 - accuracy: 0.9896 - val_loss: 0.0517 - val_accuracy: 0.9866\n",
      "Epoch 37/50\n",
      "1316/1316 [==============================] - 1s 1ms/step - loss: 0.0467 - accuracy: 0.9890 - val_loss: 0.0534 - val_accuracy: 0.9848\n",
      "Epoch 38/50\n",
      "1316/1316 [==============================] - 1s 1ms/step - loss: 0.0459 - accuracy: 0.9891 - val_loss: 0.0591 - val_accuracy: 0.9802\n",
      "Epoch 39/50\n",
      "1316/1316 [==============================] - 1s 1ms/step - loss: 0.0443 - accuracy: 0.9888 - val_loss: 0.0602 - val_accuracy: 0.9842\n",
      "Epoch 40/50\n",
      "1316/1316 [==============================] - 1s 1ms/step - loss: 0.0439 - accuracy: 0.9893 - val_loss: 0.0610 - val_accuracy: 0.9827\n",
      "Epoch 41/50\n",
      "1316/1316 [==============================] - 2s 1ms/step - loss: 0.0437 - accuracy: 0.9891 - val_loss: 0.0494 - val_accuracy: 0.9860\n",
      "Epoch 42/50\n",
      "1316/1316 [==============================] - 2s 1ms/step - loss: 0.0442 - accuracy: 0.9891 - val_loss: 0.0505 - val_accuracy: 0.9866\n",
      "Epoch 43/50\n",
      "1316/1316 [==============================] - 1s 1ms/step - loss: 0.0439 - accuracy: 0.9894 - val_loss: 0.0506 - val_accuracy: 0.9860\n",
      "Epoch 44/50\n",
      "1316/1316 [==============================] - 1s 1ms/step - loss: 0.0432 - accuracy: 0.9895 - val_loss: 0.0490 - val_accuracy: 0.9866\n",
      "Epoch 45/50\n",
      "1316/1316 [==============================] - 2s 1ms/step - loss: 0.0438 - accuracy: 0.9894 - val_loss: 0.0492 - val_accuracy: 0.9860\n",
      "Epoch 46/50\n",
      "1316/1316 [==============================] - 2s 1ms/step - loss: 0.0444 - accuracy: 0.9896 - val_loss: 0.0509 - val_accuracy: 0.9860\n",
      "Epoch 47/50\n",
      "1316/1316 [==============================] - 2s 1ms/step - loss: 0.0434 - accuracy: 0.9897 - val_loss: 0.0515 - val_accuracy: 0.9860\n",
      "Epoch 48/50\n",
      "1316/1316 [==============================] - 1s 1ms/step - loss: 0.0437 - accuracy: 0.9897 - val_loss: 0.0486 - val_accuracy: 0.9860\n",
      "Epoch 49/50\n",
      "1316/1316 [==============================] - 2s 1ms/step - loss: 0.0438 - accuracy: 0.9894 - val_loss: 0.0503 - val_accuracy: 0.9860\n",
      "Epoch 50/50\n",
      "1316/1316 [==============================] - 2s 1ms/step - loss: 0.0426 - accuracy: 0.9900 - val_loss: 0.0500 - val_accuracy: 0.9860\n"
     ]
    }
   ],
   "source": [
    "# model 1 \n",
    "model.compile(optimizer='adam',\n",
    "              loss='binary_crossentropy',\n",
    "              metrics=['accuracy'])\n",
    "\n",
    "# training \n",
    "start_time = time.time()\n",
    "history = model.fit(X_train, y_train, epochs=50, validation_split=0.2, batch_size=10, verbose=1)\n",
    "end_time = time.time()"
   ]
  },
  {
   "cell_type": "code",
   "execution_count": 49,
   "metadata": {},
   "outputs": [
    {
     "name": "stdout",
     "output_type": "stream",
     "text": [
      "Model 1 Training Time: 76.38 seconds\n"
     ]
    }
   ],
   "source": [
    "# calculating the training time \n",
    "training_time = end_time - start_time\n",
    "print(f\"Model 1 Training Time: {training_time:.2f} seconds\")"
   ]
  },
  {
   "cell_type": "code",
   "execution_count": 50,
   "metadata": {},
   "outputs": [
    {
     "name": "stdout",
     "output_type": "stream",
     "text": [
      "129/129 [==============================] - 0s 932us/step - loss: 0.0326 - accuracy: 0.9922\n",
      "Model 1 Test Accuracy: 99.22%\n"
     ]
    }
   ],
   "source": [
    "# eval model 1 \n",
    "test_loss, test_accuracy = model.evaluate(X_test, y_test, verbose=1)\n",
    "print(f\"Model 1 Test Accuracy: {test_accuracy*100:.2f}%\")"
   ]
  },
  {
   "cell_type": "code",
   "execution_count": 51,
   "metadata": {},
   "outputs": [
    {
     "data": {
      "image/png": "[encoded data removed]",
      "text/plain": [
       "<Figure size 640x480 with 1 Axes>"
      ]
     },
     "metadata": {},
     "output_type": "display_data"
    }
   ],
   "source": [
    "# plotting\n",
    "plt.plot(history.history['accuracy'], label='Training accuracy')\n",
    "plt.plot(history.history['val_accuracy'], label='Validation accuracy')\n",
    "plt.title('Model 1 Training and Validation Accuracy')\n",
    "plt.ylabel('Accuracy')\n",
    "plt.xlabel('Epoch')\n",
    "plt.legend()\n",
    "plt.show()"
   ]
  },
  {
   "cell_type": "markdown",
   "metadata": {},
   "source": [
    "# Model 2 Creation and Evaluation"
   ]
  },
  {
   "cell_type": "code",
   "execution_count": 52,
   "metadata": {},
   "outputs": [
    {
     "name": "stdout",
     "output_type": "stream",
     "text": [
      "Epoch 1/50\n",
      "1316/1316 [==============================] - 2s 1ms/step - loss: 0.4723 - accuracy: 0.9408 - val_loss: 0.7441 - val_accuracy: 0.9383\n",
      "Epoch 2/50\n",
      "1316/1316 [==============================] - 2s 1ms/step - loss: 0.1366 - accuracy: 0.9685 - val_loss: 0.1221 - val_accuracy: 0.9675\n",
      "Epoch 3/50\n",
      "1316/1316 [==============================] - 2s 1ms/step - loss: 0.0896 - accuracy: 0.9764 - val_loss: 0.0635 - val_accuracy: 0.9860\n",
      "Epoch 4/50\n",
      "1316/1316 [==============================] - 2s 1ms/step - loss: 0.0603 - accuracy: 0.9831 - val_loss: 0.0668 - val_accuracy: 0.9815\n",
      "Epoch 5/50\n",
      "1316/1316 [==============================] - 2s 1ms/step - loss: 0.0627 - accuracy: 0.9838 - val_loss: 0.0627 - val_accuracy: 0.9833\n",
      "Epoch 6/50\n",
      "1316/1316 [==============================] - 2s 1ms/step - loss: 0.0628 - accuracy: 0.9833 - val_loss: 0.0628 - val_accuracy: 0.9815\n",
      "Epoch 7/50\n",
      "1316/1316 [==============================] - 2s 1ms/step - loss: 0.0537 - accuracy: 0.9868 - val_loss: 0.0537 - val_accuracy: 0.9854\n",
      "Epoch 8/50\n",
      "1316/1316 [==============================] - 2s 1ms/step - loss: 0.0565 - accuracy: 0.9863 - val_loss: 0.0534 - val_accuracy: 0.9860\n",
      "Epoch 9/50\n",
      "1316/1316 [==============================] - 2s 1ms/step - loss: 0.0501 - accuracy: 0.9876 - val_loss: 0.0628 - val_accuracy: 0.9763\n",
      "Epoch 10/50\n",
      "1316/1316 [==============================] - 2s 1ms/step - loss: 0.0482 - accuracy: 0.9887 - val_loss: 0.0724 - val_accuracy: 0.9772\n",
      "Epoch 11/50\n",
      "1316/1316 [==============================] - 2s 1ms/step - loss: 0.0496 - accuracy: 0.9879 - val_loss: 0.0648 - val_accuracy: 0.9824\n",
      "Epoch 12/50\n",
      "1316/1316 [==============================] - 2s 1ms/step - loss: 0.0507 - accuracy: 0.9882 - val_loss: 0.0519 - val_accuracy: 0.9857\n",
      "Epoch 13/50\n",
      "1316/1316 [==============================] - 2s 1ms/step - loss: 0.0481 - accuracy: 0.9891 - val_loss: 0.0547 - val_accuracy: 0.9857\n",
      "Epoch 14/50\n",
      "1316/1316 [==============================] - 2s 1ms/step - loss: 0.0508 - accuracy: 0.9885 - val_loss: 0.0572 - val_accuracy: 0.9830\n",
      "Epoch 15/50\n",
      "1316/1316 [==============================] - 2s 1ms/step - loss: 0.0469 - accuracy: 0.9892 - val_loss: 0.0523 - val_accuracy: 0.9863\n",
      "Epoch 16/50\n",
      "1316/1316 [==============================] - 2s 1ms/step - loss: 0.0461 - accuracy: 0.9893 - val_loss: 0.0516 - val_accuracy: 0.9860\n",
      "Epoch 17/50\n",
      "1316/1316 [==============================] - 2s 1ms/step - loss: 0.0492 - accuracy: 0.9887 - val_loss: 0.0529 - val_accuracy: 0.9857\n",
      "Epoch 18/50\n",
      "1316/1316 [==============================] - 2s 1ms/step - loss: 0.0458 - accuracy: 0.9890 - val_loss: 0.0570 - val_accuracy: 0.9848\n",
      "Epoch 19/50\n",
      "1316/1316 [==============================] - 2s 1ms/step - loss: 0.0449 - accuracy: 0.9897 - val_loss: 0.0515 - val_accuracy: 0.9866\n",
      "Epoch 20/50\n",
      "1316/1316 [==============================] - 2s 1ms/step - loss: 0.0452 - accuracy: 0.9891 - val_loss: 0.0506 - val_accuracy: 0.9860\n",
      "Epoch 21/50\n",
      "1316/1316 [==============================] - 2s 1ms/step - loss: 0.0456 - accuracy: 0.9891 - val_loss: 0.0511 - val_accuracy: 0.9860\n",
      "Epoch 22/50\n",
      "1316/1316 [==============================] - 2s 1ms/step - loss: 0.0453 - accuracy: 0.9893 - val_loss: 0.0493 - val_accuracy: 0.9866\n",
      "Epoch 23/50\n",
      "1316/1316 [==============================] - 2s 1ms/step - loss: 0.0475 - accuracy: 0.9892 - val_loss: 0.0537 - val_accuracy: 0.9860\n",
      "Epoch 24/50\n",
      "1316/1316 [==============================] - 2s 1ms/step - loss: 0.0464 - accuracy: 0.9891 - val_loss: 0.0520 - val_accuracy: 0.9866\n",
      "Epoch 25/50\n",
      "1316/1316 [==============================] - 2s 1ms/step - loss: 0.0456 - accuracy: 0.9894 - val_loss: 0.0521 - val_accuracy: 0.9866\n",
      "Epoch 26/50\n",
      "1316/1316 [==============================] - 2s 1ms/step - loss: 0.0464 - accuracy: 0.9896 - val_loss: 0.0495 - val_accuracy: 0.9866\n",
      "Epoch 27/50\n",
      "1316/1316 [==============================] - 2s 1ms/step - loss: 0.0447 - accuracy: 0.9893 - val_loss: 0.0545 - val_accuracy: 0.9860\n",
      "Epoch 28/50\n",
      "1316/1316 [==============================] - 2s 1ms/step - loss: 0.0496 - accuracy: 0.9876 - val_loss: 0.0653 - val_accuracy: 0.9790\n",
      "Epoch 29/50\n",
      "1316/1316 [==============================] - 2s 1ms/step - loss: 0.0447 - accuracy: 0.9894 - val_loss: 0.0486 - val_accuracy: 0.9866\n",
      "Epoch 30/50\n",
      "1316/1316 [==============================] - 2s 1ms/step - loss: 0.0457 - accuracy: 0.9896 - val_loss: 0.0506 - val_accuracy: 0.9860\n",
      "Epoch 31/50\n",
      "1316/1316 [==============================] - 2s 1ms/step - loss: 0.0448 - accuracy: 0.9896 - val_loss: 0.0514 - val_accuracy: 0.9866\n",
      "Epoch 32/50\n",
      "1316/1316 [==============================] - 2s 1ms/step - loss: 0.0477 - accuracy: 0.9888 - val_loss: 0.0486 - val_accuracy: 0.9860\n",
      "Epoch 33/50\n",
      "1316/1316 [==============================] - 2s 1ms/step - loss: 0.0466 - accuracy: 0.9894 - val_loss: 0.0841 - val_accuracy: 0.9860\n",
      "Epoch 34/50\n",
      "1316/1316 [==============================] - 2s 1ms/step - loss: 0.0453 - accuracy: 0.9892 - val_loss: 0.0509 - val_accuracy: 0.9860\n",
      "Epoch 35/50\n",
      "1316/1316 [==============================] - 2s 1ms/step - loss: 0.0445 - accuracy: 0.9893 - val_loss: 0.0518 - val_accuracy: 0.9866\n",
      "Epoch 36/50\n",
      "1316/1316 [==============================] - 2s 1ms/step - loss: 0.0444 - accuracy: 0.9895 - val_loss: 0.0533 - val_accuracy: 0.9860\n",
      "Epoch 37/50\n",
      "1316/1316 [==============================] - 2s 1ms/step - loss: 0.0435 - accuracy: 0.9897 - val_loss: 0.0532 - val_accuracy: 0.9860\n",
      "Epoch 38/50\n",
      "1316/1316 [==============================] - 2s 1ms/step - loss: 0.0431 - accuracy: 0.9896 - val_loss: 0.0508 - val_accuracy: 0.9860\n",
      "Epoch 39/50\n",
      "1316/1316 [==============================] - 2s 1ms/step - loss: 0.0440 - accuracy: 0.9891 - val_loss: 0.0486 - val_accuracy: 0.9866\n",
      "Epoch 40/50\n",
      "1316/1316 [==============================] - 2s 1ms/step - loss: 0.0425 - accuracy: 0.9897 - val_loss: 0.0494 - val_accuracy: 0.9860\n",
      "Epoch 41/50\n",
      "1316/1316 [==============================] - 2s 1ms/step - loss: 0.0439 - accuracy: 0.9897 - val_loss: 0.0504 - val_accuracy: 0.9866\n",
      "Epoch 42/50\n",
      "1316/1316 [==============================] - 2s 1ms/step - loss: 0.0429 - accuracy: 0.9897 - val_loss: 0.0479 - val_accuracy: 0.9866\n",
      "Epoch 43/50\n",
      "1316/1316 [==============================] - 2s 1ms/step - loss: 0.0439 - accuracy: 0.9892 - val_loss: 0.0470 - val_accuracy: 0.9869\n",
      "Epoch 44/50\n",
      "1316/1316 [==============================] - 2s 1ms/step - loss: 0.0426 - accuracy: 0.9893 - val_loss: 0.0684 - val_accuracy: 0.9742\n",
      "Epoch 45/50\n",
      "1316/1316 [==============================] - 2s 1ms/step - loss: 0.0445 - accuracy: 0.9897 - val_loss: 0.0477 - val_accuracy: 0.9866\n",
      "Epoch 46/50\n",
      "1316/1316 [==============================] - 2s 1ms/step - loss: 0.0422 - accuracy: 0.9897 - val_loss: 0.0508 - val_accuracy: 0.9860\n",
      "Epoch 47/50\n",
      "1316/1316 [==============================] - 2s 1ms/step - loss: 0.0437 - accuracy: 0.9891 - val_loss: 0.0525 - val_accuracy: 0.9860\n",
      "Epoch 48/50\n",
      "1316/1316 [==============================] - 2s 1ms/step - loss: 0.0423 - accuracy: 0.9899 - val_loss: 0.0533 - val_accuracy: 0.9866\n",
      "Epoch 49/50\n",
      "1316/1316 [==============================] - 2s 1ms/step - loss: 0.0435 - accuracy: 0.9891 - val_loss: 0.0485 - val_accuracy: 0.9866\n",
      "Epoch 50/50\n",
      "1316/1316 [==============================] - 2s 1ms/step - loss: 0.0434 - accuracy: 0.9894 - val_loss: 0.0529 - val_accuracy: 0.9860\n"
     ]
    }
   ],
   "source": [
    "# making model 2 \n",
    "model_2.compile(optimizer='adam',\n",
    "                loss='binary_crossentropy',\n",
    "                metrics=['accuracy'])\n",
    "\n",
    "# training model 2 \n",
    "start_time = time.time()  # Start time for training\n",
    "history_2 = model_2.fit(X_train, y_train, epochs=50, validation_split=0.2, batch_size=10, verbose=1)\n",
    "end_time = time.time()  # End time for training"
   ]
  },
  {
   "cell_type": "code",
   "execution_count": 53,
   "metadata": {},
   "outputs": [
    {
     "name": "stdout",
     "output_type": "stream",
     "text": [
      "Model 2 Training Time: 85.08 seconds\n"
     ]
    }
   ],
   "source": [
    "# calc and print the training time \n",
    "training_time_2 = end_time - start_time\n",
    "print(f\"Model 2 Training Time: {training_time_2:.2f} seconds\")"
   ]
  },
  {
   "cell_type": "code",
   "execution_count": 54,
   "metadata": {},
   "outputs": [
    {
     "name": "stdout",
     "output_type": "stream",
     "text": [
      "129/129 [==============================] - 0s 849us/step - loss: 0.0319 - accuracy: 0.9925\n",
      "Model 2 Test Accuracy: 99.25%\n"
     ]
    }
   ],
   "source": [
    "# eval model 2\n",
    "test_loss_2, test_accuracy_2 = model_2.evaluate(X_test, y_test, verbose=1)\n",
    "print(f\"Model 2 Test Accuracy: {test_accuracy_2*100:.2f}%\")"
   ]
  },
  {
   "cell_type": "code",
   "execution_count": 55,
   "metadata": {},
   "outputs": [
    {
     "data": {
      "image/png": "[encoded data removed]",
      "text/plain": [
       "<Figure size 640x480 with 1 Axes>"
      ]
     },
     "metadata": {},
     "output_type": "display_data"
    }
   ],
   "source": [
    "# plotting ltsm 2 \n",
    "plt.plot(history_2.history['accuracy'], label='Training accuracy')\n",
    "plt.plot(history_2.history['val_accuracy'], label='Validation accuracy')\n",
    "plt.title('Model 2 Training and Validation Accuracy')\n",
    "plt.ylabel('Accuracy')\n",
    "plt.xlabel('Epoch')\n",
    "plt.legend()\n",
    "plt.show()"
   ]
  },
  {
   "cell_type": "markdown",
   "metadata": {},
   "source": [
    "# Model 3 Creation and Evaluation"
   ]
  },
  {
   "cell_type": "code",
   "execution_count": 56,
   "metadata": {},
   "outputs": [
    {
     "name": "stdout",
     "output_type": "stream",
     "text": [
      "Epoch 1/50\n",
      "1316/1316 [==============================] - 3s 2ms/step - loss: 0.3570 - accuracy: 0.9485 - val_loss: 0.0910 - val_accuracy: 0.9657\n",
      "Epoch 2/50\n",
      "1316/1316 [==============================] - 2s 1ms/step - loss: 0.1008 - accuracy: 0.9717 - val_loss: 0.0670 - val_accuracy: 0.9815\n",
      "Epoch 3/50\n",
      "1316/1316 [==============================] - 2s 1ms/step - loss: 0.0838 - accuracy: 0.9760 - val_loss: 0.0725 - val_accuracy: 0.9784\n",
      "Epoch 4/50\n",
      "1316/1316 [==============================] - 2s 1ms/step - loss: 0.0633 - accuracy: 0.9843 - val_loss: 0.0641 - val_accuracy: 0.9742\n",
      "Epoch 5/50\n",
      "1316/1316 [==============================] - 2s 1ms/step - loss: 0.0685 - accuracy: 0.9817 - val_loss: 0.0676 - val_accuracy: 0.9784\n",
      "Epoch 6/50\n",
      "1316/1316 [==============================] - 2s 1ms/step - loss: 0.0575 - accuracy: 0.9856 - val_loss: 0.0672 - val_accuracy: 0.9702\n",
      "Epoch 7/50\n",
      "1316/1316 [==============================] - 2s 1ms/step - loss: 0.0658 - accuracy: 0.9821 - val_loss: 0.0521 - val_accuracy: 0.9857\n",
      "Epoch 8/50\n",
      "1316/1316 [==============================] - 2s 1ms/step - loss: 0.0533 - accuracy: 0.9870 - val_loss: 0.0521 - val_accuracy: 0.9866\n",
      "Epoch 9/50\n",
      "1316/1316 [==============================] - 2s 1ms/step - loss: 0.0558 - accuracy: 0.9865 - val_loss: 0.0746 - val_accuracy: 0.9726\n",
      "Epoch 10/50\n",
      "1316/1316 [==============================] - 2s 1ms/step - loss: 0.0493 - accuracy: 0.9887 - val_loss: 0.0557 - val_accuracy: 0.9860\n",
      "Epoch 11/50\n",
      "1316/1316 [==============================] - 2s 1ms/step - loss: 0.0504 - accuracy: 0.9874 - val_loss: 0.0719 - val_accuracy: 0.9696\n",
      "Epoch 12/50\n",
      "1316/1316 [==============================] - 2s 1ms/step - loss: 0.0476 - accuracy: 0.9891 - val_loss: 0.0545 - val_accuracy: 0.9848\n",
      "Epoch 13/50\n",
      "1316/1316 [==============================] - 2s 1ms/step - loss: 0.0505 - accuracy: 0.9884 - val_loss: 0.0550 - val_accuracy: 0.9863\n",
      "Epoch 14/50\n",
      "1316/1316 [==============================] - 2s 1ms/step - loss: 0.0470 - accuracy: 0.9888 - val_loss: 0.0550 - val_accuracy: 0.9860\n",
      "Epoch 15/50\n",
      "1316/1316 [==============================] - 2s 1ms/step - loss: 0.0552 - accuracy: 0.9860 - val_loss: 0.1000 - val_accuracy: 0.9684\n",
      "Epoch 16/50\n",
      "1316/1316 [==============================] - 2s 1ms/step - loss: 0.0508 - accuracy: 0.9881 - val_loss: 0.0544 - val_accuracy: 0.9860\n",
      "Epoch 17/50\n",
      "1316/1316 [==============================] - 2s 1ms/step - loss: 0.0462 - accuracy: 0.9892 - val_loss: 0.0628 - val_accuracy: 0.9851\n",
      "Epoch 18/50\n",
      "1316/1316 [==============================] - 2s 1ms/step - loss: 0.0472 - accuracy: 0.9890 - val_loss: 0.0703 - val_accuracy: 0.9787\n",
      "Epoch 19/50\n",
      "1316/1316 [==============================] - 2s 1ms/step - loss: 0.0479 - accuracy: 0.9888 - val_loss: 0.0837 - val_accuracy: 0.9793\n",
      "Epoch 20/50\n",
      "1316/1316 [==============================] - 2s 1ms/step - loss: 0.0456 - accuracy: 0.9892 - val_loss: 0.0558 - val_accuracy: 0.9830\n",
      "Epoch 21/50\n",
      "1316/1316 [==============================] - 2s 1ms/step - loss: 0.0454 - accuracy: 0.9890 - val_loss: 0.0570 - val_accuracy: 0.9818\n",
      "Epoch 22/50\n",
      "1316/1316 [==============================] - 2s 1ms/step - loss: 0.0462 - accuracy: 0.9888 - val_loss: 0.0556 - val_accuracy: 0.9860\n",
      "Epoch 23/50\n",
      "1316/1316 [==============================] - 2s 1ms/step - loss: 0.0441 - accuracy: 0.9894 - val_loss: 0.0503 - val_accuracy: 0.9860\n",
      "Epoch 24/50\n",
      "1316/1316 [==============================] - 2s 1ms/step - loss: 0.0457 - accuracy: 0.9892 - val_loss: 0.0533 - val_accuracy: 0.9860\n",
      "Epoch 25/50\n",
      "1316/1316 [==============================] - 2s 1ms/step - loss: 0.0495 - accuracy: 0.9885 - val_loss: 0.0484 - val_accuracy: 0.9866\n",
      "Epoch 26/50\n",
      "1316/1316 [==============================] - 2s 1ms/step - loss: 0.0452 - accuracy: 0.9896 - val_loss: 0.0528 - val_accuracy: 0.9860\n",
      "Epoch 27/50\n",
      "1316/1316 [==============================] - 2s 1ms/step - loss: 0.0459 - accuracy: 0.9894 - val_loss: 0.0493 - val_accuracy: 0.9866\n",
      "Epoch 28/50\n",
      "1316/1316 [==============================] - 2s 1ms/step - loss: 0.0464 - accuracy: 0.9894 - val_loss: 0.0495 - val_accuracy: 0.9857\n",
      "Epoch 29/50\n",
      "1316/1316 [==============================] - 2s 1ms/step - loss: 0.0498 - accuracy: 0.9875 - val_loss: 0.0527 - val_accuracy: 0.9848\n",
      "Epoch 30/50\n",
      "1316/1316 [==============================] - 2s 1ms/step - loss: 0.0494 - accuracy: 0.9887 - val_loss: 0.0599 - val_accuracy: 0.9851\n",
      "Epoch 31/50\n",
      "1316/1316 [==============================] - 2s 1ms/step - loss: 0.0442 - accuracy: 0.9897 - val_loss: 0.1698 - val_accuracy: 0.9298\n",
      "Epoch 32/50\n",
      "1316/1316 [==============================] - 2s 1ms/step - loss: 0.0443 - accuracy: 0.9893 - val_loss: 0.0543 - val_accuracy: 0.9860\n",
      "Epoch 33/50\n",
      "1316/1316 [==============================] - 2s 1ms/step - loss: 0.0451 - accuracy: 0.9894 - val_loss: 0.0500 - val_accuracy: 0.9866\n",
      "Epoch 34/50\n",
      "1316/1316 [==============================] - 2s 1ms/step - loss: 0.0453 - accuracy: 0.9891 - val_loss: 0.0511 - val_accuracy: 0.9860\n",
      "Epoch 35/50\n",
      "1316/1316 [==============================] - 2s 1ms/step - loss: 0.0457 - accuracy: 0.9892 - val_loss: 0.0505 - val_accuracy: 0.9860\n",
      "Epoch 36/50\n",
      "1316/1316 [==============================] - 2s 1ms/step - loss: 0.0432 - accuracy: 0.9897 - val_loss: 0.0491 - val_accuracy: 0.9860\n",
      "Epoch 37/50\n",
      "1316/1316 [==============================] - 2s 1ms/step - loss: 0.0456 - accuracy: 0.9896 - val_loss: 0.0504 - val_accuracy: 0.9866\n",
      "Epoch 38/50\n",
      "1316/1316 [==============================] - 2s 1ms/step - loss: 0.0441 - accuracy: 0.9893 - val_loss: 0.0483 - val_accuracy: 0.9857\n",
      "Epoch 39/50\n",
      "1316/1316 [==============================] - 2s 1ms/step - loss: 0.0458 - accuracy: 0.9894 - val_loss: 0.0478 - val_accuracy: 0.9866\n",
      "Epoch 40/50\n",
      "1316/1316 [==============================] - 2s 1ms/step - loss: 0.0450 - accuracy: 0.9892 - val_loss: 0.0508 - val_accuracy: 0.9860\n",
      "Epoch 41/50\n",
      "1316/1316 [==============================] - 2s 1ms/step - loss: 0.0455 - accuracy: 0.9897 - val_loss: 0.0494 - val_accuracy: 0.9863\n",
      "Epoch 42/50\n",
      "1316/1316 [==============================] - 2s 1ms/step - loss: 0.0446 - accuracy: 0.9894 - val_loss: 0.0877 - val_accuracy: 0.9693\n",
      "Epoch 43/50\n",
      "1316/1316 [==============================] - 2s 1ms/step - loss: 0.0445 - accuracy: 0.9899 - val_loss: 0.0486 - val_accuracy: 0.9857\n",
      "Epoch 44/50\n",
      "1316/1316 [==============================] - 2s 1ms/step - loss: 0.0471 - accuracy: 0.9895 - val_loss: 0.0499 - val_accuracy: 0.9860\n",
      "Epoch 45/50\n",
      "1316/1316 [==============================] - 2s 1ms/step - loss: 0.0435 - accuracy: 0.9895 - val_loss: 0.0495 - val_accuracy: 0.9860\n",
      "Epoch 46/50\n",
      "1316/1316 [==============================] - 2s 2ms/step - loss: 0.0448 - accuracy: 0.9893 - val_loss: 0.0479 - val_accuracy: 0.9866\n",
      "Epoch 47/50\n",
      "1316/1316 [==============================] - 2s 1ms/step - loss: 0.0443 - accuracy: 0.9892 - val_loss: 0.0562 - val_accuracy: 0.9866\n",
      "Epoch 48/50\n",
      "1316/1316 [==============================] - 2s 1ms/step - loss: 0.0445 - accuracy: 0.9894 - val_loss: 0.0501 - val_accuracy: 0.9866\n",
      "Epoch 49/50\n",
      "1316/1316 [==============================] - 2s 1ms/step - loss: 0.0439 - accuracy: 0.9897 - val_loss: 0.0487 - val_accuracy: 0.9860\n",
      "Epoch 50/50\n",
      "1316/1316 [==============================] - 2s 1ms/step - loss: 0.0435 - accuracy: 0.9897 - val_loss: 0.0500 - val_accuracy: 0.9860\n"
     ]
    }
   ],
   "source": [
    "# making the model \n",
    "model_3.compile(optimizer='adam',\n",
    "                loss='binary_crossentropy',\n",
    "                metrics=['accuracy'])\n",
    "\n",
    "# traininig \n",
    "start_time_m3a = time.time()  # Start time for training\n",
    "history_3 = model_3.fit(X_train, y_train, epochs=50, validation_split=0.2, batch_size=10, verbose=1)\n",
    "end_time_m3a = time.time()  # End time for training"
   ]
  },
  {
   "cell_type": "code",
   "execution_count": 57,
   "metadata": {},
   "outputs": [
    {
     "name": "stdout",
     "output_type": "stream",
     "text": [
      "Model 3 Training Time: 85.02 seconds\n"
     ]
    }
   ],
   "source": [
    "# calc and print the training time \n",
    "training_time_3 = end_time_m3a - start_time_m3a\n",
    "print(f\"Model 3 Training Time: {training_time_3:.2f} seconds\")"
   ]
  },
  {
   "cell_type": "code",
   "execution_count": 58,
   "metadata": {},
   "outputs": [
    {
     "name": "stdout",
     "output_type": "stream",
     "text": [
      "129/129 [==============================] - 0s 1ms/step - loss: 0.0317 - accuracy: 0.9929\n",
      "Model 3 Test Accuracy: 99.29%\n"
     ]
    }
   ],
   "source": [
    "# eval model 3 \n",
    "test_loss_3, test_accuracy_3 = model_3.evaluate(X_test, y_test, verbose=1)\n",
    "print(f\"Model 3 Test Accuracy: {test_accuracy_3*100:.2f}%\")"
   ]
  },
  {
   "cell_type": "code",
   "execution_count": 59,
   "metadata": {},
   "outputs": [
    {
     "ename": "NameError",
     "evalue": "name 'history_3' is not defined",
     "output_type": "error",
     "traceback": [
      "\u001b[1;31m---------------------------------------------------------------------------\u001b[0m",
      "\u001b[1;31mNameError\u001b[0m                                 Traceback (most recent call last)",
      "Cell \u001b[1;32mIn[59], line 2\u001b[0m\n\u001b[0;32m      1\u001b[0m \u001b[38;5;66;03m# plotting\u001b[39;00m\n\u001b[1;32m----> 2\u001b[0m plt\u001b[38;5;241m.\u001b[39mplot(history_3\u001b[38;5;241m.\u001b[39mhistory[\u001b[38;5;124m'\u001b[39m\u001b[38;5;124maccuracy\u001b[39m\u001b[38;5;124m'\u001b[39m], label\u001b[38;5;241m=\u001b[39m\u001b[38;5;124m'\u001b[39m\u001b[38;5;124mTraining accuracy\u001b[39m\u001b[38;5;124m'\u001b[39m)\n\u001b[0;32m      3\u001b[0m plt\u001b[38;5;241m.\u001b[39mplot(history_3\u001b[38;5;241m.\u001b[39mhistory[\u001b[38;5;124m'\u001b[39m\u001b[38;5;124mval_accuracy\u001b[39m\u001b[38;5;124m'\u001b[39m], label\u001b[38;5;241m=\u001b[39m\u001b[38;5;124m'\u001b[39m\u001b[38;5;124mValidation accuracy\u001b[39m\u001b[38;5;124m'\u001b[39m)\n\u001b[0;32m      4\u001b[0m plt\u001b[38;5;241m.\u001b[39mtitle(\u001b[38;5;124m'\u001b[39m\u001b[38;5;124mModel 3 Training and Validation Accuracy\u001b[39m\u001b[38;5;124m'\u001b[39m)\n",
      "\u001b[1;31mNameError\u001b[0m: name 'history_3' is not defined"
     ]
    }
   ],
   "source": [
    "# plotting\n",
    "plt.plot(history_3.history['accuracy'], label='Training accuracy')\n",
    "plt.plot(history_3.history['val_accuracy'], label='Validation accuracy')\n",
    "plt.title('Model 3 Training and Validation Accuracy')\n",
    "plt.ylabel('Accuracy')\n",
    "plt.xlabel('Epoch')\n",
    "plt.legend()\n",
    "plt.show()"
   ]
  },
  {
   "cell_type": "markdown",
   "metadata": {},
   "source": [
    "## Comparing all 3 of the Models against eachother "
   ]
  },
  {
   "cell_type": "code",
   "execution_count": null,
   "metadata": {},
   "outputs": [
    {
     "ename": "NameError",
     "evalue": "name 'history_3' is not defined",
     "output_type": "error",
     "traceback": [
      "\u001b[1;31m---------------------------------------------------------------------------\u001b[0m",
      "\u001b[1;31mNameError\u001b[0m                                 Traceback (most recent call last)",
      "Cell \u001b[1;32mIn[33], line 7\u001b[0m\n\u001b[0;32m      5\u001b[0m plt\u001b[38;5;241m.\u001b[39mplot(history_2\u001b[38;5;241m.\u001b[39mhistory[\u001b[38;5;124m'\u001b[39m\u001b[38;5;124maccuracy\u001b[39m\u001b[38;5;124m'\u001b[39m], label\u001b[38;5;241m=\u001b[39m\u001b[38;5;124m'\u001b[39m\u001b[38;5;124mModel 2 Training Accuracy\u001b[39m\u001b[38;5;124m'\u001b[39m)\n\u001b[0;32m      6\u001b[0m plt\u001b[38;5;241m.\u001b[39mplot(history_2\u001b[38;5;241m.\u001b[39mhistory[\u001b[38;5;124m'\u001b[39m\u001b[38;5;124mval_accuracy\u001b[39m\u001b[38;5;124m'\u001b[39m], label\u001b[38;5;241m=\u001b[39m\u001b[38;5;124m'\u001b[39m\u001b[38;5;124mModel 2 Validation Accuracy\u001b[39m\u001b[38;5;124m'\u001b[39m)\n\u001b[1;32m----> 7\u001b[0m plt\u001b[38;5;241m.\u001b[39mplot(history_3\u001b[38;5;241m.\u001b[39mhistory[\u001b[38;5;124m'\u001b[39m\u001b[38;5;124maccuracy\u001b[39m\u001b[38;5;124m'\u001b[39m], label\u001b[38;5;241m=\u001b[39m\u001b[38;5;124m'\u001b[39m\u001b[38;5;124mModel 3 Training Accuracy\u001b[39m\u001b[38;5;124m'\u001b[39m)\n\u001b[0;32m      8\u001b[0m plt\u001b[38;5;241m.\u001b[39mplot(history_3\u001b[38;5;241m.\u001b[39mhistory[\u001b[38;5;124m'\u001b[39m\u001b[38;5;124mval_accuracy\u001b[39m\u001b[38;5;124m'\u001b[39m], label\u001b[38;5;241m=\u001b[39m\u001b[38;5;124m'\u001b[39m\u001b[38;5;124mModel 3 Validation Accuracy\u001b[39m\u001b[38;5;124m'\u001b[39m)\n\u001b[0;32m      9\u001b[0m plt\u001b[38;5;241m.\u001b[39mtitle(\u001b[38;5;124m'\u001b[39m\u001b[38;5;124mTraining and Validation Accuracy Comparison\u001b[39m\u001b[38;5;124m'\u001b[39m)\n",
      "\u001b[1;31mNameError\u001b[0m: name 'history_3' is not defined"
     ]
    },
    {
     "data": {
      "image/png": "[encoded data removed]",
      "text/plain": [
       "<Figure size 1000x700 with 1 Axes>"
      ]
     },
     "metadata": {},
     "output_type": "display_data"
    }
   ],
   "source": [
    "# Charting \n",
    "plt.figure(figsize=(10, 7))\n",
    "plt.plot(history.history['accuracy'], label='Model 1 Training Accuracy')\n",
    "plt.plot(history.history['val_accuracy'], label='Model 1 Validation Accuracy')\n",
    "plt.plot(history_2.history['accuracy'], label='Model 2 Training Accuracy')\n",
    "plt.plot(history_2.history['val_accuracy'], label='Model 2 Validation Accuracy')\n",
    "plt.plot(history_3.history['accuracy'], label='Model 3 Training Accuracy')\n",
    "plt.plot(history_3.history['val_accuracy'], label='Model 3 Validation Accuracy')\n",
    "plt.title('Training and Validation Accuracy Comparison')\n",
    "plt.xlabel('Epochs')\n",
    "plt.ylabel('Accuracy')\n",
    "plt.legend()\n",
    "plt.show()"
   ]
  },
  {
   "cell_type": "markdown",
   "metadata": {},
   "source": [
    "## Model 3 had the best Training accuracy, and had the Validation. We are going to use model 3 to optimize and make perform better. Our best output was, 99.29% accurate. We are going to see if we can get that score even higher, just for the sake of optimization reasons. "
   ]
  },
  {
   "cell_type": "markdown",
   "metadata": {},
   "source": [
    "### Training with the SDG optimizer"
   ]
  },
  {
   "cell_type": "code",
   "execution_count": null,
   "metadata": {},
   "outputs": [],
   "source": [
    "# re-doing model 3 with SDG optimizer\n",
    "model_3_sgd = tf.keras.models.Sequential([\n",
    "    tf.keras.layers.Dense(50, activation='relu'),\n",
    "    tf.keras.layers.Dense(100, activation='relu'),\n",
    "    tf.keras.layers.Dense(100, activation='relu'),\n",
    "    tf.keras.layers.Dense(1, activation='sigmoid')\n",
    "])\n",
    "\n",
    "# Compile Model 3 \n",
    "model_3_sgd.compile(optimizer='sgd',\n",
    "                    loss='binary_crossentropy',\n",
    "                    metrics=['accuracy'])"
   ]
  },
  {
   "cell_type": "code",
   "execution_count": null,
   "metadata": {},
   "outputs": [
    {
     "name": "stdout",
     "output_type": "stream",
     "text": [
      "Epoch 1/50\n",
      "1316/1316 [==============================] - 2s 1ms/step - loss: 1.1736 - accuracy: 0.7646 - val_loss: 0.5364 - val_accuracy: 0.7742\n",
      "Epoch 2/50\n",
      "1316/1316 [==============================] - 1s 1ms/step - loss: 0.5453 - accuracy: 0.7654 - val_loss: 0.5381 - val_accuracy: 0.7742\n",
      "Epoch 3/50\n",
      "1316/1316 [==============================] - 2s 1ms/step - loss: 0.5454 - accuracy: 0.7654 - val_loss: 0.5348 - val_accuracy: 0.7742\n",
      "Epoch 4/50\n",
      "1316/1316 [==============================] - 2s 1ms/step - loss: 0.5454 - accuracy: 0.7654 - val_loss: 0.5350 - val_accuracy: 0.7742\n",
      "Epoch 5/50\n",
      "1316/1316 [==============================] - 2s 1ms/step - loss: 0.5452 - accuracy: 0.7654 - val_loss: 0.5349 - val_accuracy: 0.7742\n",
      "Epoch 6/50\n",
      "1316/1316 [==============================] - 1s 1ms/step - loss: 0.5453 - accuracy: 0.7654 - val_loss: 0.5342 - val_accuracy: 0.7742\n",
      "Epoch 7/50\n",
      "1316/1316 [==============================] - 2s 1ms/step - loss: 0.5454 - accuracy: 0.7654 - val_loss: 0.5351 - val_accuracy: 0.7742\n",
      "Epoch 8/50\n",
      "1316/1316 [==============================] - 1s 1ms/step - loss: 0.5453 - accuracy: 0.7654 - val_loss: 0.5354 - val_accuracy: 0.7742\n",
      "Epoch 9/50\n",
      "1316/1316 [==============================] - 1s 1ms/step - loss: 0.5453 - accuracy: 0.7654 - val_loss: 0.5343 - val_accuracy: 0.7742\n",
      "Epoch 10/50\n",
      "1316/1316 [==============================] - 2s 1ms/step - loss: 0.5452 - accuracy: 0.7654 - val_loss: 0.5342 - val_accuracy: 0.7742\n",
      "Epoch 11/50\n",
      "1316/1316 [==============================] - 1s 1ms/step - loss: 0.5452 - accuracy: 0.7654 - val_loss: 0.5344 - val_accuracy: 0.7742\n",
      "Epoch 12/50\n",
      "1316/1316 [==============================] - 1s 1ms/step - loss: 0.5454 - accuracy: 0.7654 - val_loss: 0.5343 - val_accuracy: 0.7742\n",
      "Epoch 13/50\n",
      "1316/1316 [==============================] - 1s 1ms/step - loss: 0.5451 - accuracy: 0.7654 - val_loss: 0.5352 - val_accuracy: 0.7742\n",
      "Epoch 14/50\n",
      "1316/1316 [==============================] - 1s 1ms/step - loss: 0.5452 - accuracy: 0.7654 - val_loss: 0.5342 - val_accuracy: 0.7742\n",
      "Epoch 15/50\n",
      "1316/1316 [==============================] - 1s 1ms/step - loss: 0.5453 - accuracy: 0.7654 - val_loss: 0.5368 - val_accuracy: 0.7742\n",
      "Epoch 16/50\n",
      "1316/1316 [==============================] - 1s 1ms/step - loss: 0.5454 - accuracy: 0.7654 - val_loss: 0.5347 - val_accuracy: 0.7742\n",
      "Epoch 17/50\n",
      "1316/1316 [==============================] - 1s 1ms/step - loss: 0.5452 - accuracy: 0.7654 - val_loss: 0.5361 - val_accuracy: 0.7742\n",
      "Epoch 18/50\n",
      "1316/1316 [==============================] - 1s 1ms/step - loss: 0.5452 - accuracy: 0.7654 - val_loss: 0.5348 - val_accuracy: 0.7742\n",
      "Epoch 19/50\n",
      "1316/1316 [==============================] - 1s 1ms/step - loss: 0.5451 - accuracy: 0.7654 - val_loss: 0.5354 - val_accuracy: 0.7742\n",
      "Epoch 20/50\n",
      "1316/1316 [==============================] - 1s 1ms/step - loss: 0.5453 - accuracy: 0.7654 - val_loss: 0.5342 - val_accuracy: 0.7742\n",
      "Epoch 21/50\n",
      "1316/1316 [==============================] - 1s 1ms/step - loss: 0.5454 - accuracy: 0.7654 - val_loss: 0.5342 - val_accuracy: 0.7742\n",
      "Epoch 22/50\n",
      "1316/1316 [==============================] - 2s 1ms/step - loss: 0.5453 - accuracy: 0.7654 - val_loss: 0.5346 - val_accuracy: 0.7742\n",
      "Epoch 23/50\n",
      "1316/1316 [==============================] - 2s 1ms/step - loss: 0.5452 - accuracy: 0.7654 - val_loss: 0.5343 - val_accuracy: 0.7742\n",
      "Epoch 24/50\n",
      "1316/1316 [==============================] - 1s 1ms/step - loss: 0.5453 - accuracy: 0.7654 - val_loss: 0.5351 - val_accuracy: 0.7742\n",
      "Epoch 25/50\n",
      "1316/1316 [==============================] - 1s 1ms/step - loss: 0.5452 - accuracy: 0.7654 - val_loss: 0.5342 - val_accuracy: 0.7742\n",
      "Epoch 26/50\n",
      "1316/1316 [==============================] - 1s 1ms/step - loss: 0.5453 - accuracy: 0.7654 - val_loss: 0.5344 - val_accuracy: 0.7742\n",
      "Epoch 27/50\n",
      "1316/1316 [==============================] - 1s 1ms/step - loss: 0.5454 - accuracy: 0.7654 - val_loss: 0.5345 - val_accuracy: 0.7742\n",
      "Epoch 28/50\n",
      "1316/1316 [==============================] - 1s 1ms/step - loss: 0.5453 - accuracy: 0.7654 - val_loss: 0.5345 - val_accuracy: 0.7742\n",
      "Epoch 29/50\n",
      "1316/1316 [==============================] - 1s 1ms/step - loss: 0.5451 - accuracy: 0.7654 - val_loss: 0.5343 - val_accuracy: 0.7742\n",
      "Epoch 30/50\n",
      "1316/1316 [==============================] - 1s 1ms/step - loss: 0.5454 - accuracy: 0.7654 - val_loss: 0.5345 - val_accuracy: 0.7742\n",
      "Epoch 31/50\n",
      "1316/1316 [==============================] - 1s 1ms/step - loss: 0.5452 - accuracy: 0.7654 - val_loss: 0.5342 - val_accuracy: 0.7742\n",
      "Epoch 32/50\n",
      "1316/1316 [==============================] - 1s 1ms/step - loss: 0.5453 - accuracy: 0.7654 - val_loss: 0.5350 - val_accuracy: 0.7742\n",
      "Epoch 33/50\n",
      "1316/1316 [==============================] - 1s 1ms/step - loss: 0.5454 - accuracy: 0.7654 - val_loss: 0.5344 - val_accuracy: 0.7742\n",
      "Epoch 34/50\n",
      "1316/1316 [==============================] - 1s 1ms/step - loss: 0.5452 - accuracy: 0.7654 - val_loss: 0.5376 - val_accuracy: 0.7742\n",
      "Epoch 35/50\n",
      "1316/1316 [==============================] - 1s 1ms/step - loss: 0.5450 - accuracy: 0.7654 - val_loss: 0.5345 - val_accuracy: 0.7742\n",
      "Epoch 36/50\n",
      "1316/1316 [==============================] - 1s 1ms/step - loss: 0.5454 - accuracy: 0.7654 - val_loss: 0.5348 - val_accuracy: 0.7742\n",
      "Epoch 37/50\n",
      "1316/1316 [==============================] - 2s 1ms/step - loss: 0.5452 - accuracy: 0.7654 - val_loss: 0.5344 - val_accuracy: 0.7742\n",
      "Epoch 38/50\n",
      "1316/1316 [==============================] - 1s 1ms/step - loss: 0.5451 - accuracy: 0.7654 - val_loss: 0.5354 - val_accuracy: 0.7742\n",
      "Epoch 39/50\n",
      "1316/1316 [==============================] - 1s 1ms/step - loss: 0.5451 - accuracy: 0.7654 - val_loss: 0.5351 - val_accuracy: 0.7742\n",
      "Epoch 40/50\n",
      "1316/1316 [==============================] - 1s 1ms/step - loss: 0.5453 - accuracy: 0.7654 - val_loss: 0.5353 - val_accuracy: 0.7742\n",
      "Epoch 41/50\n",
      "1316/1316 [==============================] - 1s 1ms/step - loss: 0.5452 - accuracy: 0.7654 - val_loss: 0.5347 - val_accuracy: 0.7742\n",
      "Epoch 42/50\n",
      "1316/1316 [==============================] - 1s 1ms/step - loss: 0.5451 - accuracy: 0.7654 - val_loss: 0.5345 - val_accuracy: 0.7742\n",
      "Epoch 43/50\n",
      "1316/1316 [==============================] - 1s 1ms/step - loss: 0.5453 - accuracy: 0.7654 - val_loss: 0.5342 - val_accuracy: 0.7742\n",
      "Epoch 44/50\n",
      "1316/1316 [==============================] - 2s 1ms/step - loss: 0.5450 - accuracy: 0.7654 - val_loss: 0.5345 - val_accuracy: 0.7742\n",
      "Epoch 45/50\n",
      "1316/1316 [==============================] - 1s 1ms/step - loss: 0.5452 - accuracy: 0.7654 - val_loss: 0.5343 - val_accuracy: 0.7742\n",
      "Epoch 46/50\n",
      "1316/1316 [==============================] - 1s 1ms/step - loss: 0.5453 - accuracy: 0.7654 - val_loss: 0.5347 - val_accuracy: 0.7742\n",
      "Epoch 47/50\n",
      "1316/1316 [==============================] - 1s 1ms/step - loss: 0.5453 - accuracy: 0.7654 - val_loss: 0.5343 - val_accuracy: 0.7742\n",
      "Epoch 48/50\n",
      "1316/1316 [==============================] - 2s 1ms/step - loss: 0.5453 - accuracy: 0.7654 - val_loss: 0.5349 - val_accuracy: 0.7742\n",
      "Epoch 49/50\n",
      "1316/1316 [==============================] - 1s 1ms/step - loss: 0.5453 - accuracy: 0.7654 - val_loss: 0.5346 - val_accuracy: 0.7742\n",
      "Epoch 50/50\n",
      "1316/1316 [==============================] - 1s 1ms/step - loss: 0.5452 - accuracy: 0.7654 - val_loss: 0.5343 - val_accuracy: 0.7742\n"
     ]
    }
   ],
   "source": [
    "# training model 3 with SDG optimizer\n",
    "history_3_sgd = model_3_sgd.fit(X_train, y_train, epochs=50, validation_split=0.2, batch_size=10, verbose=1)"
   ]
  },
  {
   "cell_type": "code",
   "execution_count": null,
   "metadata": {},
   "outputs": [
    {
     "data": {
      "image/png": "[encoded data removed]",
      "text/plain": [
       "<Figure size 1000x700 with 1 Axes>"
      ]
     },
     "metadata": {},
     "output_type": "display_data"
    }
   ],
   "source": [
    "# plotting the comparison\n",
    "plt.figure(figsize=(10, 7))\n",
    "plt.plot(history_3.history['accuracy'], label='Model 3 with Adam - Training Accuracy')\n",
    "plt.plot(history_3.history['val_accuracy'], label='Model 3 with Adam - Validation Accuracy')\n",
    "plt.plot(history_3_sgd.history['accuracy'], label='Model 3 with SGD - Training Accuracy')\n",
    "plt.plot(history_3_sgd.history['val_accuracy'], label='Model 3 with SGD - Validation Accuracy')\n",
    "plt.title('Model 3 Training and Validation Accuracy with Adam vs SGD Optimizers')\n",
    "plt.xlabel('Epochs')\n",
    "plt.ylabel('Accuracy')\n",
    "plt.legend()\n",
    "plt.show()"
   ]
  },
  {
   "cell_type": "code",
   "execution_count": null,
   "metadata": {},
   "outputs": [
    {
     "name": "stdout",
     "output_type": "stream",
     "text": [
      "643/643 [==============================] - 1s 872us/step\n"
     ]
    },
    {
     "data": {
      "text/html": [
       "<div>\n",
       "<style scoped>\n",
       "    .dataframe tbody tr th:only-of-type {\n",
       "        vertical-align: middle;\n",
       "    }\n",
       "\n",
       "    .dataframe tbody tr th {\n",
       "        vertical-align: top;\n",
       "    }\n",
       "\n",
       "    .dataframe thead th {\n",
       "        text-align: right;\n",
       "    }\n",
       "</style>\n",
       "<table border=\"1\" class=\"dataframe\">\n",
       "  <thead>\n",
       "    <tr style=\"text-align: right;\">\n",
       "      <th></th>\n",
       "      <th>date</th>\n",
       "      <th>Temperature</th>\n",
       "      <th>Humidity</th>\n",
       "      <th>Light</th>\n",
       "      <th>CO2</th>\n",
       "      <th>HumidityRatio</th>\n",
       "      <th>Occupancy</th>\n",
       "      <th>time</th>\n",
       "      <th>Temp_Hum_Ratio</th>\n",
       "      <th>DOTW</th>\n",
       "      <th>DOTW_encoded</th>\n",
       "      <th>Prediction</th>\n",
       "    </tr>\n",
       "  </thead>\n",
       "  <tbody>\n",
       "    <tr>\n",
       "      <th>0</th>\n",
       "      <td>2015-02-02 14:19:00</td>\n",
       "      <td>23.7000</td>\n",
       "      <td>26.272</td>\n",
       "      <td>585.200000</td>\n",
       "      <td>749.200000</td>\n",
       "      <td>0.004764</td>\n",
       "      <td>1</td>\n",
       "      <td>14:19:00</td>\n",
       "      <td>0.902101</td>\n",
       "      <td>Monday</td>\n",
       "      <td>1</td>\n",
       "      <td>0.962847</td>\n",
       "    </tr>\n",
       "    <tr>\n",
       "      <th>1</th>\n",
       "      <td>2015-02-02 14:19:59</td>\n",
       "      <td>23.7180</td>\n",
       "      <td>26.290</td>\n",
       "      <td>578.400000</td>\n",
       "      <td>760.400000</td>\n",
       "      <td>0.004773</td>\n",
       "      <td>1</td>\n",
       "      <td>14:19:59</td>\n",
       "      <td>0.902168</td>\n",
       "      <td>Monday</td>\n",
       "      <td>1</td>\n",
       "      <td>0.962551</td>\n",
       "    </tr>\n",
       "    <tr>\n",
       "      <th>2</th>\n",
       "      <td>2015-02-02 14:21:00</td>\n",
       "      <td>23.7300</td>\n",
       "      <td>26.230</td>\n",
       "      <td>572.666667</td>\n",
       "      <td>769.666667</td>\n",
       "      <td>0.004765</td>\n",
       "      <td>1</td>\n",
       "      <td>14:21:00</td>\n",
       "      <td>0.904689</td>\n",
       "      <td>Monday</td>\n",
       "      <td>1</td>\n",
       "      <td>0.962240</td>\n",
       "    </tr>\n",
       "    <tr>\n",
       "      <th>3</th>\n",
       "      <td>2015-02-02 14:22:00</td>\n",
       "      <td>23.7225</td>\n",
       "      <td>26.125</td>\n",
       "      <td>493.750000</td>\n",
       "      <td>774.750000</td>\n",
       "      <td>0.004744</td>\n",
       "      <td>1</td>\n",
       "      <td>14:22:00</td>\n",
       "      <td>0.908038</td>\n",
       "      <td>Monday</td>\n",
       "      <td>1</td>\n",
       "      <td>0.944668</td>\n",
       "    </tr>\n",
       "    <tr>\n",
       "      <th>4</th>\n",
       "      <td>2015-02-02 14:23:00</td>\n",
       "      <td>23.7540</td>\n",
       "      <td>26.200</td>\n",
       "      <td>488.600000</td>\n",
       "      <td>779.000000</td>\n",
       "      <td>0.004767</td>\n",
       "      <td>1</td>\n",
       "      <td>14:23:00</td>\n",
       "      <td>0.906641</td>\n",
       "      <td>Monday</td>\n",
       "      <td>1</td>\n",
       "      <td>0.942891</td>\n",
       "    </tr>\n",
       "  </tbody>\n",
       "</table>\n",
       "</div>"
      ],
      "text/plain": [
       "                  date  Temperature  Humidity       Light         CO2  \\\n",
       "0  2015-02-02 14:19:00      23.7000    26.272  585.200000  749.200000   \n",
       "1  2015-02-02 14:19:59      23.7180    26.290  578.400000  760.400000   \n",
       "2  2015-02-02 14:21:00      23.7300    26.230  572.666667  769.666667   \n",
       "3  2015-02-02 14:22:00      23.7225    26.125  493.750000  774.750000   \n",
       "4  2015-02-02 14:23:00      23.7540    26.200  488.600000  779.000000   \n",
       "\n",
       "   HumidityRatio  Occupancy      time  Temp_Hum_Ratio    DOTW  DOTW_encoded  \\\n",
       "0       0.004764          1  14:19:00        0.902101  Monday             1   \n",
       "1       0.004773          1  14:19:59        0.902168  Monday             1   \n",
       "2       0.004765          1  14:21:00        0.904689  Monday             1   \n",
       "3       0.004744          1  14:22:00        0.908038  Monday             1   \n",
       "4       0.004767          1  14:23:00        0.906641  Monday             1   \n",
       "\n",
       "   Prediction  \n",
       "0    0.962847  \n",
       "1    0.962551  \n",
       "2    0.962240  \n",
       "3    0.944668  \n",
       "4    0.942891  "
      ]
     },
     "execution_count": 27,
     "metadata": {},
     "output_type": "execute_result"
    }
   ],
   "source": [
    "# creating a prediction column for the original data frame\n",
    "df['Prediction'] = model_3.predict(X)\n",
    "df.head()"
   ]
  },
  {
   "cell_type": "code",
   "execution_count": null,
   "metadata": {},
   "outputs": [],
   "source": [
    "# rounding the prediction column to 0 or 1\n",
    "df['Prediction'] = df['Prediction'].round()"
   ]
  },
  {
   "cell_type": "code",
   "execution_count": null,
   "metadata": {},
   "outputs": [
    {
     "data": {
      "text/plain": [
       "Prediction\n",
       "0.0    15628\n",
       "1.0     4932\n",
       "Name: count, dtype: int64"
      ]
     },
     "execution_count": 29,
     "metadata": {},
     "output_type": "execute_result"
    }
   ],
   "source": [
    "# prinitng the coun tof the prediction column\n",
    "df['Prediction'].value_counts()"
   ]
  },
  {
   "cell_type": "code",
   "execution_count": null,
   "metadata": {},
   "outputs": [
    {
     "data": {
      "text/plain": [
       "Occupancy\n",
       "0    15810\n",
       "1     4750\n",
       "Name: count, dtype: int64"
      ]
     },
     "execution_count": 30,
     "metadata": {},
     "output_type": "execute_result"
    }
   ],
   "source": [
    "# counting the actual values of the 'Occupancy' column\n",
    "df['Occupancy'].value_counts()"
   ]
  },
  {
   "cell_type": "code",
   "execution_count": null,
   "metadata": {},
   "outputs": [],
   "source": [
    "# saving the df back down to a csv file\n",
    "df.to_csv('Occupancy_Predictions_LTSM_Model_3.csv', index=False)"
   ]
  },
  {
   "cell_type": "code",
   "execution_count": null,
   "metadata": {},
   "outputs": [
    {
     "data": {
      "text/html": [
       "<div>\n",
       "<style scoped>\n",
       "    .dataframe tbody tr th:only-of-type {\n",
       "        vertical-align: middle;\n",
       "    }\n",
       "\n",
       "    .dataframe tbody tr th {\n",
       "        vertical-align: top;\n",
       "    }\n",
       "\n",
       "    .dataframe thead th {\n",
       "        text-align: right;\n",
       "    }\n",
       "</style>\n",
       "<table border=\"1\" class=\"dataframe\">\n",
       "  <thead>\n",
       "    <tr style=\"text-align: right;\">\n",
       "      <th></th>\n",
       "      <th>date</th>\n",
       "      <th>Temperature</th>\n",
       "      <th>Humidity</th>\n",
       "      <th>Light</th>\n",
       "      <th>CO2</th>\n",
       "      <th>HumidityRatio</th>\n",
       "      <th>Occupancy</th>\n",
       "      <th>time</th>\n",
       "      <th>Temp_Hum_Ratio</th>\n",
       "      <th>DOTW</th>\n",
       "      <th>DOTW_encoded</th>\n",
       "      <th>Prediction</th>\n",
       "    </tr>\n",
       "  </thead>\n",
       "  <tbody>\n",
       "    <tr>\n",
       "      <th>0</th>\n",
       "      <td>2015-02-02 14:19:00</td>\n",
       "      <td>23.7000</td>\n",
       "      <td>26.272</td>\n",
       "      <td>585.200000</td>\n",
       "      <td>749.200000</td>\n",
       "      <td>0.004764</td>\n",
       "      <td>1</td>\n",
       "      <td>14:19:00</td>\n",
       "      <td>0.902101</td>\n",
       "      <td>Monday</td>\n",
       "      <td>1</td>\n",
       "      <td>1.0</td>\n",
       "    </tr>\n",
       "    <tr>\n",
       "      <th>1</th>\n",
       "      <td>2015-02-02 14:19:59</td>\n",
       "      <td>23.7180</td>\n",
       "      <td>26.290</td>\n",
       "      <td>578.400000</td>\n",
       "      <td>760.400000</td>\n",
       "      <td>0.004773</td>\n",
       "      <td>1</td>\n",
       "      <td>14:19:59</td>\n",
       "      <td>0.902168</td>\n",
       "      <td>Monday</td>\n",
       "      <td>1</td>\n",
       "      <td>1.0</td>\n",
       "    </tr>\n",
       "    <tr>\n",
       "      <th>2</th>\n",
       "      <td>2015-02-02 14:21:00</td>\n",
       "      <td>23.7300</td>\n",
       "      <td>26.230</td>\n",
       "      <td>572.666667</td>\n",
       "      <td>769.666667</td>\n",
       "      <td>0.004765</td>\n",
       "      <td>1</td>\n",
       "      <td>14:21:00</td>\n",
       "      <td>0.904689</td>\n",
       "      <td>Monday</td>\n",
       "      <td>1</td>\n",
       "      <td>1.0</td>\n",
       "    </tr>\n",
       "    <tr>\n",
       "      <th>3</th>\n",
       "      <td>2015-02-02 14:22:00</td>\n",
       "      <td>23.7225</td>\n",
       "      <td>26.125</td>\n",
       "      <td>493.750000</td>\n",
       "      <td>774.750000</td>\n",
       "      <td>0.004744</td>\n",
       "      <td>1</td>\n",
       "      <td>14:22:00</td>\n",
       "      <td>0.908038</td>\n",
       "      <td>Monday</td>\n",
       "      <td>1</td>\n",
       "      <td>1.0</td>\n",
       "    </tr>\n",
       "    <tr>\n",
       "      <th>4</th>\n",
       "      <td>2015-02-02 14:23:00</td>\n",
       "      <td>23.7540</td>\n",
       "      <td>26.200</td>\n",
       "      <td>488.600000</td>\n",
       "      <td>779.000000</td>\n",
       "      <td>0.004767</td>\n",
       "      <td>1</td>\n",
       "      <td>14:23:00</td>\n",
       "      <td>0.906641</td>\n",
       "      <td>Monday</td>\n",
       "      <td>1</td>\n",
       "      <td>1.0</td>\n",
       "    </tr>\n",
       "  </tbody>\n",
       "</table>\n",
       "</div>"
      ],
      "text/plain": [
       "                  date  Temperature  Humidity       Light         CO2  \\\n",
       "0  2015-02-02 14:19:00      23.7000    26.272  585.200000  749.200000   \n",
       "1  2015-02-02 14:19:59      23.7180    26.290  578.400000  760.400000   \n",
       "2  2015-02-02 14:21:00      23.7300    26.230  572.666667  769.666667   \n",
       "3  2015-02-02 14:22:00      23.7225    26.125  493.750000  774.750000   \n",
       "4  2015-02-02 14:23:00      23.7540    26.200  488.600000  779.000000   \n",
       "\n",
       "   HumidityRatio  Occupancy      time  Temp_Hum_Ratio    DOTW  DOTW_encoded  \\\n",
       "0       0.004764          1  14:19:00        0.902101  Monday             1   \n",
       "1       0.004773          1  14:19:59        0.902168  Monday             1   \n",
       "2       0.004765          1  14:21:00        0.904689  Monday             1   \n",
       "3       0.004744          1  14:22:00        0.908038  Monday             1   \n",
       "4       0.004767          1  14:23:00        0.906641  Monday             1   \n",
       "\n",
       "   Prediction  \n",
       "0         1.0  \n",
       "1         1.0  \n",
       "2         1.0  \n",
       "3         1.0  \n",
       "4         1.0  "
      ]
     },
     "execution_count": 32,
     "metadata": {},
     "output_type": "execute_result"
    }
   ],
   "source": [
    "df.head()"
   ]
  },
  {
   "cell_type": "code",
   "execution_count": null,
   "metadata": {},
   "outputs": [],
   "source": []
  }
 ],
 "metadata": {
  "kernelspec": {
   "display_name": "base",
   "language": "python",
   "name": "python3"
  },
  "language_info": {
   "codemirror_mode": {
    "name": "ipython",
    "version": 3
   },
   "file_extension": ".py",
   "mimetype": "text/x-python",
   "name": "python",
   "nbconvert_exporter": "python",
   "pygments_lexer": "ipython3",
   "version": "3.11.7"
  }
 },
 "nbformat": 4,
 "nbformat_minor": 2
}
