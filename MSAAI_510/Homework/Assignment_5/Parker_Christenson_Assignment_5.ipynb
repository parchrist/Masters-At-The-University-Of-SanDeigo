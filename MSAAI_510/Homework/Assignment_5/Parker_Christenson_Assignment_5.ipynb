{
 "cells": [
  {
   "cell_type": "markdown",
   "metadata": {},
   "source": [
    "# Parker Christenson Assignment 5 Topic modeling\n",
    "\n",
    "## `Instructions`\n",
    "1. Pre-process the data by removing stop words and applying stemming or lemmatization, then vectorize the raw text with the CountVectorizer function from Sklearn.\n",
    "    - Optionally create bigrams and/or trigrams from the available words.\n",
    "2. Build topic models with 8, 9, and 10 different topics.\n",
    "3. Evaluate the different topics using perplexity and/or topic coherence.\n",
    "4. Select a single model, and describe the different topics generated. You can leverage the helper functions provided for this purpose.\n",
    "    - List the most common word in each topic and optionally create word clouds for each topic.\n",
    "    - Write a sentence or two to describe your perspective on the composition of each topic. What makes this topic stand out from the others?\n",
    "    - Take one or two sentences and summarize all the topics together.\n",
    "    - Note that all the items in Step 4 should be in text form in a Markdown cell in your submitted Jupyter Notebook. For reference, there is no example of this in the COVID19.ipynb Download COVID19.ipynbassignment lab Jupyter Notebook.\n"
   ]
  },
  {
   "cell_type": "code",
   "execution_count": 8,
   "metadata": {},
   "outputs": [
    {
     "name": "stderr",
     "output_type": "stream",
     "text": [
      "[nltk_data] Downloading package stopwords to\n",
      "[nltk_data]     C:\\Users\\tehwh\\AppData\\Roaming\\nltk_data...\n",
      "[nltk_data]   Unzipping corpora\\stopwords.zip.\n"
     ]
    },
    {
     "data": {
      "text/plain": [
       "True"
      ]
     },
     "execution_count": 8,
     "metadata": {},
     "output_type": "execute_result"
    }
   ],
   "source": [
    "# library imports\n",
    "import numpy as np\n",
    "import pandas as pd\n",
    "import re\n",
    "import json\n",
    "import sys\n",
    "import os\n",
    "import ast\n",
    "import random\n",
    "pd.set_option('display.max_columns', 40)\n",
    "import nltk\n",
    "import gensim\n",
    "import wordcloud\n",
    "import faiss\n",
    "from nltk.corpus import stopwords\n",
    "from helper_functions import * \n",
    "\n",
    "# having some trouble with the nltk stopwords, so I'm going to download them again\n",
    "import nltk\n",
    "nltk.download('stopwords')"
   ]
  },
  {
   "cell_type": "markdown",
   "metadata": {},
   "source": [
    "## `Data pre-processing`"
   ]
  },
  {
   "cell_type": "code",
   "execution_count": 9,
   "metadata": {},
   "outputs": [
    {
     "name": "stdout",
     "output_type": "stream",
     "text": [
      "Processing Files at the requested location\n",
      "There are 177 files to process\n",
      "There were 885 files in the dataset\n",
      "Processing Files at the requested location\n",
      "There are 470 files to process\n",
      "There were 2353 files in the dataset\n",
      "Processing Files at the requested location\n",
      "There are 1823 files to process\n",
      "There were 9118 files in the dataset\n",
      "Processing Files at the requested location\n",
      "There are 3391 files to process\n",
      "There were 16959 files in the dataset\n",
      "Example File Name\n",
      "200b85eea010e695ac7281e5b8758c9fbbd6d0ad.json\n",
      "Number of files\n",
      "3391\n",
      "Example Article Information\n",
      "['Data_sets', 'Generating genomic platforms to study Candida albicans pathogenesis', ['Over the last decade, there has been an exponential growth in the quantity of available genome sequence data due to the very rapid progress in sequencing technology. In 2004, the genome sequence of the human fungal pathogen Candida albicans was released as Assembly 19 (1). With the challenge of working with a heterozygous diploid organism, new computational methods had to be developed and resulted in the release in 2013 of Assembly 22 , an assembly of a completely phased diploid genome sequence for the standard C. albicans reference strain SC5314 (2) . This opened new perspectives to understand the genetic basis and functional mechanisms that underlie pathogenesis and evolution in this organism. Although C. albicans gene sequences have been available to the community for more than a decade (3, 4) , only 1,670 out of the 6,198 predicted protein-coding genes have been characterized as of January 31st, 2018 according to the Candida Genome Database (5) . Nowadays, the growing availability of whole-genome datasets has encouraged a shift towards the development of functional genomics and systems biology, enabling analysis of highthroughput whole-genome assays to better understand biological networks. In this context, major efforts have been made to generate large-scale deletion (6) (7) (8) (9) or overexpression (10) (11) (12) mutant collections. Genome-wide ORF libraries or ORFeomes represent useful resources for the implementation of approaches used to elucidate gene function (13) . Besides the development of collections of overexpression mutants (11) , ORFeomes facilitate approaches aimed at evaluating protein subcellular localization and identifying protein-protein interactions (yeast two-hybrid) both at steady state and in response to environmental stimuli (14) . Large-scale cloning projects, with the goal of cloning all predicted ORFs into flexible recombinational vectors, have been described for several model organisms, including powerful association of the C. albicans ORFeome and a C. albicans-adapted two-hybrid system (32) that will allow systematic protein-protein interaction screening in C. albicans. C. albicans strains used in this study are listed in Table 1 . C. albicans strains were routinely cultured at 30°C in YPD medium (1% yeast extract, 2% peptone, 2% dextrose), synthetic dextrose (SD) medium (0.67% yeast nitrogen base, 2% dextrose) or nourseothricincontaining YPD medium (YPD + 200 µg/ml Nourseothricin). Solid media were obtained by adding 2% agar. E. coli strains were routinely cultured at 30°C or 37°C in LB or 2YT supplemented with 10 µg/ml gentamicin, 50 µg/ml kanamycin or 50 µg/ml ticarcillin. Solid media were obtained by adding 2% agar. DH5α E. coli cells competent for transformation with DNA were prepared according to Hanahan et al. (33) . The ORFeome collection is being distributed by the Centre International de Ressources Microbiennes (CIRM). The 49 expression vectors are available from Addgene, while twohybrid strains and vectors are now accessible from the Belgian Co-ordinated Collections of Micro-organisms (BCCM). Primer design. The DNA sequence of C. albicans was obtained from the Candida Genome Database Release 21 (www.candidagenome.org), before Assembly 22 was released. Genespecific forward primers were designed by adding the sequence 5\\'-GGGGACAAGTTTGTACAAAAAAGCAGGCTTG-3\\' to the 5\\' end of the first 30 author/funder. All rights reserved. No reuse allowed without permission. The copyright holder for this preprint (which was not peer-reviewed) is the . https://doi.org/10.1101/261628 doi: bioRxiv preprint nucleotides of each ORF. Gene-specific reverse primers were designed by adding the sequence 5\\'-GGGGACCACTTTGTACAAGAAAGCTGGGTC-3\\' to the 5\\' end of the last 30 nucleotides of each ORF excluding the Stop codon. PCR fragments amplified from these primers are compatible for C-terminal tagging with destination vectors containing the Gateway™ cassette A. A total of 6,205 primer pairs were obtained from Invitrogen in a 96well format and are listed in Supplemental Table S1 . Gateway™ cloning of the C. albicans ORFeome. The detailed method for the cloning of C. albicans ORFs in the pDONR207 vector has been described (34) . Briefly, ORFs, ranging from 90 bp to 5,295 bp, were amplified from genomic DNA of C. albicans strain SC5314 in 96-well plates using the Thermo Scientific Phusion High-Fidelity DNA Polymerase and 30 cycles of amplification, with elongation time varying from 1 to 3 min according to the ORF size. After ethanol precipitation, Gateway™-compatible amplified ORFs were recombined into pDONR207 (Invitrogen) using the Gateway™ BP Clonase™ II Enzyme Mix (Invitrogen). Reaction mixes containing pDONR207, the PCR products and the BP Clonase™ were incubated overnight in 96-well plates, at room temperature. After adding proteinase K (Invitrogen) and incubating 10 min at 37°C, the BP reactions were directly used for bacterial transformation. 45-50 µl of chemically competent E. coli DH5α were added to the BP reactions and incubated for 30 min at 4°C. After heat-shock at 42°C for 35 s, 150 µl of SOC medium (20 ml YPD + 2 ml LB + 1 ml Hepes) was added to the transformation reactions and the samples were covered with breathing films and incubated for 1.5 h at 37°C with shaking. Then 100 µl of each sample were plated onto LB agar containing 10 µg/ml Gentamicin and incubated overnight at 37°C. The remainder of the transformation reactions were stored at -80°C in 30% glycerol. A single colony from each transformation reaction was inoculated in 400 µl 2YT + 10 µg/ml Gentamicin in 96 deep-well microplates. After 36hgrowth at 37°C, the cultures were used for plasmid extraction and for -80°C storage. Validation of entry clones by DNA sequencing and bioinformatics analysis. Sanger sequencing of the 5\\'-end of each BP clone was performed with the 207VER-F oligonucleotide (see Supplemental Table 2 for oligonucleotide sequences except those used to amplify ORFs) to confirm that the expected ORF had been cloned. The 3\\'-ends were also sequenced with the 207VER-R oligonucleotide to ensure that the oligonucleotides did not carry deletions. All inserts validated by Sanger sequencing were systematically subjected to full-length sequence analysis using Illumina technology as described in Chauvel et al. (11) . If nonsense or frameshift mutations were observed in a cloned ORF, another colony was checked, or the ORF reamplified and cloned again. If these attempts were unsuccessful, cloning of the ORF was abandoned. Clones containing contiguous deletions or insertions of multiples of 3 bp were accepted. Missense mutations and those located within introns were accepted. It should be noted that further analysis of each mutation-containing ORF is required to determine whether or not mutations affect the function of the ORF. CandidaOrfDB was created to integrate the data of the C. albicans ORFeome project and is available at http://candidaorfeome.eu. The database is a relational database using the SQL database server Oracle with a web interface developed using J2EE. The alignment algorithm uses biojava3-alignment Java library, implemented with a NeedlemanWunsch aligner, configured with a gap open penalty of 5 and a gap extension penalty of 2. The substitution matrix used is named \"nuc-4_4\" and was created by Todd Lowe (https://github.com/sbliven/biojava/blob/master/biojava3-alignment/src/main/resources/nuc-4_4.txt). The alignment algorithm was specifically customized for CandidaOrfDB to work on segments of 500 codons, which provides an optimized alignment performance for C. albicans average sequence length. author/funder. All rights reserved. No reuse allowed without permission. The copyright holder for this preprint (which was not peer-reviewed) is the . https://doi.org/10.1101/261628 doi: bioRxiv preprint The C. albicans ORFeome clones are available at the Centre International de Ressources Microbiennes (CIRM -https://www6.inra.fr/cirm_eng/). All destination plasmids constructed in this study were derived from CIp-P TET -GTW (11) and were confirmed by Sanger sequencing. Plasmid sequences have been submitted to GenBank. Accession numbers are given in Table 2 . All oligonucleotides used for PCR and/or sequencing are listed in Supplemental Table 2. SP cloning. First, a spacer sequence (SP) was amplified from the E. coli kanR gene borne on pCR-topo-blunt plasmid (Invitrogen) with primers SP3 and SP4. The PCR product was cloned in the SacII site of CIp-P TET -GTW, yielding CIp-P TET -GTW-SP, also referred to as pCA-Dest1100. This 390 bp-long sequence is flanked by the SP1 and SP2 Illumina pairedend sequencing primers 1 and 2 and can be used to insert molecular barcodes if expression plasmids are to be used in signature-tagged mutagenesis approaches. Epitope tags. We then inserted in frame tags either upstream of attR1 or downstream of attR2 to allow N-terminal or C-terminal protein tagging, respectively. For the cloning of N-terminal tags, we used pUC-attR1-CmR, containing a PciI-BglII fragment from CIp-GTW cloned into the PciI and BamHI sites of pUC18. CIp-GTW was obtained after deleting P TET from CIp-P TET -GTW with Acc65I and HpaI. For cloning of the 3xHA coding sequence, two oligonucleotides (oligo1_PciHABsrG and oligo2_PciHABsrG) containing three HA epitopes were hybridized, gel purified, and cloned into pUC-attR1-CmR cut with PciI and BsrGI. The resulting plasmid was then used as a PCR template with primers GTW02 and GTW03. The resulting PCR product was cut with BspEI and HpaI, and cloned into the same sites of pCA-Dest1100 to yield pCA-Dest1110. For cloning of the GFP tag, the GFP gene was amplified from pFA-GFP-URA3 (35) with primers GTW04 and GTW05. The PCR product was cut with PciI and EcoRV and ligated into the same sites of pUC-attR1-CmR. The resulting plasmid was then used as a PCR template with primers GTW07 and GTW03. The resulting PCR product was cut with ScaI and BspEI and ligated into pCA-Dest1100 cut with HpaI and BspEI, yielding pCA-Dest1120. For cloning of the TAP-tag, the TAP-tag coding region was PCR amplified from pFA-TAP-URA3 (11) with primers GTW13 and GTW14. The resulting PCR product was then cut with PciI and BsrGI, and ligated into the same sites of pUC-attR1-CmR. The resulting plasmid was then digested with EcoRV and BspEI and the smallest restriction fragment was ligated into pCA-Dest1100 cut with HpaI and BspEI to yield pCA-Dest1130. For the cloning of C-terminal tags, we generated pUC-attR2 by inserting a SalI-HindIII fragment from pCA-Dest1100 into the same sites of pUC18. For cloning of the 3xHA epitope, pCaMPY-3xHA (36) was used as a PCR template with primers GTW20 and GTW21, and the resulting PCR product cut with BsrGI and NsiI was ligated in the same sites of pUC-attR2. The resulting plasmid was cut with SalI and NsiI and the fragment cloned in the same sites of pCA-Dest1100, yielding pCA-Dest1101. For cloning the GFP tag, the GFP gene was amplified from pFA-GFP-URA3 (35) with primers GTW11 and GTW12. The resulting PCR product was cut with NsiI and EcoRV and ligated into the same sites of pUC-attR2. The resulting plasmid was then cut with SalI and NsiI and the GFP-bearing fragment ligated into the same sites of pCA-Dest1100, yielding pCA-Dest1102. For cloning of the TAP-tag, the TAP-tag coding region was amplified from CIp10-P PCK1 -GTW-TAPtag (11) with primers GTW15 and GTW16. The PCR product was cut with BsrGI and NsiI and cloned in the same sites of pUC-attR2. The resulting plasmid was digested with SalI and NsiI, and the TAP-containing fragment ligated in the same sites of pCA-Dest1100, yielding pCA-Dest1103. author/funder. All rights reserved. No reuse allowed without permission. The copyright holder for this preprint (which was not peer-reviewed) is the . https://doi.org/10.1101/261628 doi: bioRxiv preprint Promoters. We replaced P TET with either P PCK1 (obtained from CIp10-P PCK1 -GTW-TAPtag, (11) ), yielding the pCA-Dest12xx series; P TDH3 (cut from pKS-P TDH3 ; P TDH3 was PCR amplified from SC5314 genomic DNA with oligos SZ11 and SZ12, and the fragment inserted into pBluescript-KS (+) cut with XhoI and EcoRV) yielding the pCA-Dest13xx series; or P ACT1 , cut from CIp10::P ACT1 -gLUC59 (37), yielding the pCA-Dest14xx series. Selection markers. In all plasmids except the P TET series, the auxotrophic marker URA3 was replaced with the NAT1 marker conferring nourseothricin resistance. Briefly, a XbaI-DraIII fragment or SpeI-NaeI fragment was cut from pUC-NAT1 and inserted into the similarly cut vectors. pUC-NAT1 was built by amplifying NAT1 under the control of P TEF1 promoter with oligonucleotides UZ50 and UZ51, and using pFA6-SAT1 (38) as a template, and cloning the AatII-cut fragment into the same site of pUC18. The 49 expression vectors are available from Addgene (https://www.addgene.org). Construction of C. albicans UME6-overexpression strains. Detailed methods for the transfer of C. albicans ORFs from pDONR207 into the expression plasmids as well as the integration of the resulting expression plasmids at the RPS1 locus have been described (34) . Briefly, the UME6 ORF was transferred from the entry clone into each one of 15 expression vectors by using the Gateway™ LR Clonase™ II Enzyme Mix (Invitrogen). After E. coli transformation, the plasmids were verified by EcoRV digest. The URA3-and NAT1-bearing expression plasmids were digested by StuI and transformed into C. albicans strain CEC161 or CEC369, respectively, according to Walther and Wendland (39) . Transformants were selected for prototrophy or nourseothricin resistance, respectively, and verified by PCR using primer CIpUL with (i) primer CIpUR for the URA3-bearing plasmids and (ii) primer author/funder. All rights reserved. No reuse allowed without permission. The copyright holder for this preprint (which was not peer-reviewed) is the . https://doi.org/10.1101/261628 doi: bioRxiv preprint CgSAT1-rev for the SAT1-bearing plasmids, that yield 1 kb and 1.6 kb products, respectively, if integration of the OE plasmid has occurred at the RPS1 locus. Induction of the Tet-On system. Overexpression from P TET was achieved by the addition of anhydrotetracycline (ATc, 3 µg/ml; Fisher Bioblock Scientific) in YPD at 30°C (40) . Overexpression experiments were carried out in the dark, as ATc is light sensitive. Microscope analysis for filamentation. Cells were observed with a Leica DM RXA microscope (Leica Microsystems) with an x40 oil-immersion objective. For the P TET , P TDH3 and P ACT1 strains, a 30 ml culture in YPD or YPD+ATc3 was inoculated at OD600 = 0.2 with a freshly grown colony and incubated at 30°C with shaking until OD600 reaches ~1. For the P PCK1 strain, cells were scraped off the agar of Petri dish cultures and resuspended in 1 ml dH 2 O after centrifugation. The cell suspension was used to inoculate a 40 ml SD culture at OD600 = 0.2. 20 ODs of exponentially growing cells were collected by centrifugation and resuspended in lysis buffer (9M Urea, 1.5% w/v dithiothreitol, 2-4% w/v CHAPS, and 1.5 M Tris pH9.5). Homogenization of the cells was achieved using a FastPrep bead beater. After homogenization, the lysed cells were centrifuged at 13,000 rpm for 10 min at room temperature, and the supernatant containing the solubilized proteins was used directly or stored at -80 °C. Proteins were separated on an Invitrogen 8% NuPage gel, transferred onto nitrocellulose. TAP-and 3HA-tagged proteins were detected using peroxidase-coupled anti-peroxidase and anti-HA-peroxydase antibodies (Sigma and Roche, respectively) and an ECL kit (GE Healthcare). author/funder. All rights reserved. No reuse allowed without permission. The copyright holder for this preprint (which was not peer-reviewed) is the . https://doi.org/10.1101/261628 doi: bioRxiv preprint Mating-compatible strains were generated by deletion of MTLa or MTLα locus using the SAT1 flipper cassette (38) in the two-hybrid strain background SC2H3 (32) . To delete the MTLa locus, flanking regions were amplified with primers MTLa-5\\'F and MTLa-5\\'R, and with MTLa-3\\'F and MTLa-3\\'R. To delete the MTLα locus, homologous regions were amplified with primers MTLα-5\\'F and MTLα-5\\'R, and with MTLα-3\\'F and MTLα-3\\'R. Both fragments for each locus were cloned into pSAT1 (38) , at SacI/NotI and XhoI/KpnI sites respectively. SacI/KpnI deletion constructs were transformed in SC2H3 (32) and transformants were selected on YPD medium containing 200 µg/ml of nourseothricin. Positive SC2H3a and SC2H3α strains were subsequently grown in maltose medium for induction of the recombinase and loss of the SAT1 flipper cassette. For induction of opaque switching, a WOR1 fragment was amplified with primers WOR1F and WOR1R and cloned into pNIM1 vector (40) at SalI and BglII sites. SC2H3a and SC2H3α strains were transformed with pNIM1-WOR1 with selection on nourseothricincontaining medium. The resulting strains, SC2H3a-pWOR1 and SC2H3α−pWOR1, were grown in presence of doxycycline (50 µg/ml) to induce the opaque state (41) . Opaque mating-compatible strains were finally transformed with prey or bait plasmid and selected on SC-ARG or SC-LEU respectively. Bait and prey two-hybrid vectors, pC2HB and pC2HP respectively (32) were converted into Gateway™ destination vectors using the Gateway™ Vector Conversion System to generate pC2HB-GC and pC2HP-GC respectively. The genes encoding the bait protein Hst7 (Orf19.469) and the prey Cek1 (Orf19.2886) were transferred by LR reactions from the donor collection of vectors into pC2HB-GC and pC2HP-GC destination vectors respectively. author/funder. All rights reserved. No reuse allowed without permission. The copyright holder for this preprint (which was not peer-reviewed) is the . https://doi.org/10.1101/261628 doi: bioRxiv preprint Opaque cells of SC2H3a and SC2H3α, expressing VP16-Cek1 (Arg+) and lexA-Hst7 (Leu+) respectively, were crossed as follows. Opaque cells of both types were mixed at 1 x 10 6 cells each in Spider medium (42) and incubated at 23°C for 24h. Resulting tetraploid cells were selected on SC-LEU-ARG medium for 48h incubation at 30°C, and transferred to SC-HIS-MET medium for protein-protein interaction detection. Chromosome loss was induced on pre-sporulation medium at 37°C for 10 days as described previously (43) . Our objective was to develop a C. albicans ORFeome encompassing as many of the 6,205 ORFs predicted in Assembly 21 of the C. albicans genome as possible (44) . To this aim, forward and reverse oligonucleotides with, respectively, attB and attP sequences at their 5\\' ends were synthesized for each of the 6,205 ORFs (Supplemental Table S1 ), used in independent PCR reactions with genomic DNA of C. albicans strain SC5314 (45) and the resulting PCR products were cloned in pDONR207 using Gateway™ recombinational cloning (30) . The resulting plasmids were then subjected to Sanger sequencing at the 5\\' and 3\\' ends of the cloned ORFs and to Illumina sequencing throughout the cloned ORFs. 46) ). We defined 4 groups: (i) 4,209 sequences that are 100% identical with a reference author/funder. All rights reserved. No reuse allowed without permission. HapA/B; Fig. 1B) . When nucleotide differences were present in the two alleles of the reference ORF sequence, we did not notice any bias in the haplotype that was cloned: haplotype A ORFs were cloned in 33% of cases (HapA; Fig. 1B) and haplotype B ORFs were cloned in 31% of cases (HapB; Fig. 1B) . On chromosomes R, 1, 2, 3, 4, 5 and 7, ORF cloning was uniformly successful, with a cloning success rate ranging from ~82% to ~86%. Chromosome 6 ORFs were slightly underrepresented (76.9%) (Fig.   1C ). Although ORFs up to 1.5kb could be cloned with a success rate around 87% and ORFs between 1.5 and 4kb could be cloned with a success rate around 77%, we observed a decreased success rate for the longer ORFs (Fig. 1D) . The analysis of the 6,880,620 nucleotides of the 5,102 sequence-validated ORFs revealed 2077 SNPs. These nucleotide substitutions could be real SNPs between our strain and the reference strain, or due to poor quality of some reference sequences, or mutations in the primers, or misincorporation by the DNA polymerase. Overall, the resulting maximum error rate amounts to 3 x 10 -4 or 1 SNP every 3,312 cloned nucleotides. Notably, the C. albicans SC5314 genome sequence available at CGD (version_A22-s07-m01-r18) contained 272 ORFs with sequence ambiguities for at least one of the alleles. These ambiguities included stretches of \\'Ns\\' or IUPAC code nucleotides (Y, R, S, M, K, W). The ORFeome-generated sequencing data resolved sequence ambiguities for 110 of these ORFs (Supplemental Tables author/funder. All rights reserved. No reuse allowed without permission. The copyright holder for this preprint (which was not peer-reviewed) is the . https://doi.org/10.1101/261628 doi: bioRxiv preprint 3 and 4). In this study, we also detected recombinant haplotypes for 116 of the cloned ORFs (Supplemental Table 5 ) that display characteristics of both reference haplotypes. Taken together, our study provides an almost comprehensive, extremely high quality C. albicans ORFeome. CandidaOrfDB was created to integrate the data of the C. albicans ORFeome project and is available at http://candidaorfeome.eu. CandidaOrfDB enables the scientific community to search for availability and quality of the clones. All data pertinent to the cloning process are stored in the database. This information includes the name and sequence of the primers used to amplify the ORFs from C. albicans SC5314 genomic DNA, the coordinates of the primers in their 96-well storage plates, and any sequencing information available on the clones. SNPs and DIPs, their location in the ORF and their influence on the corresponding amino acid sequences are shown (Fig. 2) . Nucleotide sequence of the cloned ORF and the corresponding amino acid sequence are displayed with highlights of SNPs or DIPs relative to the closest haplotype sequence (Fig. 2) . The reference sequence data have been extracted from CGD (46) . The database can be queried through the ORF number (orf19.xxxx or 19.xxxx; (5)), the Assembly 22 name (Ci_XXXXXW or Ci_XXXXXC; (5)) or the gene name. The C. albicans ORFeome described above was developed in pDONR207 as this allows subsequent transfer of the cloned ORFs in Gateway™-adapted destination vectors. While destination vectors for ORF expression in hosts such as E. coli or S. cerevisiae are available (47, 48) , only a few destination vectors for ORF expression in C. albicans have been reported (11) . Therefore, we set out to establish a collection of Gateway™-adapted destination vectors author/funder. All rights reserved. No reuse allowed without permission. The copyright holder for this preprint (which was not peer-reviewed) is the . https://doi.org/10.1101/261628 doi: bioRxiv preprint for constitutive or conditional expression of untagged or tagged ORFs in C. albicans. Our primary collection of 15 C. albicans destination vectors derived from CIp10S (11) provides a choice of two promoters, either the constitutive promoter P TDH3 or the inducible promoter P TET , and the option for N-or C-terminal fusion to various epitope tags (3xHA or TAP) (Table 2 and Fig. 3) . Integration of the destination vectors and their derivatives at the RPS1 locus in the C. albicans genome is promoted by StuI or I-SceI linearization. These CIp10derived vectors carry either the auxotrophic marker URA3 or the NAT1 marker that confers resistance to nourseothricin and can be used with clinical isolates. However, P TET -bearing plasmids cannot carry the NAT1 marker since the transactivator needed for tetracyclinemediated induction of P TET is borne on the NAT1-carrying pNIMX plasmid (11) . All vectors harbor a so-called spacer sequence (SP) originating from the E. coli kanamycin resistance gene, for barcode insertion and subsequent Illumina-based barcode sequencing. A second set of 34 plasmids was also generated with the constitutive promoters P ACT1 or the inducible promoter P PCK1 , and the option for N-or C-terminal fusion to GFP ( Table 2 ). All 49 destination vectors were designated with a standardized nomenclature, pCA-DESTijkl, whereby i stands for the transformation marker (1, URA3; 2, NAT1); j stands for the promoter (1, P TET ; 2, P PCK1 ; 3, P TDH3 ; 4, P ACT1 ); k stands for N-terminal tagging (0, no tag; 1, 3xHA; 2, GFP; 3, TAP); and l stands for C-terminal tagging (0, no tag; 1, 3xHA; 2, GFP; 3, TAP) ( Table 2 and Fig. 3) . All destination vectors are available from Addgene (https://www.addgene.org). In order to validate that the primary set of 15 destination vectors could drive constitutive or conditional expression of untagged or tagged ORFs, the UME6 ORF was transferred into each of them using LR Clonase™. UME6 encodes a transcription factor whose overexpression has been shown to force filamentation in C. albicans (49, 50) . The validation criteria for the destination vectors were (i) success of the LR reaction, (ii) integration in the author/funder. All rights reserved. No reuse allowed without permission. The copyright holder for this preprint (which was not peer-reviewed) is the . https://doi.org/10.1101/261628 doi: bioRxiv preprint C. albicans genome at the RPS1 locus, (iii) filamentation phenotype and/or (iv) detection of the 3xHA-or TAP-tagged Ume6 protein by western blot. The LR reaction was successfully used to transfer UME6 from the pDONR207::UME6 plasmid to all 15 destination vectors. The resulting expression plasmids were successfully integrated at the C. albicans RPS1 locus. The 5 strains containing P TET were induced overnight at 30°C by adding 3 µg/ml anhydrotetracycline (ATc3) to the culture medium, while the 10 strains containing P TDH3 were grown overnight at 30°C in YPD. As described in Chauvel et al. (11) , overexpression of Ume6 led to hyperfilamentation. This phenotype was observed for all strains, regardless the tags ( Fig. 4A and 4B) . 3xHA-or TAP-tagged Ume6 was detected in the relevant strains and under the appropriate growth conditions (Fig. 5A and 5B) . Taken together, these data present a collection of 49 available destination vectors and validate 15 of those for application with the C. albicans ORFeome. The availability of the ORFeome collection is a prerequisite to large, systematic two-hybrid (2H) screenings in C. albicans. The Candida 2H (C2H) system was developed for targeted one to one protein-protein interaction detection (32) . Hence, there was a need to engineer the system for high throughput screening based on rapid and convenient recombination cloning systems for the generation of prey/bait arrays of proteins, and to use a mating approach to circumvent the low efficiency of transformation of this fungus. The former was obtained by adapting the prey and bait recipient vectors for Gateway™-mediated transfer of the ORFeome library, yielding pC2HB-GC and pC2HP-GC, respectively. The latter involved the combined processes of white-opaque switching and the preparation of mating-compatible 2H strains. The pleiomorphic fungus C. albicans is characterized by a parasexual cycle, with the author/funder. All rights reserved. No reuse allowed without permission. The copyright holder for this preprint (which was not peer-reviewed) is the . https://doi.org/10.1101/261628 doi: bioRxiv preprint possible mating of diploids, and generation of tetraploids, the absence of meiosis and the reversion to the diploid state by chromosome loss (reviewed in (51)). An essential prerequisite to mating in C. albicans is the phenotypic switch from white to opaque, a stable but reversible switch regulated by environmental stimuli such as low temperatures, carbon dioxide and nutrients. The epigenetic switch is tightly linked to mating since the a1/α2 complex, encoded at the mating type like (MTL) loci, acts as a repressor of opaque switching (52) . In that context, the two-hybrid strain SC2H3 originating from the diploid a/α SN152 strain was deleted for the MTLa or MTLα locus to construct SC2H3α and SC2H3a strains. The efficient switch to opaque in the hemizygote strains was achieved by the doxycyclinecontrolled expression of WOR1, a major regulator of the white to opaque switch (41, 53) . A proof of principle of the whole procedure for protein-protein detection is shown in Figure   6 . The MAP kinase kinase Hst7 was used as bait and linked to the DNA binding domain lexA, as part of the pC2HB-GC vector. Similarly, the Cek1 kinase was expressed as a prey protein, fused to the activation domain VP16, component of the pC2HP-GC vector. pC2HB-Hst7 and pC2HP-Cek1 were transformed into opaque SC2H3α and SC2H3a strains, respectively. Mating of the resulting transformants was achieved through selection for leucine and arginine prototrophy. Upon interaction of the two proteins, the reconstituted transcriptional module promoted the expression of the HIS4 marker, allowing only the mating-derived strains to grow on a histidine-free medium, whereas the original diploid strains could not (Fig. 6B) . Through a mechanism of chromosome loss, the crossed tetraploid strains return back to a diploid state. We showed that the plasmids were stably expressed in the diploid offspring strains as these strains conserved their ability to grow in absence of arginine and leucine, indicating the presence of the prey and bait vectors respectively. In addition, all these strains were able to grow in absence of histidine, indicative of the targeted protein-protein interaction. author/funder. All rights reserved. No reuse allowed without permission. The copyright holder for this preprint (which was not peer-reviewed) is the . https://doi.org/10.1101/261628 doi: bioRxiv preprint DISCUSSION A partial C. albicans Gateway™-adapted ORFeome (ORFeomeV1; 644 ORFs) and the corresponding C. albicans overexpression strains have already been successfully used to investigate morphogenesis, biofilm formation and genome dynamics in C. albicans (11, 31, 54) . In this study, we have now generated the C. albicans ORFeomeV2 within the (15, 16, 18, 21, 23, 29) . Given these high standards, the success rate of 83% that we achieved with the C. albicans ORFeomeV2 is quite remarkable. In eukaryotes, ORFeomes are usually cloned from full-length cDNA libraries to account for the presence of introns and therefore splicing variants. However, only 6% of C. albicans genes have introns (55) , rendering the generation of the C. albicans ORFeome more straightforward than for pluricellular eukaryotes. Indeed, ORFs were simply amplified from the genomic DNA of the reference strain SC5314 and therefore, 360 ORFs in the C. albicans ORFeomeV2 harbor introns, a matter that should be taken into consideration when expressing ORFs in a prokaryotic host and, possibly, other eukaryotic hosts than C. albicans. A second aspect to be taken into consideration when using the ORFeome in hosts other than author/funder. All rights reserved. No reuse allowed without permission. The copyright holder for this preprint (which was not peer-reviewed) is the . https://doi.org/10.1101/261628 doi: bioRxiv preprint C. albicans is the unusual codon usage in this species (56) . Indeed, in C. albicans, CUG is decoded as a serine instead of a leucine the majority of the time. Hence, improper translation in hosts with a standard genetic code may distort protein structure and function. Sanger sequencing of both 5\\' and 3\\' ends was performed to confirm ORF identity and exclude clones containing primer or recombination errors. Previous studies have reported mutation rates in primers of 3-10% (26, 29) . Similar rates were observed in this work. Unlike other Gateway™ recombinational cloning projects (15, 29) , we did not see major differences in cloning efficiency for ORFs up to 4 kb. A decrease in success rate was observed only for ORFs >4 kb. This size bias could be attributed to an increased difficulty to amplify the ORF by PCR, a reduced efficiency of the Gateway™ BP Clonase™ reactions with long PCR products, and the error rate of the PCR polymerase, which increases with longer products. In addition, we also corrected the sequences of 110 ORFs with sequence ambiguities (N-tracts and IUPAC code nucleotides) according to the Candida Genome Database and identified 116 ORFs that display a recombinant haplotype. Recombinant haplotypes could be explained by template switching during PCR cycles or by incorrectly phased SNPs in reference sequences. This could be addressed by performing long-read sequencing of the C. albicans SC5314 genome. However, many challenges remain to be addressed. For heterozygous genes, only one allele is present in the ORFeome. Because functional differences have been reported between the 2 alleles of a heterozygous gene (57, 58) , it would be relevant to also clone and validate the second allele in these instances. In addition, oligonucleotides have been designed based on annotation of the haploid set of Assembly 19 of the C. albicans genome. As a consequence, genes of the MTLα locus have not been included in the ORFeome. Despite our efforts, the collection is still missing 1,081 clones. The next version of the C. albicans ORFeome could author/funder. All rights reserved. No reuse allowed without permission. The copyright holder for this preprint (which was not peer-reviewed) is the . https://doi.org/10.1101/261628 doi: bioRxiv preprint extend gene coverage by adding the missing ORFs, allelic variants or strain-specific variations. ORFeomes are essential to bridge the gap between genome annotation and systems biology and allow large-scale gene and protein characterization. The development of a collection of C. albicans constitutive or conditional overexpression strains is one of the applications of the C. albicans ORFeome that we have successfully explored (11, 31, 54) . In this respect, the C. albicans ORFeome project is currently completing its second and third phases, which consist of transferring the 5,102 cloned ORFs into barcoded destination vectors and generating a collection of C. albicans barcoded overexpression mutants, each mutant carrying one of the 5,102 cloned ORFs under the control of the inducible P TET promoter. CandidaOrfDB already provides information on the available overexpression plasmids and strains. In this study, we have paved the way for a second application of the C. albicans ORFeome through the development of tools for a 2H matrix approach of protein-protein interaction detection via mating in C. albicans. Our data show that mating of diploid C. albicans expressing a bait fused to the LexA DNA binding domain and a prey fused to the VP16 activation domain, respectively, allows protein-protein interactions to be tested. In S. cerevisiae, large-scale 2H screens can be performed in a matrix design whereby haploid strains expressing baits and preys are mated and protein-protein interactions are scored in the resulting diploids. Our toolkit now enables the implementation of such a matrix design for large-scale 2H screens in C. albicans. To this aim, a collection of 1500 prey clones has already been generated. As mentioned above, C. albicans codon usage is unusual, which limits the development of applications of the C. albicans ORFeome in species that use standard decoding such as S. cerevisiae. Our development of tools for large-scale 2H screens in C. albicans circumvents this limitation, opening the path for the characterization of the C. albicans interactome. author/funder. All rights reserved. No reuse allowed without permission. The copyright holder for this preprint (which was not peer-reviewed) is the . https://doi.org/10.1101/261628 doi: bioRxiv preprint Defining the C. albicans interactome will undoubtedly impact our understanding of C. albicans pathogenesis in humans. In summary, high-level gene coverage coupled with the versatility of the Gateway™ recombinational cloning, C. albicans-adapted functional genomics tools and full access to clones, make the C. albicans ORFeomeV2 a unique and valuable resource for the scientific community that should greatly facilitate future functional studies in C. albicans. We are grateful to other members of our groups for their support throughout the development of the C. albicans ORFeome. author/funder. All rights reserved. No reuse allowed without permission. The copyright holder for this preprint (which was not peer-reviewed) is the N-ter N-ter C-ter C-ter Promoter: Tag position: Promoter: Tag position: author/funder. All rights reserved. No reuse allowed without permission. The copyright holder for this preprint (which was not peer-reviewed) is the . https://doi.org/10.1101/261628 doi: bioRxiv preprint ']]\n"
     ]
    }
   ],
   "source": [
    "root_location = 'E:/Data_sets' # I offloaded all of the data to a 4TB external drive to save space on my compter here. I dont need 30K articles on my computer lol\n",
    "\n",
    "file_locations = [f'{root_location}/biorxiv_medrxiv/biorxiv_medrxiv', \n",
    "                  f'{root_location}/noncomm_use_subset/noncomm_use_subset', \n",
    "                  f'{root_location}/comm_use_subset/comm_use_subset',\n",
    "                  f'{root_location}/custom_license/custom_license']\n",
    "\n",
    "## Set up Stop Words\n",
    "## Add Any other relevant options manually\n",
    "\n",
    "stop_words = stopwords.words('english') + ['et', 'al', 'fig', 'etal', 'et al', 'et-al']\n",
    "\n",
    "processed_articles = process_articles(file_locations, stop_words)\n",
    "processed_articles.read_files()\n",
    "\n",
    "print('Example File Name')\n",
    "print(processed_articles.root_files[0])\n",
    "print('Number of files')\n",
    "print(len(processed_articles.root_files))\n",
    "print('Example Article Information')\n",
    "print(processed_articles.title_text[2])"
   ]
  },
  {
   "cell_type": "code",
   "execution_count": 10,
   "metadata": {},
   "outputs": [
    {
     "name": "stdout",
     "output_type": "stream",
     "text": [
      "Cleaning out Junk\n",
      "Tokenizing words\n",
      "Converting to list of words and removing stop words\n",
      "Creating word stems\n"
     ]
    }
   ],
   "source": [
    "processed_articles.process_text()"
   ]
  },
  {
   "cell_type": "markdown",
   "metadata": {},
   "source": [
    "### As provided in the covid 19 lab, we will be creating the `bigrams and trigrams` from the available words. "
   ]
  },
  {
   "cell_type": "code",
   "execution_count": 11,
   "metadata": {},
   "outputs": [
    {
     "name": "stdout",
     "output_type": "stream",
     "text": [
      "Creating Bigrams\n",
      "Creating Trigrams from Bigrams\n"
     ]
    },
    {
     "data": {
      "text/plain": [
       "\"['last_decad', 'exponenti_growth', 'quantiti', 'avail', 'genom_sequenc', 'data', 'due', 'rapid_progress', 'sequenc', 'technolog', 'genom_sequenc', 'human', 'fungal_pathogen', 'candida_albican', 'releas', 'assembl', 'challeng', 'work', 'heterozyg', 'diploid', 'organ', 'new', 'comput', 'method', 'develop', 'result', 'releas', 'assembl', 'assembl', 'complet', 'phase', 'diploid', 'genom_sequenc', 'standard', 'albican', 'refer', 'strain', 'sc', 'open_new', 'perspect', 'understand', 'genet_basi', 'function', 'mechan_underli', 'pathogenesi', 'evolut', 'organ', 'although', 'albican', 'gene', 'sequenc', 'avail', 'commun', 'decad', 'predict', 'protein', 'code', 'gene', 'character', 'januari_st', 'accord', 'candida', 'genom', 'databas', 'nowaday', 'grow', 'avail', 'whole_genom', 'dataset', 'encourag', 'shift_toward', 'develop', 'function', 'genom', 'system', 'biolog', 'enabl', 'analysi', 'highthroughput', 'whole_genom', 'assay', 'better_understand', 'biolog', 'network', 'context', 'major', 'effort_made', 'gener', 'larg_scale', 'delet', 'overexpress', 'mutant', 'collect', 'genom_wide', 'orf', 'librari', 'orfeom', 'repres', 'use', 'resourc', 'implement', 'approach', 'use', 'elucid', 'gene', 'function', 'besid', 'develop', 'collect', 'overexpress', 'mutant', 'orfeom', 'facilit', 'approach', 'aim', 'evalu', 'protein', 'subcellular_local', 'identifi', 'protein', 'protein', 'interact', 'yeast', 'two_hybrid', 'steadi_state', 'respons', 'environment_stimuli', 'larg_scale', 'clone', 'project', 'goal', 'clone', 'predict', 'orf', 'flexibl', 'recombin', 'vector', 'describ', 'sever', 'model', 'organ', 'includ', 'power', 'associ', 'albican_orfeom', 'albican', 'adapt', 'two_hybrid', 'system', 'allow', 'systemat', 'protein', 'protein', 'interact', 'screen', 'albican', 'albican', 'strain', 'use', 'studi', 'list_tabl', 'albican', 'strain', 'routin', 'cultur', 'ypd', 'medium', 'yeast_extract_pepton', 'dextros', 'synthet', 'dextros', 'sd', 'medium', 'yeast_nitrogen', 'base', 'dextros', 'ypd', 'medium', 'ypd', 'ml', 'nourseothricin', 'solid_media', 'obtain', 'ad', 'agar', 'coli_strain', 'routin', 'cultur', 'lb', 'yt', 'supplement', 'ml_gentamicin', 'ml_kanamycin', 'ml', 'ticarcillin', 'solid_media', 'obtain', 'ad', 'agar', 'dh_coli', 'cell', 'compet', 'transform', 'dna', 'prepar', 'accord', 'hanahan', 'orfeom', 'collect', 'distribut', 'centr', 'intern', 'de_ressourc', 'microbienn', 'cirm', 'express_vector', 'avail', 'addgen', 'twohybrid', 'strain', 'vector', 'access', 'belgian', 'co_ordin', 'collect', 'micro_organ', 'bccm', 'primer_design', 'dna', 'sequenc', 'albican', 'obtain', 'candida', 'genom', 'databas', 'releas', 'www', 'candidagenom', 'org', 'assembl_releas', 'genespecif', 'forward_primer', 'design', 'ad', 'sequenc', 'end', 'first', 'author_funder_right_reserv', 'reus_allow_without_permiss', 'copyright_holder_preprint_peer', 'review_doi_biorxiv_preprint', 'nucleotid', 'orf', 'gene', 'specif', 'revers_primer', 'design', 'ad', 'sequenc', 'end', 'last', 'nucleotid', 'orf', 'exclud', 'stop_codon', 'pcr', 'fragment_amplifi', 'primer', 'compat', 'termin_tag', 'destin_vector', 'contain', 'gateway', 'cassett', 'total', 'primer_pair', 'obtain', 'invitrogen', 'well', 'format', 'list', 'supplement_tabl', 'gateway_clone', 'albican_orfeom', 'detail', 'method', 'clone', 'albican', 'orf', 'pdonr', 'vector', 'describ_briefli', 'orf', 'rang', 'bp_bp', 'amplifi', 'genom', 'dna', 'albican', 'strain', 'sc', 'well_plate', 'use', 'thermo_scientif', 'phusion_high_fidel', 'dna_polymeras', 'cycl_amplif', 'elong', 'time', 'vari', 'min', 'accord', 'orf', 'size', 'ethanol_precipit', 'gateway', 'compat', 'amplifi', 'orf', 'recombin', 'pdonr', 'invitrogen', 'use', 'gateway_bp', 'clonas_ii', 'enzym', 'mix', 'invitrogen', 'reaction_mix', 'contain', 'pdonr', 'pcr_product', 'bp_clonas', 'incub_overnight', 'well_plate', 'room_temperatur', 'ad', 'proteinas', 'invitrogen', 'incub_min', 'bp', 'reaction', 'directli', 'use', 'bacteri', 'transform', 'chemic_compet', 'coli_dh', 'ad', 'bp', 'reaction', 'incub_min', 'heat_shock', 'soc', 'medium', 'ml', 'ypd', 'ml', 'lb', 'ml', 'hepe', 'ad', 'transform', 'reaction', 'sampl', 'cover', 'breath', 'film', 'incub_shake', 'sampl', 'plate', 'onto_lb', 'agar', 'contain', 'ml_gentamicin', 'incub_overnight', 'remaind', 'transform', 'reaction', 'store', 'glycerol', 'singl', 'coloni', 'transform', 'reaction', 'inocul', 'yt', 'ml_gentamicin', 'deep', 'well_micropl', 'hgrowth', 'cultur', 'use', 'plasmid', 'extract', 'storag', 'valid', 'entri', 'clone', 'dna', 'sequenc', 'bioinformat_analysi', 'sanger_sequenc', 'end', 'bp', 'clone', 'perform', 'ver', 'oligonucleotid', 'see_supplement', 'tabl', 'oligonucleotid', 'sequenc', 'except', 'use', 'amplifi', 'orf', 'confirm', 'expect', 'orf', 'clone', 'end', 'also', 'sequenc', 'ver', 'oligonucleotid', 'ensur', 'carri', 'delet_insert', 'valid', 'sanger_sequenc', 'systemat', 'subject', 'full_length', 'sequenc', 'analysi', 'use', 'illumina', 'technolog', 'describ', 'chauvel', 'nonsens_frameshift', 'mutat', 'observ', 'clone', 'orf', 'anoth', 'coloni', 'check', 'orf', 'reamplifi', 'clone', 'attempt', 'unsuccess', 'clone', 'orf', 'abandon', 'clone', 'contain', 'contigu', 'delet_insert', 'multipl', 'bp', 'accept', 'missens_mutat', 'locat_within', 'intron', 'accept', 'note', 'analysi', 'mutat', 'contain', 'orf', 'requir', 'determin_whether', 'mutat', 'affect', 'function', 'orf', 'candidaorfdb', 'creat', 'integr', 'data', 'albican_orfeom', 'project', 'avail', 'databas', 'relat', 'databas', 'use', 'sql', 'databas', 'server', 'oracl', 'web_interfac', 'develop', 'use', 'jee', 'align_algorithm', 'use', 'biojava', 'align', 'java', 'librari', 'implement', 'needlemanwunsch', 'align', 'configur', 'gap', 'open', 'penalti_gap', 'extens', 'penalti', 'substitut_matrix', 'use', 'name', 'nuc', 'creat', 'todd', 'low', 'align_algorithm', 'specif', 'custom', 'candidaorfdb', 'work', 'segment', 'codon', 'provid', 'optim', 'align', 'perform', 'albican', 'averag', 'sequenc', 'length', 'author_funder_right_reserv', 'reus_allow_without_permiss', 'copyright_holder_preprint_peer', 'review_doi_biorxiv_preprint', 'albican_orfeom', 'clone', 'avail', 'centr', 'intern', 'de_ressourc', 'microbienn', 'cirm', 'destin', 'plasmid_construct', 'studi', 'deriv', 'cip_tet', 'gtw', 'confirm', 'sanger_sequenc', 'plasmid', 'sequenc', 'submit_genbank_access', 'number', 'given', 'tabl', 'use', 'pcr', 'sequenc', 'list', 'supplement_tabl', 'sp', 'clone', 'first', 'spacer', 'sequenc', 'sp', 'amplifi', 'coli', 'kanr', 'gene', 'born', 'pcr_topo', 'blunt', 'plasmid', 'invitrogen', 'primer', 'sp_sp', 'pcr_product', 'clone', 'sacii', 'site', 'cip_tet', 'gtw', 'yield', 'cip_tet', 'gtw', 'sp', 'also', 'refer', 'pca_dest', 'bp_long', 'sequenc_flank', 'sp_sp', 'illumina', 'pairedend', 'sequenc', 'primer', 'use', 'insert', 'molecular', 'barcod', 'express_plasmid', 'use', 'signatur', 'tag', 'mutagenesi', 'approach', 'epitop_tag', 'insert', 'frame', 'tag', 'either', 'upstream', 'attr', 'downstream', 'attr', 'allow', 'termin', 'termin', 'protein', 'tag', 'respect', 'clone', 'termin_tag', 'use', 'puc_attr', 'cmr', 'contain', 'pcii', 'bglii', 'fragment', 'cip', 'gtw', 'clone', 'pcii', 'bamhi_site', 'puc', 'cip', 'gtw', 'obtain', 'delet', 'tet', 'cip_tet', 'gtw', 'acci', 'hpai', 'clone', 'xha', 'code_sequenc', 'two', 'oligo', 'pcihabsrg', 'oligo', 'pcihabsrg', 'contain', 'three', 'ha', 'epitop', 'hybrid', 'gel_purifi', 'clone_puc', 'attr_cmr', 'cut', 'pcii', 'bsrgi', 'result', 'plasmid', 'use', 'pcr', 'templat', 'primer_gtw_gtw', 'result', 'pcr_product', 'cut', 'bspei', 'hpai', 'clone', 'site', 'pca_dest', 'yield_pca_dest', 'clone', 'gfp_tag', 'gfp', 'gene', 'amplifi', 'pfa', 'gfp', 'ura', 'primer_gtw_gtw', 'pcr_product', 'cut', 'pcii', 'ecorv', 'ligat', 'site', 'puc_attr', 'cmr', 'result', 'plasmid', 'use', 'pcr', 'templat', 'primer_gtw_gtw', 'result', 'pcr_product', 'cut', 'scai', 'bspei', 'ligat', 'pca_dest', 'cut', 'hpai', 'bspei', 'yield_pca_dest', 'clone', 'tap_tag', 'tap_tag', 'code_region', 'pcr_amplifi', 'pfa', 'tap', 'ura', 'primer_gtw_gtw', 'result', 'pcr_product', 'cut', 'pcii', 'bsrgi', 'ligat', 'site', 'puc_attr', 'cmr', 'result', 'plasmid', 'digest_ecorv', 'bspei', 'smallest', 'restrict', 'fragment_ligat', 'pca_dest', 'cut', 'hpai', 'bspei', 'yield_pca_dest', 'clone', 'termin_tag', 'gener', 'puc_attr', 'insert', 'sali_hindiii', 'fragment', 'pca_dest', 'site', 'puc', 'clone', 'xha', 'epitop', 'pcampi', 'xha', 'use', 'pcr', 'templat', 'primer_gtw_gtw', 'result', 'pcr_product', 'cut', 'bsrgi', 'nsii', 'ligat', 'site', 'puc_attr', 'result', 'plasmid', 'cut', 'sali', 'nsii', 'fragment_clone', 'site', 'pca_dest', 'yield_pca_dest', 'clone', 'gfp_tag', 'gfp', 'gene', 'amplifi', 'pfa', 'gfp', 'ura', 'primer_gtw_gtw', 'result', 'pcr_product', 'cut', 'nsii', 'ecorv', 'ligat', 'site', 'puc_attr', 'result', 'plasmid', 'cut', 'sali', 'nsii', 'gfp', 'bear', 'fragment_ligat', 'site', 'pca_dest', 'yield_pca_dest', 'clone', 'tap_tag', 'tap_tag', 'code_region', 'amplifi', 'cip', 'pck', 'gtw', 'taptag', 'primer_gtw_gtw', 'pcr_product', 'cut', 'bsrgi', 'nsii', 'clone', 'site', 'puc_attr', 'result', 'plasmid', 'digest_sali', 'nsii', 'tap', 'contain', 'fragment_ligat', 'site', 'pca_dest', 'yield_pca_dest', 'author_funder_right_reserv', 'reus_allow_without_permiss', 'copyright_holder_preprint_peer', 'review_doi_biorxiv_preprint', 'promot', 'replac', 'tet', 'either', 'pck', 'obtain', 'cip', 'pck', 'gtw', 'taptag', 'yield', 'pca', 'destxx', 'seri', 'tdh', 'cut', 'pk', 'tdh_tdh', 'pcr_amplifi', 'sc', 'genom', 'dna', 'oligo', 'sz_sz', 'fragment', 'insert', 'pbluescript_ks', 'cut', 'xhoi', 'ecorv', 'yield', 'pca', 'destxx', 'seri', 'act', 'cut', 'cip', 'act', 'gluc', 'yield', 'pca', 'destxx', 'seri', 'select', 'marker', 'plasmid', 'except', 'tet', 'seri', 'auxotroph_marker', 'ura', 'replac', 'nat', 'marker', 'confer', 'nourseothricin', 'resist', 'briefli', 'xbai', 'draiii', 'fragment', 'spei', 'naei', 'fragment', 'cut', 'puc', 'nat', 'insert', 'similarli', 'cut', 'vector', 'puc', 'nat', 'built', 'amplifi', 'nat', 'control', 'tef', 'promot', 'uz', 'uz', 'use', 'pfa', 'sat', 'templat', 'clone', 'aatii', 'cut', 'fragment', 'site', 'puc', 'express_vector', 'avail', 'addgen', 'construct', 'albican', 'ume', 'overexpress', 'strain', 'detail', 'method', 'transfer', 'albican', 'orf', 'pdonr', 'express_plasmid', 'well', 'integr', 'result', 'express_plasmid', 'rp', 'locu', 'describ_briefli', 'ume', 'orf', 'transfer', 'entri', 'clone', 'one', 'express_vector', 'use', 'gateway', 'lr_clonas', 'ii', 'enzym', 'mix', 'invitrogen', 'coli_transform', 'plasmid', 'verifi', 'ecorv_digest', 'ura', 'nat', 'bear', 'express_plasmid', 'digest', 'stui', 'transform', 'albican', 'strain', 'cec', 'cec', 'respect', 'accord', 'walther', 'wendland', 'transform', 'select', 'prototrophi', 'nourseothricin', 'resist', 'respect', 'verifi', 'pcr', 'use', 'primer', 'cipul', 'primer', 'cipur', 'ura', 'bear', 'plasmid', 'ii', 'primer', 'author_funder_right_reserv', 'reus_allow_without_permiss', 'copyright_holder_preprint_peer', 'review_doi_biorxiv_preprint', 'cgsat', 'rev', 'sat', 'bear', 'plasmid', 'yield', 'kb_kb', 'product', 'respect', 'integr', 'oe', 'plasmid', 'occur', 'rp', 'locu', 'induct', 'tet', 'system', 'overexpress', 'tet', 'achiev', 'addit', 'atc', 'ml', 'fisher', 'bioblock', 'scientif', 'ypd', 'overexpress', 'experi_carri', 'dark', 'atc', 'light', 'sensit', 'microscop', 'analysi', 'filament', 'cell', 'observ', 'leica_dm', 'rxa', 'microscop_leica', 'microsystem', 'oil_immers_object', 'tet', 'tdh', 'act', 'strain', 'ml', 'cultur', 'ypd', 'ypd', 'atc', 'inocul', 'od', 'freshli', 'grown', 'coloni', 'incub_shake', 'od_reach', 'pck', 'strain', 'cell', 'scrape', 'agar', 'petri_dish', 'cultur', 'resuspend_ml', 'dh', 'centrifug', 'cell', 'suspens', 'use', 'inocul', 'ml', 'sd', 'cultur', 'od_od', 'exponenti_grow', 'cell', 'collect', 'centrifug_resuspend', 'lysi_buffer', 'urea', 'dithiothreitol', 'chap', 'tri_ph', 'homogen', 'cell', 'achiev', 'use', 'fastprep', 'bead_beater', 'homogen_lyse', 'cell', 'centrifug_rpm', 'min_room_temperatur', 'supernat', 'contain', 'solubil', 'protein', 'use', 'directli', 'store', 'protein', 'separ', 'invitrogen', 'nupag_gel', 'transfer_onto', 'nitrocellulos', 'tap', 'ha_tag', 'protein', 'detect', 'use', 'peroxidas', 'coupl', 'anti', 'peroxidas', 'anti_ha', 'peroxydas', 'antibodi', 'sigma', 'roch', 'respect', 'ecl', 'kit_ge_healthcar', 'author_funder_right_reserv', 'reus_allow_without_permiss', 'copyright_holder_preprint_peer', 'review_doi_biorxiv_preprint', 'mate', 'compat', 'strain', 'gener', 'delet', 'mtla', 'mtl_locu', 'use', 'sat', 'flipper', 'cassett', 'two_hybrid', 'strain', 'background', 'sch', 'delet', 'mtla', 'locu', 'flank_region', 'amplifi_primer', 'mtla', 'mtla', 'mtla', 'mtla', 'delet', 'mtl_locu', 'homolog', 'region', 'amplifi_primer', 'mtl', 'mtl', 'mtl', 'mtl', 'fragment', 'locu', 'clone', 'psat', 'saci', 'noti_xhoi', 'kpni_site', 'respect', 'saci_kpni', 'delet', 'construct', 'transform', 'sch', 'transform', 'select', 'ypd', 'medium_contain', 'ml', 'nourseothricin', 'posit', 'scha', 'sch', 'strain', 'subsequ', 'grown', 'maltos', 'medium', 'induct', 'recombinas', 'loss', 'sat', 'flipper', 'cassett', 'induct', 'opaqu', 'switch', 'wor', 'fragment_amplifi', 'primer', 'worf', 'worr', 'clone', 'pnim', 'vector', 'sali', 'bglii_site', 'scha', 'sch', 'strain', 'transform', 'pnim', 'wor', 'select', 'medium', 'result', 'strain', 'scha', 'pwor', 'sch', 'pwor', 'grown', 'presenc', 'doxycyclin', 'ml', 'induc', 'opaqu', 'state', 'opaqu', 'mate', 'compat', 'strain', 'final', 'transform', 'prey_bait', 'plasmid', 'select', 'sc', 'arg', 'sc', 'leu', 'respect', 'bait_prey', 'two_hybrid', 'vector', 'pchb', 'pchp', 'respect', 'convert', 'gateway_destin', 'vector', 'use', 'gateway', 'vector', 'convers', 'system', 'gener', 'pchb_gc', 'pchp_gc', 'respect', 'gene_encod', 'bait', 'protein', 'hst', 'orf', 'prey', 'cek', 'orf', 'transfer', 'lr_reaction', 'donor', 'collect', 'vector', 'pchb_gc', 'pchp_gc', 'destin_vector', 'respect', 'author_funder_right_reserv', 'reus_allow_without_permiss', 'copyright_holder_preprint_peer', 'review_doi_biorxiv_preprint', 'opaqu', 'cell', 'scha', 'sch', 'express', 'vp', 'cek', 'arg', 'lexa', 'hst', 'leu', 'respect', 'cross', 'follow', 'opaqu', 'cell', 'type', 'mix', 'cell', 'spider', 'medium', 'incub', 'result', 'tetraploid', 'cell', 'select', 'sc', 'leu_arg', 'medium', 'incub', 'transfer', 'sc', 'met', 'medium', 'protein', 'protein', 'interact', 'detect', 'chromosom', 'loss', 'induc', 'pre', 'sporul', 'medium', 'day', 'describ_previous', 'object', 'develop', 'albican_orfeom', 'encompass', 'mani', 'orf', 'predict', 'assembl', 'albican', 'genom', 'possibl', 'aim', 'forward_revers', 'respect', 'attb', 'attp', 'sequenc', 'end', 'synthes', 'orf', 'supplement_tabl', 'use', 'independ', 'pcr_reaction', 'genom', 'dna', 'albican', 'strain', 'sc', 'result', 'pcr_product', 'clone', 'pdonr', 'use', 'gateway', 'recombin', 'clone', 'result', 'plasmid', 'subject', 'sanger_sequenc', 'end', 'clone', 'orf', 'illumina_sequenc', 'throughout', 'clone', 'orf', 'defin', 'group', 'sequenc_ident', 'refer', 'author_funder_right_reserv', 'reus_allow_without_permiss', 'hapa', 'nucleotid', 'differ', 'present', 'two', 'allel', 'refer', 'orf', 'sequenc', 'notic', 'bia', 'haplotyp', 'clone', 'haplotyp', 'orf', 'clone', 'case', 'hapa', 'haplotyp', 'orf', 'clone', 'case', 'hapb', 'chromosom', 'orf', 'clone', 'uniformli', 'success', 'clone', 'success', 'rate', 'rang', 'chromosom', 'orf', 'slightli', 'although', 'orf', 'kb', 'could', 'clone', 'success', 'rate', 'around', 'orf', 'kb', 'could', 'clone', 'success', 'rate', 'around', 'observ', 'decreas', 'success', 'rate', 'longer', 'orf', 'analysi', 'nucleotid_sequenc', 'valid', 'orf', 'reveal', 'snp', 'nucleotid_substitut', 'could', 'real', 'snp', 'strain', 'refer', 'strain', 'due', 'poor_qualiti', 'refer', 'sequenc', 'mutat', 'primer', 'dna_polymeras', 'overal', 'result', 'maximum', 'error_rate', 'amount', 'snp', 'everi', 'clone', 'nucleotid', 'notabl', 'albican', 'sc', 'genom_sequenc', 'avail', 'cgd', 'version', 'contain', 'orf', 'sequenc', 'ambigu', 'least_one', 'allel', 'ambigu', 'includ', 'stretch', 'ns', 'iupac', 'code', 'nucleotid', 'orfeom', 'gener', 'sequenc', 'data', 'resolv', 'sequenc', 'ambigu', 'orf', 'supplement_tabl', 'author_funder_right_reserv', 'reus_allow_without_permiss', 'copyright_holder_preprint_peer', 'review_doi_biorxiv_preprint', 'studi', 'also', 'detect', 'recombin', 'haplotyp', 'clone', 'orf', 'supplement_tabl', 'display', 'characterist', 'refer', 'haplotyp', 'taken_togeth', 'studi', 'provid', 'almost', 'comprehens', 'extrem_high', 'qualiti', 'albican_orfeom', 'candidaorfdb', 'creat', 'integr', 'data', 'albican_orfeom', 'project', 'avail', 'candidaorfdb', 'enabl', 'scientif_commun', 'search', 'avail', 'qualiti', 'clone', 'data', 'pertin', 'clone', 'process', 'store', 'databas', 'inform', 'includ', 'name', 'sequenc', 'primer', 'use', 'amplifi', 'orf', 'albican', 'sc', 'genom', 'dna', 'coordin', 'primer', 'well', 'storag', 'plate', 'sequenc', 'inform_avail', 'clone', 'snp', 'dip', 'locat', 'orf', 'influenc', 'correspond_amino_acid', 'sequenc', 'shown', 'nucleotid_sequenc', 'clone', 'orf', 'correspond_amino_acid', 'sequenc', 'display', 'highlight', 'snp', 'dip', 'rel', 'closest', 'haplotyp', 'sequenc', 'refer', 'sequenc', 'data', 'extract', 'cgd', 'databas_queri', 'orf', 'number', 'orf', 'xxxx', 'xxxx', 'assembl', 'name', 'ci', 'xxxxxw', 'ci', 'xxxxxc', 'gene', 'name', 'albican_orfeom', 'describ', 'develop', 'pdonr', 'allow', 'subsequ', 'transfer', 'clone', 'orf', 'gateway', 'adapt', 'destin_vector', 'destin_vector', 'orf', 'express', 'host', 'coli', 'cerevisia', 'avail', 'destin_vector', 'orf', 'express', 'albican', 'report', 'therefor', 'set', 'establish', 'collect', 'gateway', 'adapt', 'destin_vector', 'author_funder_right_reserv', 'reus_allow_without_permiss', 'copyright_holder_preprint_peer', 'review_doi_biorxiv_preprint', 'constitut', 'condit', 'express', 'untag', 'tag', 'orf', 'albican', 'primari', 'collect', 'albican', 'destin_vector', 'deriv', 'cip', 'provid', 'choic', 'two', 'promot', 'either', 'constitut', 'promot', 'tdh', 'induc', 'promot', 'tet', 'option', 'termin', 'fusion', 'variou', 'epitop_tag', 'xha', 'tap', 'tabl', 'integr', 'destin_vector', 'deriv', 'rp', 'locu', 'albican', 'genom', 'promot', 'stui', 'scei', 'linear', 'cipderiv', 'vector', 'carri', 'either', 'auxotroph_marker', 'ura', 'nat', 'marker', 'confer_resist', 'nourseothricin', 'use', 'clinic', 'isol', 'howev', 'tet', 'bear', 'plasmid', 'cannot', 'carri', 'nat', 'marker', 'sinc', 'transactiv', 'need', 'induct', 'tet', 'born', 'nat', 'carri', 'pnimx', 'plasmid_vector', 'harbor', 'call', 'spacer', 'sequenc', 'sp', 'origin', 'coli', 'kanamycin_resist', 'gene', 'barcod', 'insert', 'subsequ', 'illumina', 'base', 'barcod', 'sequenc', 'second', 'set', 'plasmid', 'also', 'gener', 'constitut', 'promot', 'act', 'induc', 'promot', 'pck', 'option', 'termin', 'fusion', 'gfp', 'tabl', 'destin_vector', 'design', 'standard_nomenclatur', 'pca', 'destijkl', 'wherebi', 'stand', 'transform', 'marker', 'ura', 'nat', 'stand', 'promot', 'tet', 'pck', 'tdh', 'act', 'stand', 'termin_tag', 'tag_xha', 'gfp', 'tap', 'stand', 'termin_tag', 'tag_xha', 'gfp', 'tap', 'tabl', 'destin_vector', 'avail', 'addgen', 'order', 'valid', 'primari', 'set', 'destin_vector', 'could', 'drive', 'constitut', 'condit', 'express', 'untag', 'tag', 'orf', 'ume', 'orf', 'transfer', 'use', 'lr_clonas', 'ume', 'encod', 'transcript_factor', 'whose', 'overexpress', 'shown', 'forc', 'filament', 'albican', 'valid', 'criteria', 'destin_vector', 'success', 'lr_reaction', 'ii', 'integr', 'author_funder_right_reserv', 'reus_allow_without_permiss', 'copyright_holder_preprint_peer', 'review_doi_biorxiv_preprint', 'albican', 'genom', 'rp', 'locu', 'iii', 'filament', 'phenotyp', 'iv', 'detect', 'xha', 'tap_tag', 'ume', 'protein', 'western_blot', 'lr_reaction', 'success', 'use', 'transfer', 'ume', 'pdonr', 'ume', 'plasmid', 'destin_vector', 'result', 'express_plasmid', 'success', 'integr', 'albican', 'rp', 'locu', 'strain', 'contain', 'tet', 'induc', 'overnight', 'ad', 'ml', 'atc', 'cultur_medium', 'strain', 'contain', 'tdh', 'grown_overnight', 'ypd', 'describ', 'chauvel', 'overexpress', 'ume', 'led', 'phenotyp', 'observ', 'strain', 'regardless', 'tag_xha', 'tap_tag', 'ume', 'detect', 'relev', 'strain', 'appropri', 'growth', 'condit', 'taken_togeth', 'data', 'present', 'collect', 'avail', 'destin_vector', 'valid', 'applic', 'albican_orfeom', 'avail', 'orfeom', 'collect', 'prerequisit', 'larg', 'systemat', 'two_hybrid', 'screen', 'albican_candida', 'ch', 'system', 'develop', 'target', 'one', 'one', 'protein', 'protein', 'interact', 'detect', 'henc', 'need', 'engin', 'system', 'high_throughput', 'screen', 'base', 'rapid', 'conveni', 'recombin', 'clone', 'system', 'gener', 'prey_bait', 'array', 'protein', 'use', 'mate', 'approach', 'circumv', 'low', 'effici', 'transform', 'fungu', 'former', 'obtain', 'adapt', 'prey_bait', 'recipi', 'vector', 'gateway', 'mediat', 'transfer', 'orfeom', 'librari', 'yield', 'pchb_gc', 'pchp_gc', 'respect', 'latter', 'involv', 'combin', 'process', 'white_opaqu', 'switch', 'prepar', 'mate', 'compat', 'strain', 'pleiomorph', 'fungu', 'albican', 'character', 'parasexu', 'cycl', 'author_funder_right_reserv', 'reus_allow_without_permiss', 'copyright_holder_preprint_peer', 'review_doi_biorxiv_preprint', 'possibl', 'mate', 'diploid', 'gener', 'tetraploid', 'absenc', 'meiosi', 'revers', 'diploid', 'state', 'chromosom', 'loss', 'review', 'essenti_prerequisit', 'mate', 'albican', 'phenotyp', 'switch', 'white_opaqu', 'stabl', 'revers', 'switch', 'regul', 'environment_stimuli', 'low_temperatur', 'carbon_dioxid', 'nutrient', 'epigenet', 'switch', 'tightli_link', 'mate', 'sinc', 'complex', 'encod', 'mate', 'type', 'like', 'mtl', 'loci', 'act', 'repressor', 'opaqu', 'switch', 'context', 'two_hybrid', 'strain', 'sch', 'origin', 'diploid', 'sn', 'strain', 'delet', 'mtla', 'mtl_locu', 'construct', 'sch', 'scha', 'strain', 'effici', 'switch', 'opaqu', 'hemizygot', 'strain', 'achiev', 'express', 'wor', 'major', 'regul', 'white_opaqu', 'switch', 'proof_principl', 'whole', 'procedur', 'protein', 'protein', 'detect', 'shown_figur', 'map_kinas', 'kinas', 'hst', 'use', 'bait', 'link', 'dna', 'bind_domain', 'lexa', 'part', 'pchb_gc', 'vector', 'similarli', 'cek', 'kinas', 'express', 'prey', 'protein', 'fuse', 'activ', 'domain', 'vp', 'compon', 'pchp_gc', 'vector', 'pchb', 'hst', 'pchp', 'cek', 'transform', 'opaqu', 'sch', 'scha', 'strain', 'respect', 'mate', 'result', 'transform', 'achiev', 'select', 'leucin', 'arginin', 'prototrophi', 'upon', 'interact', 'two', 'protein', 'reconstitut', 'transcript', 'modul', 'promot', 'express', 'marker', 'allow', 'mate', 'deriv', 'strain', 'grow', 'histidin', 'free_medium', 'wherea', 'origin', 'diploid', 'strain', 'could', 'mechan', 'chromosom', 'loss', 'cross', 'tetraploid', 'strain', 'return_back', 'diploid', 'state', 'show', 'plasmid', 'stabli_express', 'diploid', 'offspr', 'strain', 'strain', 'conserv', 'abil_grow', 'absenc', 'arginin', 'leucin', 'indic', 'presenc', 'prey_bait', 'vector', 'respect', 'addit', 'strain', 'abl', 'grow', 'absenc', 'histidin', 'indic', 'target', 'protein', 'protein', 'interact', 'author_funder_right_reserv', 'reus_allow_without_permiss', 'copyright_holder_preprint_peer', 'review_doi_biorxiv_preprint', 'discuss', 'partial', 'albican', 'gateway', 'adapt', 'orfeom', 'orfeomev', 'orf', 'correspond', 'albican', 'overexpress', 'strain', 'alreadi', 'success', 'use', 'investig', 'morphogenesi', 'biofilm_format', 'genom', 'dynam', 'albican', 'studi', 'gener', 'albican_orfeomev', 'within', 'given', 'high', 'standard', 'success', 'rate', 'achiev', 'albican_orfeomev', 'quit', 'remark', 'eukaryot', 'orfeom', 'usual', 'clone', 'full_length', 'cdna_librari', 'account', 'presenc', 'intron', 'therefor', 'splice_variant', 'howev', 'albican', 'gene', 'intron', 'render', 'gener', 'albican_orfeom', 'straightforward', 'pluricellular', 'eukaryot', 'inde', 'orf', 'simpli', 'amplifi', 'genom', 'dna', 'refer', 'strain', 'sc', 'therefor', 'orf', 'albican_orfeomev', 'harbor', 'intron', 'matter', 'taken_consider', 'express', 'orf', 'prokaryot', 'host', 'possibl', 'eukaryot', 'host', 'albican', 'second', 'aspect', 'taken_consider', 'use', 'orfeom', 'host', 'author_funder_right_reserv', 'reus_allow_without_permiss', 'copyright_holder_preprint_peer', 'review_doi_biorxiv_preprint', 'albican', 'unusu', 'codon_usag', 'speci', 'inde', 'albican', 'cug', 'decod', 'serin', 'instead', 'leucin', 'major', 'time', 'henc', 'improp', 'translat', 'host', 'standard', 'genet_code', 'may', 'distort', 'protein', 'structur', 'function', 'sanger_sequenc', 'end', 'perform', 'confirm', 'orf', 'ident', 'exclud', 'clone', 'contain', 'primer', 'recombin', 'error', 'previou_studi', 'report', 'mutat_rate', 'primer', 'similar', 'rate', 'observ', 'work', 'unlik', 'gateway', 'recombin', 'clone', 'project', 'see', 'major', 'differ', 'clone', 'effici', 'orf', 'kb', 'decreas', 'success', 'rate', 'observ', 'orf', 'kb_size', 'bia', 'could_attribut', 'increas', 'difficulti', 'amplifi', 'orf', 'pcr', 'reduc', 'effici', 'gateway_bp', 'clonas', 'reaction', 'long', 'pcr_product', 'error_rate', 'pcr', 'polymeras', 'increas', 'longer', 'product', 'addit', 'also', 'correct', 'sequenc', 'orf', 'sequenc', 'ambigu', 'tract', 'iupac', 'code', 'nucleotid', 'accord', 'candida', 'genom', 'databas', 'identifi', 'orf', 'display', 'recombin', 'haplotyp', 'recombin', 'haplotyp', 'could_explain', 'templat_switch', 'pcr', 'cycl', 'incorrectli', 'phase', 'snp', 'refer', 'sequenc', 'could', 'address', 'perform', 'long', 'read', 'sequenc', 'albican', 'sc', 'genom', 'howev', 'mani', 'challeng', 'remain', 'address', 'heterozyg', 'gene', 'one', 'allel', 'present', 'orfeom', 'function', 'differ', 'report', 'allel', 'heterozyg', 'gene', 'would', 'relev', 'also', 'clone', 'valid', 'second', 'allel', 'instanc', 'addit', 'design', 'base', 'annot', 'haploid', 'set', 'assembl', 'albican', 'genom', 'consequ', 'gene', 'mtl_locu', 'includ', 'orfeom', 'despit', 'effort', 'collect', 'still', 'miss', 'clone', 'next', 'version', 'albican_orfeom', 'could', 'author_funder_right_reserv', 'reus_allow_without_permiss', 'copyright_holder_preprint_peer', 'review_doi_biorxiv_preprint', 'extend', 'gene', 'coverag', 'ad', 'miss', 'orf', 'allel_variant', 'strain', 'specif', 'variat', 'orfeom', 'essenti', 'bridg_gap', 'genom_annot', 'system', 'biolog', 'allow', 'larg_scale', 'gene', 'protein', 'develop', 'collect', 'albican', 'constitut', 'condit', 'overexpress', 'strain', 'one', 'applic', 'albican_orfeom', 'success', 'explor', 'respect', 'albican_orfeom', 'project', 'current', 'complet', 'second_third', 'phase', 'consist', 'transfer', 'clone', 'orf', 'barcod', 'destin_vector', 'gener', 'collect', 'albican', 'barcod', 'overexpress', 'mutant', 'mutant', 'carri', 'one', 'clone', 'orf', 'control', 'induc', 'tet', 'promot', 'candidaorfdb', 'alreadi', 'provid', 'inform_avail', 'overexpress', 'plasmid', 'strain', 'studi', 'pave_way', 'second', 'applic', 'albican_orfeom', 'develop', 'tool', 'matrix', 'approach', 'protein', 'protein', 'interact', 'detect', 'via', 'mate', 'albican', 'data', 'show', 'mate', 'diploid', 'albican', 'express', 'bait', 'fuse', 'lexa', 'dna', 'bind_domain', 'prey', 'fuse', 'vp', 'activ', 'domain', 'respect', 'allow', 'protein', 'protein', 'interact', 'test', 'cerevisia', 'larg_scale', 'screen', 'perform', 'matrix', 'design', 'wherebi', 'haploid', 'strain', 'express', 'bait_prey', 'mate', 'protein', 'protein', 'interact', 'score', 'result', 'diploid', 'toolkit', 'enabl', 'implement', 'matrix', 'design', 'larg_scale', 'screen', 'albican', 'aim', 'collect', 'prey', 'clone', 'alreadi', 'gener', 'mention', 'albican', 'codon_usag', 'unusu', 'limit', 'develop', 'applic', 'albican_orfeom', 'speci', 'use', 'standard', 'decod', 'cerevisia', 'develop', 'tool', 'larg_scale', 'screen', 'albican', 'circumv_limit', 'open', 'path', 'albican', 'interactom', 'author_funder_right_reserv', 'reus_allow_without_permiss', 'copyright_holder_preprint_peer', 'review_doi_biorxiv_preprint', 'defin', 'albican', 'interactom', 'undoubtedli', 'impact', 'understand', 'albican', 'pathogenesi', 'human', 'summari', 'high_level', 'gene', 'coverag', 'coupl', 'versatil', 'gateway', 'recombin', 'clone', 'albican', 'adapt', 'function', 'genom', 'tool', 'full', 'access', 'clone', 'make', 'albican_orfeomev', 'uniqu', 'valuabl_resourc', 'scientif_commun', 'greatli_facilit', 'futur', 'function', 'studi', 'albican', 'grate', 'member', 'group', 'support', 'throughout', 'develop', 'albican_orfeom', 'author_funder_right_reserv', 'reus_allow_without_permiss', 'copyright_holder_preprint_peer', 'review', 'ter_ter', 'ter_ter', 'promot', 'tag', 'posit', 'promot', 'tag', 'posit', 'author_funder_right_reserv', 'reus_allow_without_permiss', 'copyright_holder_preprint_peer', 'review_doi_biorxiv_preprint']\""
      ]
     },
     "execution_count": 11,
     "metadata": {},
     "output_type": "execute_result"
    }
   ],
   "source": [
    "processed_articles.trigrams([art[3] for art in processed_articles.processed_article])\n",
    "processed_articles.processed_trigrams[2][4]"
   ]
  },
  {
   "cell_type": "code",
   "execution_count": 12,
   "metadata": {},
   "outputs": [],
   "source": [
    "from sklearn.feature_extraction.text import CountVectorizer\n",
    "\n",
    "train, test = train_test_splitter(processed_articles.processed_trigrams, 0.90)\n",
    "\n",
    "vectorizer = CountVectorizer(min_df = 50, max_df = 0.8, max_features = 50000)\n",
    "tf = vectorizer.fit_transform([t[4] for t in train]) ## Vectorize training set\n",
    "tf_feature_names = vectorizer.get_feature_names_out() ## Pull out words for use in eval\n",
    "\n",
    "# Transform test data for perplexity eval\n",
    "\n",
    "tf_test = vectorizer.transform([t[4] for t in test])"
   ]
  },
  {
   "cell_type": "markdown",
   "metadata": {},
   "source": [
    "## Importing the Gensim library for topic modeling"
   ]
  },
  {
   "cell_type": "code",
   "execution_count": 21,
   "metadata": {},
   "outputs": [],
   "source": [
    "import gensim.corpora as corpora\n",
    "from gensim.models import CoherenceModel\n",
    "import logging"
   ]
  },
  {
   "cell_type": "code",
   "execution_count": 22,
   "metadata": {},
   "outputs": [],
   "source": [
    "# creating a dictionary and a corpus for the LDA model\n",
    "\n",
    "id2word = corpora.Dictionary([t[4].split() for t in train])\n",
    "corpus = [id2word.doc2bow(text.split()) for text in [t[4] for t in train]]"
   ]
  },
  {
   "cell_type": "markdown",
   "metadata": {},
   "source": [
    "## `Modeling -LDA`"
   ]
  },
  {
   "cell_type": "code",
   "execution_count": 23,
   "metadata": {},
   "outputs": [],
   "source": [
    "# setting the lists and dictionaries for the models\n",
    "num_topics_list = [8, 9, 10]\n",
    "models = {}\n",
    "perplexity = {}\n",
    "coherence = {}\n",
    "\n",
    "# nice little loop to build the models\n",
    "\n",
    "for num_topics in num_topics_list:\n",
    "    lda_model = gensim.models.LdaModel(corpus=corpus,\n",
    "                                       id2word=id2word,\n",
    "                                       num_topics=num_topics,\n",
    "                                       random_state=100,\n",
    "                                       update_every=1,\n",
    "                                       chunksize=100,\n",
    "                                       passes=10,\n",
    "                                       alpha='auto',\n",
    "                                       per_word_topics=True)\n",
    "    models[num_topics] = lda_model\n",
    "    # evaluate using perplexity\n",
    "    perplexity[num_topics] = lda_model.log_perplexity(corpus)\n",
    "\n",
    "    # evaluate using coherence\n",
    "    coherence_model_lda = CoherenceModel(model=lda_model, texts=[t[4].split() for t in train], dictionary=id2word, coherence='c_v')\n",
    "    coherence[num_topics] = coherence_model_lda.get_coherence()"
   ]
  },
  {
   "cell_type": "markdown",
   "metadata": {},
   "source": [
    "`That was a 17 minute run time for the cell above`"
   ]
  },
  {
   "cell_type": "code",
   "execution_count": 24,
   "metadata": {},
   "outputs": [
    {
     "name": "stdout",
     "output_type": "stream",
     "text": [
      "Number of topics: 8\n",
      "Perplexity: -9.311266383217047\n",
      "Coherence: 0.4842853560855015\n",
      "\n",
      "Number of topics: 9\n",
      "Perplexity: -9.621981029842669\n",
      "Coherence: 0.4329586510443721\n",
      "\n",
      "Number of topics: 10\n",
      "Perplexity: -10.019501432435934\n",
      "Coherence: 0.45750258984138614\n",
      "\n"
     ]
    }
   ],
   "source": [
    "# Print the evaluation results\n",
    "for num_topics in num_topics_list:\n",
    "    print(f'Number of topics: {num_topics}')\n",
    "    print(f'Perplexity: {perplexity[num_topics]}')\n",
    "    print(f'Coherence: {coherence[num_topics]}')\n",
    "    print('')"
   ]
  },
  {
   "cell_type": "markdown",
   "metadata": {},
   "source": [
    "### `We are going to go with the 10 topic model as it is the best model based on the perplexity and coherence scores`"
   ]
  },
  {
   "cell_type": "code",
   "execution_count": 27,
   "metadata": {},
   "outputs": [
    {
     "name": "stdout",
     "output_type": "stream",
     "text": [
      "Most common words in each topic (model with 10 topics):\n",
      "Topic 0: 0.028*\"'use',\" + 0.012*\"'concentr',\" + 0.009*\"'compound',\"\n",
      "Topic 1: 0.039*\"'protein',\" + 0.011*\"'cell',\" + 0.010*\"'structur',\"\n",
      "Topic 2: 0.028*\"'patient',\" + 0.017*\"'infect',\" + 0.012*\"'studi',\"\n",
      "Topic 3: 0.024*\"'use',\" + 0.022*\"'sequenc',\" + 0.017*\"'detect',\"\n",
      "Topic 4: 0.008*\"'develop',\" + 0.008*\"'provid',\" + 0.008*\"'health',\"\n",
      "Topic 5: 0.010*\"'use',\" + 0.009*\"'case',\" + 0.008*\"'studi',\"\n",
      "Topic 6: 0.047*\"'de',\" + 0.021*\"'cat',\" + 0.013*\"'dog',\"\n",
      "Topic 7: 0.022*\"'may',\" + 0.017*\"'diseas',\" + 0.015*\"'anim',\"\n",
      "Topic 8: 0.048*\"'cell',\" + 0.018*\"'infect',\" + 0.012*\"'activ',\"\n",
      "Topic 9: 0.046*\"'viru',\" + 0.037*\"'infect',\" + 0.032*\"'vaccin',\"\n"
     ]
    }
   ],
   "source": [
    "# printing the top 3 most common words in each topic for the 10 topic model\n",
    "\n",
    "lda_model = models[10]\n",
    "topics = lda_model.print_topics(num_words=3)\n",
    "\n",
    "# prints\n",
    "print(\"Most common words in each topic (model with 10 topics):\")\n",
    "for topic_num, topic_words in topics:\n",
    "    print(f\"Topic {topic_num}: {topic_words}\")"
   ]
  },
  {
   "cell_type": "markdown",
   "metadata": {},
   "source": [
    "### `Topic breakdowns by the most common words and What I think the topics are about`\n",
    "\n",
    "- `Topic 0`: This looks like it is talking about some kind of using some kind of compund and looks like its talking about development of drugs\n",
    "- `Topic 1`: this looks like it us talking about the structure of viruses with the words like protein, cell and structure\n",
    "- `Topic 2`: This looks like the articles are talking about the patinets and the way they are infected during a study. \n",
    "- `Topic 3`: To me it looks like the sequence of events when someone is infected by a virus as it has the word sequencing in there. \n",
    "- `Topic 4`: It looks like they are talking about the action plans to make a vaccine for the virus, and provide it, for healthcare. \n",
    "- `Topic 5`: Maybe how to use studies to help with the virus and using specific cases to help tailor the vaccine? \n",
    "- `Topic 6`: This is maybe talking about the way that the dogs and cats are being infected by the virus or testing subjects? \n",
    "- `Topic 7`: This is talking about the lock down because it icludes the word 'May'\n",
    "- `Topic 8`: This could be talking about what the virus is doing to the cells and how it is affecting the person when the infection sets it? \n",
    "- `Topic 9`: Maybe this is talking about the way that the virus is being spread and how it is being spread, and the vaccines? \n",
    "\n",
    "### `Summary of all the topics 2-3 sentences`\n",
    "\n",
    "I think that all of the topics are looking at different things and the way that the effect people and the way that the virus is being spread. I think that the topics are all very different and are all looking at different thing, and explore multiple topics, but they all are dealing with Viruses, and the way that they are being spread, and the way that they are being treated historically speaking that is."
   ]
  }
 ],
 "metadata": {
  "kernelspec": {
   "display_name": "base",
   "language": "python",
   "name": "python3"
  },
  "language_info": {
   "codemirror_mode": {
    "name": "ipython",
    "version": 3
   },
   "file_extension": ".py",
   "mimetype": "text/x-python",
   "name": "python",
   "nbconvert_exporter": "python",
   "pygments_lexer": "ipython3",
   "version": "3.11.7"
  }
 },
 "nbformat": 4,
 "nbformat_minor": 2
}
