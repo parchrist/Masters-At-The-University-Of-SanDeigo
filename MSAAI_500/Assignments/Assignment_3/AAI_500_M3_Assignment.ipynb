{
 "cells": [
  {
   "cell_type": "markdown",
   "metadata": {},
   "source": [
    "# Assignment 3.1\n",
    "Name:  Parker Christenson  \n",
    "\n",
    "Date:  09/21/2023\n"
   ]
  },
  {
   "cell_type": "markdown",
   "metadata": {},
   "source": [
    "For this assignment, you will refer to the textbook to solve the practice exercises. **Use Python to answer any coding problems (not R, even if indicated in your textbook).** Use Jupyter Notebook, Google Colab, or a similar software program to complete your assignment. Submit your answers as a **PDF or HTML** file. As a best practice, always label your axes and provide titles for any graphs generated on this assignment. Round all quantitative answers to 2 decimal places."
   ]
  },
  {
   "cell_type": "markdown",
   "metadata": {},
   "source": [
    "## Problem 3.2."
   ]
  },
  {
   "cell_type": "markdown",
   "metadata": {},
   "source": [
    "In an exit poll of 1648 voters in the 2020 Senatorial election in Arizona, 51.5% said they voted\n",
    "for Mark Kelly and 48.5% said they voted for Martha McSally"
   ]
  },
  {
   "cell_type": "markdown",
   "metadata": {},
   "source": [
    "a) Suppose that actually 50% of the population voted for Kelly. If this exit poll had the\n",
    "properties of a simple random sample, find the standard error of the sample proportion\n",
    "voting for him."
   ]
  },
  {
   "cell_type": "markdown",
   "metadata": {},
   "source": [
    "b) Under the 50% presumption, are the results of the exit poll surprising? Why? Would you\n",
    "be willing to predict the election outcome? Explain by (i) conducting a simulation; (ii)\n",
    "using the value found in (a) for the standard error."
   ]
  },
  {
   "cell_type": "markdown",
   "metadata": {},
   "source": [
    "`(a) Your answer goes here`"
   ]
  },
  {
   "cell_type": "markdown",
   "metadata": {},
   "source": [
    "If the exit poll has the properties of a simple random sample, the standard error $SE$ of the sample proportion $p$ can be calculated using the formula for the standard error of a proportion:\n",
    "\n",
    "$$SE = \\sqrt{ \\frac{ p(1-p) }{ n } }$$\n",
    "\n",
    "\n",
    "Where:\n",
    "- $p$ is the true proportion of the population that voted for Kelly (in this case, 0.5 or 50%)\n",
    "- $n$ is the sample size (in this case, 1648 voters)\n",
    "\n",
    "Our Test for the Standard Error of the Sample: \n",
    "\n",
    "$$SE = \\sqrt{ \\frac{ 0.5 \\times 0.5 }{ 1648 } }$$\n",
    "\n",
    "\n",
    "$$SE = \\sqrt{ \\frac{ 0.25 }{ 1648 } }$$\n",
    "\n",
    "\n",
    "$$SE = \\sqrt{ 0.0001515151515... }$$\n",
    "\n",
    "\n",
    "$$SE \\approx 0.0123$$\n",
    "\n",
    "\n",
    "So the standard error of the sample proportion voting for Mark Kelly would be approximately $0.0123$. With the super small $Standard$ $Error$ the test was accurate. \n"
   ]
  },
  {
   "cell_type": "markdown",
   "metadata": {},
   "source": [
    "`(b) Your answer goes here`"
   ]
  },
  {
   "cell_type": "markdown",
   "metadata": {},
   "source": [
    "### (I) Conducting the Simulation"
   ]
  },
  {
   "cell_type": "code",
   "execution_count": 1,
   "metadata": {},
   "outputs": [
    {
     "name": "stdout",
     "output_type": "stream",
     "text": [
      "The proportion of sims with a sample as the 0.515 is approx: 0.11398\n"
     ]
    }
   ],
   "source": [
    "import numpy as np \n",
    "\n",
    "# vals \n",
    "n= 1648\n",
    "p = 0.5\n",
    "observed_p = 0.515\n",
    "num_sims = 100000\n",
    "\n",
    "# running the sims\n",
    "extreme_counts = 0  \n",
    "for _ in range(num_sims):\n",
    "    # Generate a binomial sample\n",
    "    sample_votes_for_kelly = np.random.binomial(n, p)\n",
    "    sample_proportion = sample_votes_for_kelly / n\n",
    "    \n",
    "    # Checking to see the pro\n",
    "    if sample_proportion >= observed_p:\n",
    "        extreme_counts += 1\n",
    "\n",
    "# Calc the proportion of sims where the proportion is as extreme as the observed one\n",
    "proportion_extreme = extreme_counts / num_sims\n",
    "print(f\"The proportion of sims with a sample as the {observed_p} is approx: {proportion_extreme}\")"
   ]
  },
  {
   "cell_type": "markdown",
   "metadata": {},
   "source": [
    "\n",
    "#### ii) Using Standard Error\n",
    "Using the standard error value calculated in part (a), a Z-score can be computed to understand how extreme the observed sample proportion is under the null hypothesis.\n",
    "\n",
    "The Z-score is calculated using the formula:\n",
    "$ Z = \\frac{ \\hat{p} - p_0 }{ SE }$ \n",
    "\n",
    "Where:\n",
    "- $ \\hat{p} = 0.515 $ (sample proportion or observed proportion of votes for Kelly)\n",
    "- $ p_0 = 0.5 $ (null hypothesis proportion or expected proportion of votes for Kelly)\n",
    "- $ SE \\approx 0.0123 $ (standard error)\n",
    "\n",
    "After calculating the Z-score, refer to the standard normal distribution to find the probability $p-value$ of observing a sample proportion as extreme as $51.5\\%$. If this probability is very low, typically below $0.05$ we can reject the null hypothesis and conclude that the exit poll result is surprising.\n",
    "\n",
    "### Conclusion\n",
    "Based on the results of the simulation and the calculated $p-value$, we decide if the observed proportion is surprising under the presumption of $50\\%$. With that being said, if the results are significant it could inform our prediction regarding the election outcome, while considering the inherent limitations and assumptions in the analysis."
   ]
  },
  {
   "cell_type": "markdown",
   "metadata": {},
   "source": [
    "## Problem 3.3."
   ]
  },
  {
   "cell_type": "markdown",
   "metadata": {},
   "source": [
    " The 49 students in a class at the University of Florida made blinded evaluations of pairs of\n",
    "cola drinks. For the 49 comparisons of Coke and Pepsi, Coke was preferred 29 times. In the\n",
    "population that this sample represents, is this strong evidence that a majority prefers Coke?\n",
    "Use a simulation of a sampling distribution to answer."
   ]
  },
  {
   "cell_type": "markdown",
   "metadata": {},
   "source": [
    "`Your answer goes here`"
   ]
  },
  {
   "cell_type": "code",
   "execution_count": 2,
   "metadata": {},
   "outputs": [
    {
     "name": "stdout",
     "output_type": "stream",
     "text": [
      "The proportion of simulations with a preference for Coke as extreme as 29 is approximately 0.1274.\n"
     ]
    }
   ],
   "source": [
    "# vals\n",
    "n = 49  \n",
    "observed_coke_preferences = 29  \n",
    "num_simulations = 100000  \n",
    "p = 0.5  \n",
    "\n",
    "# running the simulation\n",
    "extreme_counts = 0  \n",
    "for _ in range(num_simulations):\n",
    "    sample_coke_preferences = np.random.binomial(n, p)\n",
    "    \n",
    "    # checking the observed pref\n",
    "    if sample_coke_preferences >= observed_coke_preferences:\n",
    "        extreme_counts += 1\n",
    "\n",
    "# calculating the proportion of sims where the pref is as extreme as the observed\n",
    "proportion_extreme = extreme_counts / num_simulations\n",
    "\n",
    "print(f\"The proportion of simulations with a preference for Coke as extreme as {observed_coke_preferences} is approximately {proportion_extreme:.4f}.\")"
   ]
  },
  {
   "cell_type": "markdown",
   "metadata": {},
   "source": [
    "## Problem 3.5."
   ]
  },
  {
   "cell_type": "markdown",
   "metadata": {},
   "source": [
    "The example in Section 3.1.4 simulated sampling distributions of the sample mean to determine how precise $\\bar{Y}$ for $n=25$ may estimate a population mean $\\mu.$"
   ]
  },
  {
   "cell_type": "markdown",
   "metadata": {},
   "source": [
    "a) Find the theoretical standard error of $\\bar{Y}$ for the scenario values of $\\sigma = 5$ and 8. How do they compare to the standard deviations of the 100,000 sample means in the simulations?"
   ]
  },
  {
   "cell_type": "markdown",
   "metadata": {},
   "source": [
    "`Your answer goes here`"
   ]
  },
  {
   "cell_type": "markdown",
   "metadata": {},
   "source": [
    "To find the theoretical standard error of the sample mean,  $\\bar{Y}$, the following formula is used:\n",
    "\n",
    "$$\n",
    "SE(\\bar{Y}) = \\frac{\\sigma}{\\sqrt{n}}\n",
    "$$\n",
    "\n",
    "Where:\n",
    "- $ SE(\\bar{Y}) $ is the standard error of the sample mean.\n",
    "- $ \\sigma $ is the population standard deviation.\n",
    "- $ n $ is the sample size.\n",
    "\n",
    "Given $ \\sigma = 5 $ and $ \\sigma = 8 $, (assuming the sample size, \\( n \\), is known), you can substitute the values to find the theoretical standard error of  $\\bar{Y}$ for each case. After finding the theoretical standard errors, you can then compare them to the standard deviations of the 100,000 sample means obtained from the simulations to see how well the theoretical values align with the empirical ones.\n",
    "\n",
    "### Example Calculation\n",
    "For $ \\sigma = 5 $ and a known sample size $ n $:\n",
    "\n",
    "$$ SE(\\bar{Y}) = \\frac{5}{\\sqrt{n}} $$\n",
    "\n",
    "For $ \\sigma = 8 $ and a known sample size $ n $:\n",
    "\n",
    "$$ SE bar{Y}) = \\frac{8}{\\sqrt{n}} $$\n",
    "\n",
    "\n"
   ]
  },
  {
   "cell_type": "markdown",
   "metadata": {},
   "source": [
    " b) In the first scenario, we chose $\\sigma = 5$ under the belief that if $\\mu = 20$, about 2/3 of the sample values would fall between $15$ and $25$. For the gamma distribution with $(\\mu, \\sigma) = (20,5),$ show that the actual probability between 15 and 25 is 0.688."
   ]
  },
  {
   "cell_type": "markdown",
   "metadata": {},
   "source": [
    "`Your answer goes here`"
   ]
  },
  {
   "cell_type": "markdown",
   "metadata": {},
   "source": [
    "The Gamma distribution is characterized by two parameters: the shape parameter $k$ and the scale parameter $\\theta$. These parameters are related to the mean $\\mu$ and the standard deviation $ \\sigma $ of the distribution as follows:\n",
    "\n",
    "$$\\mu = k \\cdot \\theta$$\n",
    "$$\\sigma = \\sqrt{k} \\cdot \\theta$$\n",
    "\n",
    "Given $\\mu = 20$ and $\\sigma = 5$, we can solve for $k$ and $\\theta$:\n",
    "\n",
    "To find $k$ and $\\theta$, we change the equations:\n",
    "\n",
    "\n",
    "#\n",
    "\n",
    "$$k = \\left( \\frac{\\sigma}{\\theta} \\right)^2$$\n",
    "\n",
    "#\n",
    "\n",
    "\n",
    "Subbing the value of $ k $ from the first equation into the second equation to find $ \\theta $:\n",
    "\n",
    "#\n",
    "\n",
    "$$20 = \\theta \\cdot \\sqrt{\\left( \\frac{5}{\\theta} \\right)^2}$$\n",
    "\n",
    "#\n",
    "\n",
    "\n",
    "#\n",
    "\n",
    "$$20 = \\frac{5}{\\theta} \\cdot 5$$\n",
    "\n",
    "#\n",
    "$$\\theta = \\frac{5}{4}$$\n",
    "\n",
    "Subbing back the value of $ \\theta $ to find $ k $:\n",
    "\n",
    "$$k = \\left( \\frac{5}{\\frac{5}{4}} \\right)^2 = 16$$\n",
    "\n",
    "After having found the params $ k = 16 $ and $ \\theta = \\frac{5}{4} $ we can now get the prob that a value from this gamma distribution falls inbetween 15 and 25. The probability can be found using the $CDF$ of the Gamma distribution:\n",
    "\n",
    "\n",
    "$$P(15 < X < 25) = P(X < 25) - P(X < 15)$$"
   ]
  },
  {
   "cell_type": "code",
   "execution_count": 3,
   "metadata": {},
   "outputs": [
    {
     "name": "stdout",
     "output_type": "stream",
     "text": [
      "The actual probability that a value falls between 15 and 25 is approximately 0.688.\n"
     ]
    }
   ],
   "source": [
    "from scipy.stats import gamma\n",
    "\n",
    "# vals\n",
    "k = 16  \n",
    "theta = 5 / 4 \n",
    "\n",
    "# calc the probability\n",
    "lower_bound = 15\n",
    "upper_bound = 25\n",
    "probability = gamma.cdf(upper_bound, a=k, scale=theta) - gamma.cdf(lower_bound, a=k, scale=theta)\n",
    "\n",
    "# print statement \n",
    "print(f\"The actual probability that a value falls between 15 and 25 is approximately {probability:.3f}.\")"
   ]
  },
  {
   "cell_type": "markdown",
   "metadata": {},
   "source": [
    "## Problem 3.8."
   ]
  },
  {
   "cell_type": "markdown",
   "metadata": {},
   "source": [
    "Construct the sampling distribution of the sample proportion of heads, for flipping a balanced\n",
    "coin (a) once; (b) twice; (c) three times; (d) four times. Describe how the shape changes\n",
    "as the number of flips $n$ increases. What would happen if $n$ kept growing? Why?\n"
   ]
  },
  {
   "cell_type": "markdown",
   "metadata": {},
   "source": [
    "`Your answer goes here`"
   ]
  },
  {
   "cell_type": "markdown",
   "metadata": {},
   "source": [
    "When flipping a coin, the probability of getting a heads or a tails is both ($ p $) is $ 0.5 $. The sampling distribution of the sample proportion of heads can be constructed for varying number of flips ($ n \\$. The possible values of the sample proportion for each scenario are the ratios of the number of heads to the total number of flips. \n",
    "\n",
    "### (a) Coin one time\n",
    "For $n = 1$, there are only two possible outcomes, head (H) or tail (T), each with a probability of $ 0.5 $. \n",
    "\n",
    "The Sampling distribution is: \n",
    "$P(H) = 0.5$\n",
    "$P(T) = 0.5$\n",
    "\n",
    "### (b) Coin two times \n",
    "For $ n = 2 $, there are only four possible outcomes: $Heads Heads$, $Heads Tails$ , $Tails Heads$ , $Tails Tails$ . The sample proportions of heads are $ 1, \\, 0.5, \\, 0.5, \\, 0 $ respectively. The sampling distribution is:\n",
    "$P(1) = 0.25$ \n",
    "$P(0.5) = 0.5$ \n",
    "$P(0) = 0.25$\n",
    "\n",
    "### (c) Coin three times\n",
    "For $ n = 3 $, there are eight possible outcomes: $Heads$ $Heads$ Heads$ , $Heads$ $Heads$ $Tails$ , $Heads$ $Tails$ $Heads$ , $Heads$ $Tails$ $Tails$ , $Tails$ $Heads$ $Heads$ , $Tails$ $Heads$ $Tails$ , $Tails$ $Tails$ Heads$ , $Tails$ $Tails$ $Tails$ , with the sample proportions of heads being $ 1, \\, 0.67, \\, 0.67, \\, 0.33, \\, 0.33, \\, 0.33, \\, 0 $. \n",
    "### (d) Flipping a Coin Four times\n",
    "For $n = 4$, the number of possible outcomes is $2^4 = 16$.\n",
    "\n",
    "### Shape Changes and Larger $n$\n",
    "As the number of flips ($n$) increases the sampling distribution of the sample proportion of heads becomes more symmetric and will tend to show a normal distribution.\n",
    "\n",
    "#### If $n$ keeps growing, the sampling distribution would continue to approximate a normal distribution more closely, with the mean of the distribution being equal to the true proportion of heads $p = 0.5$ and the standard deviation $Standard$ $Error$ ($SE$) given by the formula:\n",
    "\n",
    "$SE(\\hat{p}) = \\sqrt{\\frac{p(1 - p)}{n}}$\n",
    "\n",
    "Where $SE(\\hat{p})$ is the standard error of the sample proportion and $hat{p}$ is the sample proportion of heads. As $n$ increases, the standard error decreases, and the sampling distribution becomes narrower, showing more probability around the true proportion of $0.5$. With that being said, to get a normal looking distribution, the more $n$ grows, the better the distribution will look. The fewer tests $n$ is, the data will look more skewed and in some cases more scattered. "
   ]
  },
  {
   "cell_type": "markdown",
   "metadata": {},
   "source": [
    "## Problem 3.13."
   ]
  },
  {
   "cell_type": "markdown",
   "metadata": {},
   "source": [
    "Simulate random sampling from a uniform population distribution with several $n$ values to\n",
    "illustrate the Central Limit Theorem."
   ]
  },
  {
   "cell_type": "markdown",
   "metadata": {},
   "source": [
    "`Your answer goes here`"
   ]
  },
  {
   "cell_type": "code",
   "execution_count": 4,
   "metadata": {},
   "outputs": [
    {
     "data": {
      "image/png": "[encoded data removed]",
      "text/plain": [
       "<Figure size 1000x1000 with 4 Axes>"
      ]
     },
     "metadata": {},
     "output_type": "display_data"
    }
   ],
   "source": [
    "import matplotlib.pyplot as plt\n",
    "\n",
    "np.random.seed(0)\n",
    "\n",
    "# number of sims\n",
    "num_simulations = 10000\n",
    "\n",
    "# sample sizes\n",
    "sample_sizes = [1, 5, 30, 100]\n",
    "fig, axs = plt.subplots(2, 2, figsize=(10, 10))\n",
    "\n",
    "# flatten \n",
    "axs = axs.flatten()\n",
    "\n",
    "# for loop to iterate over different vals of 'n'\n",
    "for i, n in enumerate(sample_sizes):\n",
    "    # list to store the sample mean vals\n",
    "    sample_means = []\n",
    "    \n",
    "    for _ in range(num_simulations):\n",
    "        # pulling the 'n' samples from a uniform dist\n",
    "        samples = np.random.uniform(0, 1, n)\n",
    "        # bringing the samples to the list \n",
    "        sample_means.append(np.mean(samples))\n",
    "    \n",
    "    # plotting the hist \n",
    "    axs[i].hist(sample_means, bins=30, density=True, color='c', edgecolor='k', alpha=0.7)\n",
    "    axs[i].set_title(f'n={n}')\n",
    "    axs[i].set_xlabel('Sample Mean')\n",
    "    axs[i].set_ylabel('Frequency')\n",
    "\n",
    "\n",
    "# showing theh plot \n",
    "plt.tight_layout()\n",
    "plt.show()"
   ]
  },
  {
   "cell_type": "markdown",
   "metadata": {},
   "source": [
    "## Problem 3.14."
   ]
  },
  {
   "cell_type": "markdown",
   "metadata": {},
   "source": [
    "On each bet in a sequence of bets, you win 1 dollar with probability 0.50 and lose 1 dollar (i.e., win negative 1 dollar) with probability 0.50. Let $Y$ denote the total of your winnings and losings after 100 bets. Giving your reasoning, state the approximate distribution of $Y.$ "
   ]
  },
  {
   "cell_type": "markdown",
   "metadata": {},
   "source": [
    "`Your answer goes here`"
   ]
  },
  {
   "cell_type": "markdown",
   "metadata": {},
   "source": [
    "We are going to make $X$ the amount of winning bets, $Y$ the total amount of winning and loosing bets. \n",
    "\n",
    "The prob of winning will be $p = 0.5$ and the prob of loosing will be $q = 0.5$.\n",
    "\n",
    "The Formula will look like this: \n",
    "\n",
    "$$ Y = X - (100 - X) = 2X - 100 $$\n",
    "\n",
    "\n",
    "Binomial Distribution Parameters:\n",
    "\n",
    "number of trails: $n = 100$\n",
    "probabilty of sucess: $p = 0.5$\n",
    "probabilty of failure: $q = 0.5$\n",
    "\n",
    "Since the odds of loosing and winning are the same, $p$ and $q$ are going to be equal to each other. \n",
    "\n",
    "Binomial Distribution Characteristics are as follows:   \n",
    "\n",
    "    \n",
    "$Mean$ = $np$ = $100 \\times 0.5 = 50$\n",
    "\n",
    "\n",
    "$Variance$ = $npq$ = $100 \\times 0.5 \\times 0.5 = 25$\n",
    "\n",
    "\n",
    "#### Getting the Approximate Distribution of $Y$\n",
    "\n",
    "The Central Limit Theorem states that the distribution of the sample mean of a random sample of size $n$ taken from a population with mean $\\mu$ and finite variance $\\sigma^2$ will be approximately normal with mean $\\mu$ and variance $\\frac{\\sigma^2}{n}$ for a large $n$.\n",
    "\n",
    "With that being said our mean for the approx distribution will look like this: \n",
    "\n",
    "$E$($Y$) = $2$ $*$ $E$ $(X)$ - $100$ = $2$ $*$ $50$ - $100$ = $0$\n",
    "\n",
    "Our Variance for the approx distribution will look like this:\n",
    "\n",
    "$Var$($Y$) = $4$ $*$ $Var$ $(X)$ = $4$ $*$ $(100 * .05 * .05)$ = $100$\n",
    "\n",
    "Lastly, our standard deviation for the approx distribution will look like this: \n",
    "\n",
    "$\\sqrt{100}$ = $10$\n",
    "\n"
   ]
  },
  {
   "cell_type": "markdown",
   "metadata": {},
   "source": [
    "## Problem 3.15."
   ]
  },
  {
   "cell_type": "markdown",
   "metadata": {},
   "source": [
    "According to a General Social Survey, in the United States the population distribution of $Y$ =\n",
    "number of good friends (not including family members) has a mean of about 5.5 and a standard\n",
    "deviation of about 3.9."
   ]
  },
  {
   "cell_type": "markdown",
   "metadata": {},
   "source": [
    "a) Is it plausible that this population distribution is normal? Explain."
   ]
  },
  {
   "cell_type": "markdown",
   "metadata": {},
   "source": [
    "`Your answer here`"
   ]
  },
  {
   "cell_type": "markdown",
   "metadata": {},
   "source": [
    "It is plausible to have a distribution like that with a mean of 5.5 and a standard deviation of 3.9. But, we would need to have more information on that specific data set to be able to determine if it is normal for the data set to be normal. But if you were able to get some of the figures, you might be able to use non-parametric tests to expand the data set, and see if the data is normally distributed."
   ]
  },
  {
   "cell_type": "markdown",
   "metadata": {},
   "source": [
    "b) If a new survey takes a simple random sample of 1000 people, describe the sampling\n",
    "distribution of $\\bar{Y}$ by giving its shape and approximate mean and standard error."
   ]
  },
  {
   "cell_type": "markdown",
   "metadata": {},
   "source": [
    "`Your answer here`"
   ]
  },
  {
   "cell_type": "code",
   "execution_count": 6,
   "metadata": {},
   "outputs": [
    {
     "data": {
      "image/png": "[encoded data removed]",
      "text/plain": [
       "<Figure size 1000x600 with 1 Axes>"
      ]
     },
     "metadata": {},
     "output_type": "display_data"
    },
    {
     "name": "stdout",
     "output_type": "stream",
     "text": [
      "Standard Error: 0.1233\n"
     ]
    }
   ],
   "source": [
    "import math\n",
    "from scipy.stats import norm\n",
    "\n",
    "# vals\n",
    "mu = 5.5  #  mean\n",
    "sigma = 3.9  # standard deviation\n",
    "n = 1000  # sample size\n",
    "\n",
    "# standard error\n",
    "SE = sigma / math.sqrt(n)\n",
    "\n",
    "# generating the values \n",
    "x = np.linspace(mu - 3*SE, mu + 3*SE, 1000)\n",
    "y = norm.pdf(x, mu, SE)\n",
    "\n",
    "# Plot the histogram\n",
    "plt.figure(figsize=(10,6))\n",
    "plt.plot(x, y, color='blue')\n",
    "plt.title('Sampling Distribution of $\\overline{Y}$')\n",
    "plt.xlabel('Sample Mean ($\\overline{Y}$)')\n",
    "plt.ylabel('Probability Density Function (PDF)')\n",
    "plt.grid(True)\n",
    "plt.show()\n",
    "\n",
    "# Output the calculated Standard Error\n",
    "print(f'Standard Error: {SE:.4f}')\n"
   ]
  },
  {
   "cell_type": "markdown",
   "metadata": {},
   "source": [
    "c) Suppose that actually the mean of 5.5 and standard deviation of 3.9 are not population\n",
    "values but are based on a sample of 1000 people. Treating results as a simple random\n",
    "sample, give an interval of values within which you can be very sure that the population\n",
    "mean falls. Explain your reasoning."
   ]
  },
  {
   "cell_type": "markdown",
   "metadata": {},
   "source": [
    "`Your answer here`"
   ]
  },
  {
   "cell_type": "markdown",
   "metadata": {},
   "source": [
    "#### Confidence Interval for Population Mean\n",
    "\n",
    "Given the mean $\\bar{x}$ of 5.5, and the sample standard deviation $s$ of 3.9, and a sample size $n$ of 1000 people.\n",
    "\n",
    "#### Standard Error\n",
    "The standard error (SE) is calculated using the formula:\n",
    "$ SE = \\frac{s}{\\sqrt{n}} $\n",
    "$ SE = \\frac{3.9}{\\sqrt{1000}} $\n",
    "\n",
    "#### Confidence Interval\n",
    "For a large sample size ($n > 30$), we can use the z-distribution to construct the confidence interval for the population mean. For being \"very sure,\" let's construct a 99% confidence interval. The z-value for a 99% confidence interval is approximately 2.576.\n",
    "\n",
    "The margin of error (ME) is calculated as follows:\n",
    "$ ME = z \\cdot SE $\n",
    "$ ME = 2.576 \\cdot \\frac{3.9}{\\sqrt{1000}} $\n",
    "\n",
    "Finally, the confidence interval (CI) for the population mean ($\\mu$) is given by:\n",
    "$ CI: \\bar{x} \\pm ME $\n",
    "$ CI: 5.5 \\pm 2.576 \\cdot \\frac{3.9}{\\sqrt{1000}} $\n",
    "\n",
    "Therefor we can be 99% confident that the sample, represents the population mean.\n",
    "\n",
    "#### Explination \n",
    "\n",
    "This interval provides a range of values within which we can be 99% confident that the true population mean number of good friends in the United States falls with the given params. With that being said, the wider the interval, the more uncertain we are about where the true population mean lies and our confidence score will go down. However, the narrower the interval, the more certain we are about the true population mean.\n"
   ]
  },
  {
   "cell_type": "markdown",
   "metadata": {},
   "source": [
    "## Problem 3.18."
   ]
  },
  {
   "cell_type": "markdown",
   "metadata": {},
   "source": [
    "Sunshine City, which attracts primarily retired people, has 90,000 residents with a mean age\n",
    "of 72 years and a standard deviation of 12 years. The age distribution is skewed to the left. A\n",
    "random sample of 100 residents of Sunshine City has $\\bar{y} = 70$ and $s = 11.$"
   ]
  },
  {
   "cell_type": "markdown",
   "metadata": {},
   "source": [
    "a)  Describe the center and spread of the (i) population distribution, (ii) sample data distribution. What shape does the sample data distribution probably have? Why?"
   ]
  },
  {
   "cell_type": "markdown",
   "metadata": {},
   "source": [
    "`Your answer here`"
   ]
  },
  {
   "cell_type": "markdown",
   "metadata": {},
   "source": [
    "#### (i)\n",
    "The Center of the population is 72 years old, which is the mean. \n",
    "\n",
    "The spread of the population is 12 years old, which is the also the standard devation. \n",
    "\n",
    "The shape of the age of the distribution for sunshine city is skewed to the left, because the mean of the residents is the age of 72. Which means the majority of the residents are around the age of 72. \n",
    "\n",
    "#### (ii) \n",
    "\n",
    "The Sample data distribution is 70, which is the mean age for the samples we randomly selected. \n",
    "\n",
    "The spread of the sampple data distribution is 11, which is the standard deviation of the samples we randomly selected.\n",
    "\n",
    "The shape of the data distribution is skewed to the left, because the mean of the samples is 70. The shape might have some left skewness, but since the data was randomly pulled, and the people in the sample are not the same as the population, the shape might be a little different and 100 people who have been randomly selected may not be able to invoke, or show the Central Limit Theorem. The data distribution might be a little different than the population distribution, just moved slightly to the right. \n"
   ]
  },
  {
   "cell_type": "markdown",
   "metadata": {},
   "source": [
    "b) Find the center and spread of the sampling distribution of $\\bar{Y}$ for $n = 100.$ What shape does it have and what does it describe?\n"
   ]
  },
  {
   "cell_type": "markdown",
   "metadata": {},
   "source": [
    "`Your answer here`"
   ]
  },
  {
   "cell_type": "markdown",
   "metadata": {},
   "source": [
    "### b) Center and Spread of the Sampling Distribution of $\\bar{Y} $\n",
    "\n",
    "#### Center:\n",
    "\n",
    "\n",
    "The center of the sampling distribution of $\\bar{Y} $ is equal to the population mean $\\mu $:\n",
    "$$ \\text{E}(\\bar{Y}) = \\mu = 72 \\text{ years} $$\n",
    "\n",
    "#### Spread:\n",
    "\n",
    "\n",
    "The spread of the sampling distribution of $ \\bar{Y} $ is calculated using the standard error (SE) of the mean, which is given by the formula:\n",
    "$$ \\text{SE}(\\bar{Y}) = \\frac{\\sigma}{\\sqrt{n}} $$\n",
    "Given \n",
    "$n = 100$  and $ \\sigma = 12 $ \n",
    "years, we have:\n",
    "\n",
    "$$ \\text{SE}(\\bar{Y}) = \\frac{12}{\\sqrt{100}} = \\frac{12}{10} = 1.2 \\text{ years} $$\n",
    "\n",
    "#### Shape:\n",
    "\n",
    "\n",
    "Due to the Central Limit Theorem, the sampling distribution of $ \\bar{Y} $ will be approximately normally distributed, regardless of the shape of the population distribution, since the sample size $n = 100$ is sufficiently large.\n",
    "\n",
    "#### Description of the shape of the sampling distribution of $ \\bar{Y} $:\n",
    "The sampling distribution of $ \\bar{Y} $ describes the distribution of sample means that would be obtained if we repeatedly drew samples of size 100 from the population of Sunshine City residents. It gives us an idea of how much the sample mean $ \\bar{Y} $ is likely to vary from multiple samples. It's providing insights into the precision of $ \\bar{Y} $ as an estimate of $ \\mu $."
   ]
  },
  {
   "cell_type": "markdown",
   "metadata": {},
   "source": [
    "c)  Explain why it would not be unusual to sample a person of age 60 in Sunshine City, but\n",
    "it would be highly unusual for the sample mean to be 60, for a random sample of 100\n",
    "residents."
   ]
  },
  {
   "cell_type": "markdown",
   "metadata": {},
   "source": [
    "`Your answer here`"
   ]
  },
  {
   "cell_type": "markdown",
   "metadata": {},
   "source": [
    "When sampling the age, it would not be unlikely to see the age of 60, because the population is skewed to the left, and the mean is 72. So the majority of the population is around the age of 72. \n",
    "\n",
    "When sampling the mean, it would be highly unlikely to see the mean of 60, because the mean of the population is 72, and the sample size is 100. When thinking about the age of people that live in the city, 68% of the population is between the ages of 60 and 84. So it would be highly unlikely to see the mean of 60, because the mean of the population is 72, and the sample size is 100.\n",
    "\n",
    "However, it is possible that our sample size is not large enough to fit the Central Limit Theorem. If we had a larger sample size of maybe 1000 residents, a mean of 72 would be more likely. Our ages would also have a very diffrent shape, and very well could be distributed diffrently than the population when pulling just 100 people as a sample. "
   ]
  },
  {
   "cell_type": "markdown",
   "metadata": {},
   "source": [
    "d) Describe the sampling distribution of $\\bar{Y}$ : (i) for a random sample of size $n = 1$; (ii) if you sample all 90,000 residents."
   ]
  },
  {
   "cell_type": "markdown",
   "metadata": {},
   "source": [
    "`Your answer here`"
   ]
  },
  {
   "cell_type": "code",
   "execution_count": null,
   "metadata": {},
   "outputs": [],
   "source": []
  },
  {
   "cell_type": "markdown",
   "metadata": {},
   "source": [
    "## Problem 3.21."
   ]
  },
  {
   "cell_type": "markdown",
   "metadata": {},
   "source": [
    "In your school, suppose that GPA has an approximate normal distribution with $\\mu = 3.0, \\sigma = 0.40.$ Not knowing $\\mu$, you randomly sample $n = 25$ students to estimate it. Using simulation for this application, illustrate the difference between a sample data distribution and the sampling distribution of Y ."
   ]
  },
  {
   "cell_type": "markdown",
   "metadata": {},
   "source": [
    "`Your answer here`"
   ]
  },
  {
   "cell_type": "markdown",
   "metadata": {},
   "source": [
    "### Sample Data Distribution\n",
    "In this problem it is asking for a sample data distribution. This distribution will have its own mean $ \\bar{y} $ and standard deviations. The estimates for the population parameters $ \\mu $ and $ \\sigma $.\n",
    "\n",
    "### Sampling Distribution of $ \\bar{Y} $\n",
    "On the other hand, if we were to repeatedly draw different samples of 25 students and compute the sample mean for each the distribution of these sample means would form the sampling distribution of $ \\bar{Y} $**. \n",
    "\n",
    "According to the Central Limit Theorem, the sampling distribution of $ \\bar{Y} $ will be approximately normally distributed, regardless of the shape of the population distribution, provided the sample size is rather large. With that being said, the mean of this distribution will be equal to the population mean ($ \\mu = 3.0 $), and the $Standard$ $Error$ of the distribution will be as follows:\n",
    "\n",
    "$$ \\text{SE}(\\bar{Y}) = \\frac{\\sigma}{\\sqrt{n}} $$\n",
    "$$ \\text{SE}(\\bar{Y}) = \\frac{0.40}{\\sqrt{25}} $$\n",
    "$$ \\text{SE}(\\bar{Y}) = 0.08 $$\n",
    "\n",
    "The sample data distribution represents the distribution of individual GPAs in a specific sample of students, while the sampling distribution of $ \\bar{Y} $** represents the distribution of sample means we would get if we repeatedly sampled different groups of 25 students from the population. \n"
   ]
  },
  {
   "cell_type": "code",
   "execution_count": 16,
   "metadata": {},
   "outputs": [
    {
     "data": {
      "image/png": "[encoded data removed]",
      "text/plain": [
       "<Figure size 1200x600 with 2 Axes>"
      ]
     },
     "metadata": {},
     "output_type": "display_data"
    },
    {
     "name": "stdout",
     "output_type": "stream",
     "text": [
      "Mean Sampling Distribution: 3.00\n",
      "Standard Deviation Sampling Distribution : 0.08\n"
     ]
    }
   ],
   "source": [
    "### Simulation for this problem\n",
    "\n",
    "\n",
    "# vals \n",
    "mu = 3.0  \n",
    "sigma = 0.40  \n",
    "n = 25 \n",
    "num_simulations = 1000\n",
    "\n",
    "np.random.seed(42)\n",
    "sample_means = []\n",
    "\n",
    "# Sim the number of samples\n",
    "for _ in range(num_simulations):\n",
    "    sample = np.random.normal(loc=mu, scale=sigma, size=n)\n",
    "    sample_mean = np.mean(sample)\n",
    "    sample_means.append(sample_mean)\n",
    "\n",
    "# plotting the hist \n",
    "plt.figure(figsize=(12, 6))\n",
    "plt.subplot(1, 2, 1)\n",
    "plt.hist(sample, bins=10, color='blue', edgecolor='k', alpha=0.7)\n",
    "plt.title('Sample Data Distribution\\n (From Last Simulation)')\n",
    "plt.xlabel('GPA')\n",
    "plt.ylabel('Frequency')\n",
    "\n",
    "# plotting the run of means \n",
    "plt.subplot(1, 2, 2)\n",
    "plt.hist(sample_means, bins=10, color='green', edgecolor='k', alpha=0.7)\n",
    "plt.title('Sampling Distribution of $\\\\bar{Y}$')\n",
    "plt.xlabel('GPA')\n",
    "plt.ylabel('Frequency')\n",
    "\n",
    "plt.tight_layout()\n",
    "plt.show()\n",
    "\n",
    "# calculating the mean and standard deviations \n",
    "mean_sampling_distribution = np.mean(sample_means)\n",
    "std_dev_sampling_distribution = np.std(sample_means)\n",
    "\n",
    "print(f\"Mean Sampling Distribution: {mean_sampling_distribution:.2f}\")\n",
    "print(f\"Standard Deviation Sampling Distribution : {std_dev_sampling_distribution:.2f}\")\n",
    "\n"
   ]
  },
  {
   "cell_type": "markdown",
   "metadata": {},
   "source": [
    "Mean of the Sampling Distribution of $\\ bar{{Y}}$: 3.00\n",
    "\n",
    "And\n",
    "\n",
    "Standard Deviation of the Sampling Distribution of $ \\bar{{Y}}$: 0.08"
   ]
  },
  {
   "cell_type": "markdown",
   "metadata": {},
   "source": [
    "## Problem 3.26."
   ]
  },
  {
   "cell_type": "markdown",
   "metadata": {},
   "source": [
    "When sample data were used to rank states by brain cancer rates, Ellenberg (2014) noted\n",
    "that the highest ranking state (South Dakota) and the nearly lowest ranking state (North\n",
    "Dakota) had relatively small sample sizes. Also, when schools in North Carolina were ranked\n",
    "by their average improvement in test scores, the best and the worst schools were very small\n",
    "schools. Explain how these results could merely reflect how the variability of sample means and\n",
    "proportions depends on the sample size."
   ]
  },
  {
   "cell_type": "markdown",
   "metadata": {},
   "source": [
    "`Your answer here`"
   ]
  },
  {
   "cell_type": "markdown",
   "metadata": {},
   "source": [
    "For the smaller sample sizes, the variability of sample means and proportions depends on the sample size. The smaller the sample size, the more variability there is. The larger the sample size, the less variability there is. The smaller sample sizes in this case is the amount of people that live in south dakota. The state is not heavily populated, and the state may have abnormally high cancer rates from the farming equipment. But the sample size is so small, that it is hard to tell if the cancer rates are actually higher than the rest of the country. And in the case of Schools in North Carolina, the smaller schools may have a higher test score, but the sample size is so small, that it is hard to tell if the test scores are actually higher than the rest of the country. The rate in which the scores fluctuate is based soley off of the sample size. It would be a lot harder to move the average of a larger sample size, than it would be to move the average of a smaller sample size."
   ]
  },
  {
   "cell_type": "markdown",
   "metadata": {},
   "source": []
  }
 ],
 "metadata": {
  "kernelspec": {
   "display_name": "Python 3",
   "language": "python",
   "name": "python3"
  },
  "language_info": {
   "codemirror_mode": {
    "name": "ipython",
    "version": 3
   },
   "file_extension": ".py",
   "mimetype": "text/x-python",
   "name": "python",
   "nbconvert_exporter": "python",
   "pygments_lexer": "ipython3",
   "version": "3.11.4"
  }
 },
 "nbformat": 4,
 "nbformat_minor": 4
}
