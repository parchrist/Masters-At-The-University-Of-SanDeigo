{
 "cells": [
  {
   "cell_type": "markdown",
   "metadata": {},
   "source": [
    "# Assignment 5.1\n",
    "\n",
    "Name:  Parker Christenson\n",
    "\n",
    "Date: 10/05/2023"
   ]
  },
  {
   "cell_type": "markdown",
   "metadata": {},
   "source": [
    "For this assignment, you will refer to the textbook to solve the practice exercises. **Use Python to answer any coding problems (not R, even if indicated in your textbook).** Use Jupyter Notebook, Google Colab, or a similar software program to complete your assignment. Submit your answers as a **PDF or HTML** file. As a best practice, always label your axes and provide titles for any graphs generated on this assignment. Round all quantitative answers to 2 decimal places."
   ]
  },
  {
   "cell_type": "markdown",
   "metadata": {},
   "source": [
    "## Problem 5.1."
   ]
  },
  {
   "cell_type": "markdown",
   "metadata": {},
   "source": [
    "Introducing notation for a parameter, state the following hypotheses in terms of the parameter\n",
    "values and indicate whether it is a null hypothesis or an alternative hypothesis."
   ]
  },
  {
   "cell_type": "markdown",
   "metadata": {},
   "source": [
    "(a) The proportion of all adults in the UK who favor legalized gambling equals 0.50.\n"
   ]
  },
  {
   "cell_type": "markdown",
   "metadata": {},
   "source": [
    "`Your answer goes here`"
   ]
  },
  {
   "cell_type": "markdown",
   "metadata": {},
   "source": [
    "For the given scenario, let $$ represent the proportion of all adults in the UK who favor legalized gambling.\n",
    "\n",
    "(a) The proportion of all adults in the UK who favor legalized gambling equals 0.50.\n",
    "\n",
    "Null hypothesis $( H_0 ): p = 0.50 $\n",
    "\n",
    "The alternative hypothesis would be:\n",
    "\n",
    "Alternative hypothesis $ H_a  or H_1 $: \n",
    "$ p \\neq 0.50 $\n"
   ]
  },
  {
   "cell_type": "markdown",
   "metadata": {},
   "source": [
    "(b) The correlation for Australian adults between smoking (number of cigarettes per day) and blood pressure is positive."
   ]
  },
  {
   "cell_type": "markdown",
   "metadata": {},
   "source": [
    "`Your answer goes here`"
   ]
  },
  {
   "cell_type": "markdown",
   "metadata": {},
   "source": [
    "Null hypothesis $ H_0 $: $ \\rho = 0 $\n",
    "\n",
    "This implies there is no correlation between smoking and blood pressure for Australian adults.\n",
    "\n",
    "Alternative hypothesis $H_a$ or $H_1$: $\\rho$ > $0 $\n",
    "\n",
    "This suggests that the correlation between smoking and blood pressure for Australian adults is positive."
   ]
  },
  {
   "cell_type": "markdown",
   "metadata": {},
   "source": [
    "(c) The mean grade point average this year of all college graduates in the U.S. is the same for females and males."
   ]
  },
  {
   "cell_type": "markdown",
   "metadata": {},
   "source": [
    "`Your answer goes here`"
   ]
  },
  {
   "cell_type": "markdown",
   "metadata": {},
   "source": [
    "Null hypothesis $H_0$: $\\mu_{\\text{female}}$ = $\\mu_{\\text{male}}$\n",
    "\n",
    "This implies the mean GPA is the same for both females and males.\n",
    "\n",
    "Alternative hypothesis $ H_a$  or  $H_1$: $ \\mu_{\\text{female}} \\neq \\mu_{\\text{male}}$\n",
    "\n",
    "This suggests that the mean GPA for females and males are different.\n"
   ]
  },
  {
   "cell_type": "markdown",
   "metadata": {},
   "source": [
    "## Problem 5.6."
   ]
  },
  {
   "cell_type": "markdown",
   "metadata": {},
   "source": [
    "Before a Presidential election, polls are taken in two swing states. The Republican candidate\n",
    "was preferred by 59 of the 100 people sampled in state A and by 525 of 1000 sampled in state\n",
    "B. Treat these as independent binomial samples, where the parameter $\\pi$ is the population\n",
    "proportion voting Republican in the state.\n"
   ]
  },
  {
   "cell_type": "markdown",
   "metadata": {},
   "source": [
    "(a) If we can treat these polls as if the samples were random, use significance tests of $H_0$:\n",
    "$\\pi  = 0.50$ against $H_a:  \\pi > 0.50$ to determine which state has greater evidence supporting a\n",
    "Republican victory. Explain your reasoning.\n"
   ]
  },
  {
   "cell_type": "markdown",
   "metadata": {},
   "source": [
    "`Your answer goes here`"
   ]
  },
  {
   "cell_type": "markdown",
   "metadata": {},
   "source": [
    "For hypothesis testing:\n",
    "$ H_0$: $\\pi = 0.50$\n",
    "$ H_a$: $\\pi > 0.50$\n",
    "\n",
    "For a binomial distribution:\n",
    "Mean: $\\mu = n\\pi$\n",
    "Variance: $\\sigma^2 = n\\pi(1-\\pi)$\n",
    "\n",
    "Using the Central Limit Theorem, for large n, the sampling distribution of the sample proportion  $\\hat{p}$ is approximately normally distributed with:\n",
    "Mean $\\mu = \\pi$\n",
    "Variance:$ \\sigma^2 = \\frac{\\pi(1-\\pi)}{n}$\n",
    "\n",
    "Standard deviation$ \\sigma$ is:\n",
    "$\\sigma$ = $\\sqrt{\\frac{\\pi(1-\\pi)}{n}}$\n",
    "\n",
    "For our tests, using  $\\pi = 0.50$:  $ \\sigma = \\sqrt{\\frac{0.50(1-0.50)}{n}}$\n",
    "\n",
    "(a) For State A:\n",
    "Sample proportion $ \\hat{p}_A $ = $0.59 \\sigma_A$ = $\\sqrt{\\frac{0.50(1-0.50)}{100}}$ = $0.05 $\n",
    "Test statistic for state A: $ Z_A$ = $\\frac{0.59 - 0.50}{0.05} = 1.8$\n",
    "\n",
    "(b) For State B:\n",
    "Sample proportion $ \\hat{p}_B$ = $0.525 \\sigma_B = \\sqrt{\\frac{0.50(1-0.50)}{1000}} = 0.0158$\n",
    "Test statistic for state B:$ Z_B = \\frac{0.525 - 0.50}{0.0158} \\approx 1.58$\n",
    "\n",
    "For a typical test at the 0.05 significance level, the critical value for a one-tailed test is 1.645. \n",
    "\n",
    "Conclusion:\n",
    "State A has a higher test statistic and, therefore, has stronger evidence even though its not conclusive, supporting a Republican victory compared to State B. This does not mean there is significant evidence to reject $H_0$ for State A. That just shows the evidence is stronger relative to State B.\n"
   ]
  },
  {
   "cell_type": "markdown",
   "metadata": {},
   "source": [
    "(b) Conduct a Bayesian analysis to answer the question in (a) by finding in each case the\n",
    "posterior $P(\\pi < 0.50)$, corresponding to the *P-* value in (a). Use beta(50, 50) priors, which\n",
    "have standard deviation 0.05 and reflect the pollster’s strong prior belief that $\\pi$ almost\n",
    "surely is between 0.35 and 0.65. Explain any differences between conclusions."
   ]
  },
  {
   "cell_type": "markdown",
   "metadata": {},
   "source": [
    "`Your answer goes here`"
   ]
  },
  {
   "cell_type": "markdown",
   "metadata": {},
   "source": [
    "##### Bayesian Analysis:\n",
    "\n",
    "Given a prior distribution: Beta (50, 50) which reflects the pollers belief that $ \\pi $ is between 0.35 and 0.65.\n",
    "\n",
    "##### For State A:\n",
    "Prior: Beta(50, 50)\n",
    "Sampled data: 59 in favor 41 not in favor\n",
    "Posterior distribution equation:\n",
    "$ \\text{Beta}(109, 91) $\n",
    "\n",
    "To determine the probability $ P(\\pi < 0.50) $ using the CDF of the Beta (109, 91) distribution at 0.50.\n",
    "\n",
    "##### For State B:\n",
    "Prior: Beta(50, 50)\n",
    "Sampled data: 525 in favor 475 not in favor\n",
    "Posterior distribution:\n",
    "$ \\text{Beta}(575, 525) $\n",
    "\n",
    "For the $ P(\\pi < 0.50) $ using CDF of the Betan (575, 525) distribution  at 0.50.\n",
    "\n",
    "The probabilities provide Bayesian analogs to the frequentist p-values. They show the updated beliefs about the probability that $ \\pi $ is less than 0.50 after observing the data.\n",
    "\n",
    "##### Conclusion:\n",
    "By comparing the Bayesian probabilities with the frequentist p-values from part a we see the influence of the prior beliefs and the data on the conclusions about the likelihood of a Republican victory in each state.\n"
   ]
  },
  {
   "cell_type": "markdown",
   "metadata": {},
   "source": [
    "## Problem 5.8."
   ]
  },
  {
   "cell_type": "markdown",
   "metadata": {},
   "source": [
    "For the `Students` data file at the text website, analyze political ideology."
   ]
  },
  {
   "cell_type": "markdown",
   "metadata": {},
   "source": [
    "(a) Test whether the population mean $\\mu$ differs from 4.0, the moderate response. Report the\n",
    "*P*-value, and interpret. Make a conclusion using $\\alpha$ - level = 0.05."
   ]
  },
  {
   "cell_type": "markdown",
   "metadata": {},
   "source": [
    "`Your answer goes here`"
   ]
  },
  {
   "cell_type": "code",
   "execution_count": 11,
   "metadata": {},
   "outputs": [
    {
     "name": "stdout",
     "output_type": "stream",
     "text": [
      "T-statistic: -4.576584373210669\n",
      "P-value: 2.4837197305408817e-05\n",
      "Reject the null hypothesis. There's sufficient evidence at the α = 0.05 level to conclude that the population mean μ differs from 4.0.\n"
     ]
    }
   ],
   "source": [
    "import pandas as pd\n",
    "from scipy import stats\n",
    "\n",
    "# reading in the data \n",
    "df = pd.read_csv(r'C:\\Users\\user\\Desktop\\School\\MSAAI_500\\Assignments\\Assignment_4\\Students_data.csv')\n",
    "\n",
    "# t-test\n",
    "t_stat, p_value = stats.ttest_1samp(df['ideol'], 4.0)\n",
    "\n",
    "print(f\"T-statistic: {t_stat}\")\n",
    "print(f\"P-value: {p_value}\")\n",
    "\n",
    "# making a conclusion based on alpha  \n",
    "alpha = 0.05\n",
    "if p_value < alpha:\n",
    "    print(\"Reject the null hypothesis. There's sufficient evidence at the α = 0.05 level to conclude that the population mean μ differs from 4.0.\")\n",
    "else:\n",
    "    print(\"Fail to reject the null hypothesis. There's insufficient evidence at the α = 0.05 level to conclude that the population mean μ differs from 4.0.\")"
   ]
  },
  {
   "cell_type": "markdown",
   "metadata": {},
   "source": [
    "(b) Construct the 95% confidence interval for $\\mu$. Explain how results relate to those of the\n",
    "test in (a).\n"
   ]
  },
  {
   "cell_type": "markdown",
   "metadata": {},
   "source": [
    "`Your answer goes here`"
   ]
  },
  {
   "cell_type": "code",
   "execution_count": 12,
   "metadata": {},
   "outputs": [
    {
     "name": "stdout",
     "output_type": "stream",
     "text": [
      "95% Confidence Interval for μ: (2.6106828644663924, 3.455983802200274)\n"
     ]
    }
   ],
   "source": [
    "mean_ideol = df['ideol'].mean()\n",
    "std_ideol = df['ideol'].std()\n",
    "n = len(df['ideol'])\n",
    "\n",
    "# determine the t-value for a 95% CI and degrees of freedom \n",
    "t_value = stats.t.ppf(1 - 0.025, df=n-1)\n",
    "\n",
    "# calc the margin of error\n",
    "margin_error = t_value * (std_ideol / (n**0.5))\n",
    "\n",
    "# construct the 95% CI\n",
    "ci_lower = mean_ideol - margin_error\n",
    "ci_upper = mean_ideol + margin_error\n",
    "\n",
    "print(f\"95% Confidence Interval for μ: ({ci_lower}, {ci_upper})\")"
   ]
  },
  {
   "cell_type": "markdown",
   "metadata": {},
   "source": [
    "## Problem 5.10."
   ]
  },
  {
   "cell_type": "markdown",
   "metadata": {},
   "source": [
    "A study of sheep mentioned in Exercise 1.27 analyzed whether the sheep survived for a year\n",
    "from the original observation time (1 = yes, 0 = no) as a function of their weight (*kg*) at the\n",
    "original observation. Stating any assumptions including the conceptual population of interest,\n",
    "use a *t* test with the data in the Sheep data file at the text website to compare mean weights\n",
    "of the sheep that survived and did not survive. Interpret the *P*-value."
   ]
  },
  {
   "cell_type": "markdown",
   "metadata": {},
   "source": [
    "`Your answer goes here`"
   ]
  },
  {
   "cell_type": "code",
   "execution_count": 13,
   "metadata": {},
   "outputs": [
    {
     "name": "stdout",
     "output_type": "stream",
     "text": [
      "T-statistic: 14.500255633782931\n",
      "P-value: 2.1010522406615758e-44\n",
      "Reject the null. There's a significant difference in the mean weights of sheep that survived and those that did not.\n"
     ]
    }
   ],
   "source": [
    "# Assumptions\n",
    "#1. Independence: Each sheep's weight and survival outcome are independent of another sheep's weight and survival outcome.\n",
    "#2. Random Sampling: The sheep in the dataset represent a random sample from the larger population of sheep.\n",
    "#3. Normal Distribution: The weights of the sheep in both groups are approximately normally distributed.\n",
    "#4. Equal Variance: The variance of weight in both groups is assumed to be equal. \n",
    "#^  this assumption can be relaxed if we use a Welch's t-test.\n",
    "\n",
    "from scipy.stats import ttest_ind\n",
    "\n",
    "# Running the Tests \n",
    "sheep_data = pd.read_csv(r'C:\\Users\\user\\Desktop\\School\\MSAAI_500\\Assignments\\Assignment_5\\Sheep_Data.csv')\n",
    "survived_weights = sheep_data[sheep_data['survival'] == 1]['weight']\n",
    "not_survived_weights = sheep_data[sheep_data['survival'] == 0]['weight']\n",
    "\n",
    "# Perform a two-sample t-test\n",
    "t_stat, p_value = ttest_ind(survived_weights, not_survived_weights, equal_var=True)\n",
    "\n",
    "print(f\"T-statistic: {t_stat}\")\n",
    "print(f\"P-value: {p_value}\")\n",
    "\n",
    "# interpret the p-value\n",
    "alpha = 0.05\n",
    "if p_value < alpha:\n",
    "    print(\"Reject the null. There's a significant difference in the mean weights of sheep that survived and those that did not.\")\n",
    "else:\n",
    "    print(\"Fail to reject the null . There's no significant difference in the mean weights of sheep that survived and those that did not.\")"
   ]
  },
  {
   "cell_type": "markdown",
   "metadata": {},
   "source": [
    "## Problem 5.11."
   ]
  },
  {
   "cell_type": "markdown",
   "metadata": {},
   "source": [
    "Use descriptive statistics and significance tests to compare the population mean political ideology for each pair of groups in Table 5.2 using the `Polid` data file. Summarize results using\n",
    "*P*-values and using a non-technical explanation."
   ]
  },
  {
   "cell_type": "markdown",
   "metadata": {},
   "source": [
    "`Your answer goes here`"
   ]
  },
  {
   "cell_type": "markdown",
   "metadata": {},
   "source": [
    "## `This problem confused me, Can you comment if I did it right?`"
   ]
  },
  {
   "cell_type": "code",
   "execution_count": 14,
   "metadata": {},
   "outputs": [
    {
     "name": "stdout",
     "output_type": "stream",
     "text": [
      "Comparison between hispanic and black:\n",
      "P-value: 0.0050\n",
      "There's a significant difference in political ideology between hispanic and black.\n",
      "-----\n",
      "Comparison between hispanic and white:\n",
      "P-value: 0.3232\n",
      "There's no significant difference in political ideology between hispanic and white.\n",
      "-----\n",
      "Comparison between black and white:\n",
      "P-value: 0.0000\n",
      "There's a significant difference in political ideology between black and white.\n",
      "-----\n"
     ]
    }
   ],
   "source": [
    "polid_data = pd.read_csv(r'C:\\Users\\user\\Desktop\\School\\MSAAI_500\\Assignments\\Assignment_5\\Polid_data.csv')\n",
    "\n",
    "# race is used as categorical val \n",
    "groups = polid_data['race'].unique()\n",
    "\n",
    "results = {}\n",
    "\n",
    "# pair-wise t-tests\n",
    "for i in range(len(groups)):\n",
    "    for j in range(i+1, len(groups)):\n",
    "        group1 = polid_data[polid_data['race'] == groups[i]]['ideology']\n",
    "        group2 = polid_data[polid_data['race'] == groups[j]]['ideology']\n",
    "        \n",
    "        t_stat, p_value = ttest_ind(group1, group2)\n",
    "        \n",
    "        results[(groups[i], groups[j])] = p_value\n",
    "\n",
    "# print the results\n",
    "for pair, p_val in results.items():\n",
    "    print(f\"Comparison between {pair[0]} and {pair[1]}:\")\n",
    "    print(f\"P-value: {p_val:.4f}\")\n",
    "    if p_val < 0.05:\n",
    "        print(f\"There's a significant difference in political ideology between {pair[0]} and {pair[1]}.\")\n",
    "    else:\n",
    "        print(f\"There's no significant difference in political ideology between {pair[0]} and {pair[1]}.\")\n",
    "    print(\"-----\")"
   ]
  },
  {
   "cell_type": "markdown",
   "metadata": {},
   "source": [
    "## Problem 5.14 (a)."
   ]
  },
  {
   "cell_type": "markdown",
   "metadata": {},
   "source": [
    "The `Income` data file at the book’s website shows annual incomes in thousands of dollars for\n",
    "subjects in three racial-ethnic groups in the U.S."
   ]
  },
  {
   "cell_type": "markdown",
   "metadata": {},
   "source": [
    "(a) Stating all assumptions including the relative importance of each, show all steps of a significance test for comparing population mean incomes of Blacks and Hispanics. Interpret.\n"
   ]
  },
  {
   "cell_type": "markdown",
   "metadata": {},
   "source": [
    "`Your answer goes here`"
   ]
  },
  {
   "cell_type": "code",
   "execution_count": 15,
   "metadata": {},
   "outputs": [
    {
     "name": "stdout",
     "output_type": "stream",
     "text": [
      "T-statistic: -0.6796203688666405\n",
      "P-value: 0.5023\n",
      "Fail to reject the null hypothesis. There's no significant difference in mean incomes between Blacks and Hispanics.\n"
     ]
    }
   ],
   "source": [
    "income_data = pd.read_csv(r'C:\\Users\\user\\Desktop\\School\\MSAAI_500\\Assignments\\Assignment_1\\Income_data.csv')\n",
    "\n",
    "# Filter incomes based on racial-ethnic groups\n",
    "black_incomes = income_data[income_data['race'] == 'B']['income']\n",
    "hispanic_incomes = income_data[income_data['race'] == 'H']['income']\n",
    "\n",
    "# Two-sample t-test\n",
    "t_stat, p_value = ttest_ind(black_incomes, hispanic_incomes, equal_var=True)\n",
    "\n",
    "# Print results\n",
    "print(f\"T-statistic: {t_stat}\")\n",
    "print(f\"P-value: {p_value:.4f}\")\n",
    "\n",
    "# interpretation\n",
    "alpha = 0.05\n",
    "if p_value < alpha:\n",
    "    print(\"Reject the null hypothesis. There's a significant difference in mean incomes between Blacks and Hispanics.\")\n",
    "else:\n",
    "    print(\"Fail to reject the null hypothesis. There's no significant difference in mean incomes between Blacks and Hispanics.\")"
   ]
  },
  {
   "cell_type": "markdown",
   "metadata": {},
   "source": [
    "## Problem 5.15."
   ]
  },
  {
   "cell_type": "markdown",
   "metadata": {},
   "source": [
    "A recent report $\\text{}^{39}$ estimated mean adult heights in the U.S. of 175.4 *cm* (69.1 inches) for men\n",
    "and 161.7 *cm* (63.7 inches) for women, with standard deviation about 7 *cm* for each group. For\n",
    "all finishers in the Boston Marathon since 1972, the time to finish has a mean of 221 minutes\n",
    "for men and 248 minutes for women, each with a standard deviation of about 40 minutes.\n",
    "According to the effect size, is the difference between men and women greater for height or for\n",
    "marathon times? Explain."
   ]
  },
  {
   "cell_type": "markdown",
   "metadata": {},
   "source": [
    "`Your answer goes here`"
   ]
  },
  {
   "cell_type": "markdown",
   "metadata": {},
   "source": [
    "## Effect Size Comparison: Height vs. Marathon Time\n",
    "\n",
    "Effect size is a measure of the magnitude of a phenomenon or difference. \n",
    "\n",
    "For Cohen's $d$:\n",
    "$$ d = \\frac{\\mu_1 - \\mu_2}{s} $$\n",
    "Where:\n",
    "- $ \\mu_1 $ and $ \\mu_2 $ are the two means.\n",
    "- $ s $ is the pooled standard deviation.\n",
    "\n",
    "### Height:\n",
    "Given:\n",
    "- Mean height for men is $ \\mu_1 $ = 175.4 cm\n",
    "- Mean height for women is $ \\mu_2 $ = 161.7 cm\n",
    "- Standard deviation $ s $ (they're almost the same for both) = 7 cm\n",
    "\n",
    "Effect size for height:\n",
    "$ d_{\\text{height}} = \\frac{175.4 - 161.7}{7} $\n",
    "\n",
    "### Marathon Time:\n",
    "Given:\n",
    "- Mean time for men $ \\mu_1 $ = 221 minutes\n",
    "- Mean time for women $ \\mu_2 $ = 248 minutes\n",
    "- Standard deviation $ s $ (once again they're almost the same) = 40 minutes\n",
    "\n",
    "Effect size for marathon time:\n",
    "$ d_{\\text{marathon}} = \\frac{221 - 248}{40} $\n",
    "\n",
    "### Comparison:\n",
    "We can calculate and compare $ d_{\\text{height}}$ and $d_{\\text{marathon}} $. The greater the absolute value of $ d $, the greater the effect size. What this is indicating is a larger difference between the two groups relative to the variability within the groups.\n",
    "\n",
    "If you wanted to get the actual values, you would need to perform the calculations for \\( d_{\\text{height}} \\) and \\( d_{\\text{marathon}} \\). That would look like this:\n",
    "\n",
    "1. If $ |d_{\\text{height}}| > |d_{\\text{marathon}}| $, then the difference between men and women is greater for height.\n",
    "2. If $ |d_{\\text{height}}| < |d_{\\text{marathon}}| $, then the difference between men and women is greater for marathon times.\n",
    "\n",
    "### Final explination: \n",
    "Cohen's $ d $ gives us a sense of how big the difference between men and women's means are when you take variability into account. By comparing the effect sizes for height and marathon time, you're then able to determine where the gender difference is more pronounced relative to the variability in each measurement.\n"
   ]
  },
  {
   "cell_type": "markdown",
   "metadata": {},
   "source": [
    "## Problem 5.17."
   ]
  },
  {
   "cell_type": "markdown",
   "metadata": {},
   "source": [
    "Ideally, results of a statistical analysis should not depend greatly on a single observation. In a\n",
    "sensitivity study, we re-do the analysis after deleting an outlier from the data set or changing its\n",
    "value to a more typical value and checking whether results change much. For the anorexia data\n",
    "analysis in Section 5.3.2, the weight change of 20.9 pounds for the cb group was a severe outlier.\n",
    "Suppose this observation was actually 2.9 pounds but recorded incorrectly. Find the *P*-value\n",
    "for testing $H_0: \\mu1 = \\mu2$ against $H_a: \\mu1 \\ne \\mu2$ with and without that observation. Summarize its\n",
    "influence."
   ]
  },
  {
   "cell_type": "markdown",
   "metadata": {},
   "source": [
    "`Your answer goes here`"
   ]
  },
  {
   "cell_type": "markdown",
   "metadata": {},
   "source": [
    "\n",
    "\n"
   ]
  },
  {
   "cell_type": "markdown",
   "metadata": {},
   "source": [
    "## Problem 5.19."
   ]
  },
  {
   "cell_type": "markdown",
   "metadata": {},
   "source": [
    "In the 2018 General Social Survey, when asked whether they believed in life after death, 1017 of 1178 females said *yes*, and 703 of 945 males said *yes*. Test that the population proportions are equal for females and males. Report and interpret the *P*-value."
   ]
  },
  {
   "cell_type": "markdown",
   "metadata": {},
   "source": [
    "`Your answer goes here`"
   ]
  },
  {
   "cell_type": "markdown",
   "metadata": {},
   "source": [
    "\n",
    "### Data:\n",
    "- Females: 1017 out of 1178 said *yes*\n",
    "- Males: 703 out of 945 said *yes*\n",
    "\n",
    "### Hypotheses:\n",
    "- **Null Hypothesis** $ H_0 $: The population proportion of females who believe in life after death is equal to that of males.\n",
    "$ p_{\\text{female}} = p_{\\text{male}} $\n",
    "\n",
    "- **Alternative Hypothesis** (\\( H_a \\)): The population proportion of females who believe in life after death is not equal to that of males.\n",
    "$ p_{\\text{female}} \\neq p_{\\text{male}} $\n",
    "\n",
    "### Test:\n",
    "The formula for the test statistic is:\n",
    "\n",
    "$$ z = \\frac{(\\hat{p}_{\\text{female}} - \\hat{p}_{\\text{male}})}{\\sqrt{p(1-p)(\\frac{1}{n_{\\text{female}}} + \\frac{1}{n_{\\text{male}}})}} $$\n",
    "\n",
    "\n",
    "Where $ \\hat{p} $ is the pooled sample proportion:\n",
    "$ \\hat{p} = \\frac{p_{\\text{female}} n_{\\text{female}} + p_{\\text{male}} n_{\\text{male}}}{n_{\\text{female}} + n_{\\text{male}}} $\n",
    "\n",
    "### Interpretation:\n",
    "The $ P $-value represents the probability of observing such a difference in proportions if the null hypothesis were true. A low $ P $-value (typically $ \\alpha = 0.05 $) would indicate that we can reject the null hypothesis, suggesting a significant difference in the proportions of females and males who believe in life after death.\n"
   ]
  },
  {
   "cell_type": "markdown",
   "metadata": {},
   "source": [
    "#### Calculating in Python"
   ]
  },
  {
   "cell_type": "code",
   "execution_count": 16,
   "metadata": {},
   "outputs": [
    {
     "name": "stdout",
     "output_type": "stream",
     "text": [
      "Z-statistic: 6.9726\n",
      "P-value: 0.0000\n",
      "Reject the null hypothesis. There's a significant difference in the proportions of females and males who believe in life after death.\n"
     ]
    }
   ],
   "source": [
    "import statsmodels.api as sm\n",
    "\n",
    "# data\n",
    "female_yes = 1017\n",
    "female_total = 1178\n",
    "\n",
    "male_yes = 703\n",
    "male_total = 945\n",
    "\n",
    "# Two-proportion z-test\n",
    "z_stat, p_value = sm.stats.proportions_ztest([female_yes, male_yes], [female_total, male_total])\n",
    "\n",
    "# print results\n",
    "print(f\"Z-statistic: {z_stat:.4f}\")\n",
    "print(f\"P-value: {p_value:.4f}\")\n",
    "\n",
    "# interpretation\n",
    "if p_value < 0.05:\n",
    "    print(\"Reject the null hypothesis. There's a significant difference in the proportions of females and males who believe in life after death.\")\n",
    "else:\n",
    "    print(\"Fail to reject the null hypothesis. There's no significant difference in the proportions of females and males who believe in life after death.\")\n"
   ]
  },
  {
   "cell_type": "markdown",
   "metadata": {},
   "source": [
    "## Problem 5.23."
   ]
  },
  {
   "cell_type": "markdown",
   "metadata": {},
   "source": [
    "Use the `Happy` data file from the 2018 General Social Survey at the text website to form a\n",
    "contingency table that cross classifies happiness with gender. For $ H_0 $: independence between\n",
    "happiness and gender:"
   ]
  },
  {
   "cell_type": "markdown",
   "metadata": {},
   "source": [
    "(a) Conduct and interpret the chi-squared test."
   ]
  },
  {
   "cell_type": "markdown",
   "metadata": {},
   "source": [
    "`Your answer goes here`"
   ]
  },
  {
   "cell_type": "code",
   "execution_count": 17,
   "metadata": {},
   "outputs": [
    {
     "name": "stdout",
     "output_type": "stream",
     "text": [
      "Contingency Table:\n",
      "gender     female  male\n",
      "happiness              \n",
      "1             353   295\n",
      "2             642   553\n",
      "3             153   146\n",
      "\n",
      "Chi-squared Value: 0.9165\n",
      "P-value: 0.6324\n",
      "Fail to reject the null hypothesis (H_0). There's no significant association between happiness and gender.\n"
     ]
    }
   ],
   "source": [
    "from scipy.stats import chi2_contingency\n",
    "\n",
    "happy_data = pd.read_csv(r\"C:\\Users\\user\\Desktop\\School\\MSAAI_500\\Assignments\\Assignment_5\\Happy_Data.csv\")\n",
    "\n",
    "# contingency table\n",
    "contingency_table = pd.crosstab(happy_data['happiness'], happy_data['gender'])\n",
    "\n",
    "# print the contingency table\n",
    "print(\"Contingency Table:\")\n",
    "print(contingency_table)\n",
    "\n",
    "# applying the chi-squared test\n",
    "chi2, p_value, _, _ = chi2_contingency(contingency_table)\n",
    "\n",
    "# print the results\n",
    "print(f\"\\nChi-squared Value: {chi2:.4f}\")\n",
    "print(f\"P-value: {p_value:.4f}\")\n",
    "\n",
    "# interpretation\n",
    "if p_value < 0.05:\n",
    "    print(\"Reject the null hypothesis (H_0). There's a significant association between happiness and gender.\")\n",
    "else:\n",
    "    print(\"Fail to reject the null hypothesis (H_0). There's no significant association between happiness and gender.\")\n"
   ]
  },
  {
   "cell_type": "markdown",
   "metadata": {},
   "source": [
    "(b) Show the estimated expected frequencies and standardized residuals, and form a mosaic\n",
    "plot. Explain how they are consistent with the result of the chi-squared test."
   ]
  },
  {
   "cell_type": "markdown",
   "metadata": {},
   "source": [
    "`Your answer goes here`"
   ]
  },
  {
   "cell_type": "code",
   "execution_count": 18,
   "metadata": {},
   "outputs": [
    {
     "name": "stdout",
     "output_type": "stream",
     "text": [
      "Expected Frequencies:\n",
      "gender         female        male\n",
      "happiness                        \n",
      "1          347.294118  300.705882\n",
      "2          640.457516  554.542484\n",
      "3          160.248366  138.751634\n",
      "\n",
      "Standardized Residuals:\n",
      "gender       female      male\n",
      "happiness                    \n",
      "1          0.306178 -0.329042\n",
      "2          0.060950 -0.065502\n",
      "3         -0.572589  0.615348\n"
     ]
    },
    {
     "data": {
      "image/png": "[encoded data removed]",
      "text/plain": [
       "<Figure size 640x480 with 3 Axes>"
      ]
     },
     "metadata": {},
     "output_type": "display_data"
    }
   ],
   "source": [
    "import numpy as np \n",
    "from statsmodels.graphics.mosaicplot import mosaic\n",
    "\n",
    "# calculate  frequencies:\n",
    "\n",
    "chi2, p, _, expected = chi2_contingency(contingency_table)\n",
    "expected_df = pd.DataFrame(expected, columns=contingency_table.columns, index=contingency_table.index)\n",
    "print(\"Expected Frequencies:\")\n",
    "print(expected_df)\n",
    "\n",
    "# standardized residuals:\n",
    "\n",
    "standardized_residuals = (contingency_table - expected) / np.sqrt(expected)\n",
    "print(\"\\nStandardized Residuals:\")\n",
    "print(standardized_residuals)\n",
    "\n",
    "# mosaic plot\n",
    "mosaic(contingency_table.stack(), gap=0.00, title=\"Mosaic Plot\")\n",
    "plt.show()\n"
   ]
  },
  {
   "cell_type": "markdown",
   "metadata": {},
   "source": [
    "&nbsp;\n",
    "&nbsp;\n",
    "&nbsp;\n",
    "&nbsp;\n",
    "&nbsp;\n",
    "&nbsp;\n",
    "&nbsp;\n",
    "&nbsp;\n",
    "\n",
    "\n",
    "----------------\n",
    "$^{39}$ See www.cdc.gov/nchs/data/nhsr/nhsr122-508.pdf and https://doi.org/10.1371/journal.pone.  "
   ]
  }
 ],
 "metadata": {
  "kernelspec": {
   "display_name": "Python 3.8.3 ('base')",
   "language": "python",
   "name": "python3"
  },
  "language_info": {
   "codemirror_mode": {
    "name": "ipython",
    "version": 3
   },
   "file_extension": ".py",
   "mimetype": "text/x-python",
   "name": "python",
   "nbconvert_exporter": "python",
   "pygments_lexer": "ipython3",
   "version": "3.11.4"
  },
  "vscode": {
   "interpreter": {
    "hash": "b61bb2d7a674932f79ec86662a4165aa288473e6e47a51dc8e3ab9a9cd94608c"
   }
  }
 },
 "nbformat": 4,
 "nbformat_minor": 4
}
