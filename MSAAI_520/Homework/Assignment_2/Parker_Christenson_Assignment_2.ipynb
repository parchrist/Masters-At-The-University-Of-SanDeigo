{
 "cells": [
  {
   "cell_type": "markdown",
   "metadata": {},
   "source": [
    "# **Parker Christenson Assignment 2.1: Text Classification using Word Embeddings**\n",
    "\n",
    "\n",
    "## Instructions \n",
    "`Prior to beginning work on this assignment, review the week's lab session.`\n",
    "\n",
    "#### Dataset\n",
    "\n",
    "The dataset comprises newsgroup documents categorized into 20 different topics. Each document is labeled with its corresponding newsgroup category.\n",
    "\n",
    "Download the dataset from the following link: https://www.kaggle.com/datasets/crawford/20-newsgroups?resource=download\n",
    "\n",
    "\n",
    "-   Load the \"20 Newsgroups\" dataset into a pandas DataFrame.\n",
    "-   Preprocess the text data: remove stopwords, punctuation, convert to lowercase, etc.\n",
    "-   Split the data into training and testing sets.\n",
    "-   Utilize pre-trained word embeddings (e.g., Word2Vec, GloVe) and/or train your own embeddings using the training data.\n",
    "-   Build a text classification model using a classifier of your choice (e.g., Logistic Regression, Support Vector Machine, Neural Network).\n",
    "-   Train the model using the transformed training data (with embeddings).\n",
    "-   Predict the categories for the testing data.\n",
    "-   Evaluate the model's performance\n",
    "-   Evaluate the model's performance using the following classification metrics:\n",
    "    -   Accuracy\n",
    "    -   Precision (weighted)\n",
    "    -   Recall (weighted)\n",
    "    -   F1 Score (weighted)\n",
    "    -   Confusion Matrix\n",
    "    -   Area Under the Receiver Operating Characteristic curve (AUC-ROC)"
   ]
  },
  {
   "cell_type": "code",
   "execution_count": 100,
   "metadata": {},
   "outputs": [],
   "source": [
    "# text pre processing imports \n",
    "import re\n",
    "import string\n",
    "import nltk\n",
    "from nltk.corpus import stopwords\n",
    "from nltk.tokenize import word_tokenize\n",
    "from nltk.stem import WordNetLemmatizer\n",
    "from nltk.stem import PorterStemmer\n",
    "from nltk.corpus import wordnet\n",
    "from nltk import ne_chunk, pos_tag\n",
    "from nltk.tree import Tree\n",
    "from nltk import pos_tag\n",
    "from tqdm import tqdm\n",
    "import os\n",
    "\n",
    "\n",
    "# standard imports\n",
    "import pandas as pd\n",
    "import numpy as np\n",
    "import matplotlib.pyplot as plt\n",
    "import seaborn as sns\n",
    "\n",
    "# sklearn imports\n",
    "from sklearn.feature_extraction.text import CountVectorizer\n",
    "from sklearn.feature_extraction.text import TfidfVectorizer\n",
    "from sklearn.model_selection import train_test_split\n",
    "from sklearn.metrics import accuracy_score\n",
    "from sklearn.metrics import classification_report\n",
    "from sklearn.metrics import confusion_matrix\n",
    "from sklearn.metrics import f1_score\n",
    "from sklearn.metrics import precision_score\n",
    "from sklearn.metrics import recall_score\n",
    "from sklearn.metrics import roc_auc_score\n",
    "\n",
    "# tensorflow imports\n",
    "import tensorflow as tf\n",
    "from keras.models import Sequential\n",
    "from keras.layers import Dense, Dropout\n",
    "from keras.utils import to_categorical"
   ]
  },
  {
   "cell_type": "code",
   "execution_count": 49,
   "metadata": {},
   "outputs": [
    {
     "name": "stdout",
     "output_type": "stream",
     "text": [
      "Tensorflow version:  2.17.0\n",
      "The GPU is available\n",
      "Num GPUs Available:  1\n"
     ]
    }
   ],
   "source": [
    "print(\"Tensorflow version: \", tf.__version__)\n",
    "print(\"The GPU is\", \"available\" if tf.config.experimental.list_physical_devices(\"GPU\") else \"NOT AVAILABLE\")\n",
    "print(\"Num GPUs Available: \", len(tf.config.experimental.list_physical_devices('GPU')))"
   ]
  },
  {
   "cell_type": "code",
   "execution_count": 50,
   "metadata": {},
   "outputs": [
    {
     "name": "stdout",
     "output_type": "stream",
     "text": [
      "There are total of 20 categories\n"
     ]
    }
   ],
   "source": [
    "# Loading the data set from sklearn\n",
    "from sklearn.datasets import fetch_20newsgroups\n",
    "newsgroups = fetch_20newsgroups(subset='all')\n",
    "\n",
    "print(\"There are total of\", len(newsgroups.target_names), \"categories\")"
   ]
  },
  {
   "cell_type": "code",
   "execution_count": 51,
   "metadata": {},
   "outputs": [
    {
     "name": "stdout",
     "output_type": "stream",
     "text": [
      "From: Mamatha Devineni Ratnam <mr47+@andrew.cmu.edu>\n",
      "Subject: Pens fans reactions\n",
      "Organization: Post Office, Carnegie Mellon, Pittsburgh, PA\n",
      "Lines: 12\n",
      "NNTP-Posting-Host: po4.andrew.cmu.edu\n",
      "\n",
      "\n",
      "\n",
      "I am sure some bashers of Pens fans are pretty confused about the lack\n",
      "of any kind of posts about the recent Pens massacre of the Devils. Actually,\n",
      "I am  bit puzzled too and a bit relieved. However, I am going to put an end\n",
      "to non-PIttsburghers' relief with a bit of praise for the Pens. Man, they\n",
      "are killing those Devils worse than I thought. Jagr just showed you why\n",
      "he is much better than his regular season stats. He is also a lot\n",
      "fo fun to watch in the playoffs. Bowman should let JAgr have a lot of\n",
      "fun in the next couple of games since the Pens are going to beat the pulp out of Jersey anyway. I was very disappointed not to see the Islanders lose the final\n",
      "regular season game.          PENS RULE!!!\n",
      "\n",
      "\n"
     ]
    }
   ],
   "source": [
    "# displaying some of the data in the dataset\n",
    "print(newsgroups.data[0])"
   ]
  },
  {
   "cell_type": "code",
   "execution_count": 52,
   "metadata": {},
   "outputs": [
    {
     "name": "stdout",
     "output_type": "stream",
     "text": [
      "['alt.atheism', 'comp.graphics', 'comp.os.ms-windows.misc', 'comp.sys.ibm.pc.hardware', 'comp.sys.mac.hardware', 'comp.windows.x', 'misc.forsale', 'rec.autos', 'rec.motorcycles', 'rec.sport.baseball', 'rec.sport.hockey', 'sci.crypt', 'sci.electronics', 'sci.med', 'sci.space', 'soc.religion.christian', 'talk.politics.guns', 'talk.politics.mideast', 'talk.politics.misc', 'talk.religion.misc']\n"
     ]
    }
   ],
   "source": [
    "# printing the target names\n",
    "print(newsgroups.target_names)"
   ]
  },
  {
   "cell_type": "code",
   "execution_count": 53,
   "metadata": {},
   "outputs": [
    {
     "name": "stdout",
     "output_type": "stream",
     "text": [
      "[[  0 799]\n",
      " [  1 973]\n",
      " [  2 985]\n",
      " [  3 982]\n",
      " [  4 963]\n",
      " [  5 988]\n",
      " [  6 975]\n",
      " [  7 990]\n",
      " [  8 996]\n",
      " [  9 994]\n",
      " [ 10 999]\n",
      " [ 11 991]\n",
      " [ 12 984]\n",
      " [ 13 990]\n",
      " [ 14 987]\n",
      " [ 15 997]\n",
      " [ 16 910]\n",
      " [ 17 940]\n",
      " [ 18 775]\n",
      " [ 19 628]]\n"
     ]
    }
   ],
   "source": [
    "# getting a count of the target names and their frequency\n",
    "unique, counts = np.unique(newsgroups.target, return_counts=True)\n",
    "print(np.asarray((unique, counts)).T)"
   ]
  },
  {
   "cell_type": "code",
   "execution_count": 54,
   "metadata": {},
   "outputs": [
    {
     "name": "stdout",
     "output_type": "stream",
     "text": [
      "                                                text  target\n",
      "0  From: Mamatha Devineni Ratnam <mr47+@andrew.cm...      10\n",
      "1  From: mblawson@midway.ecn.uoknor.edu (Matthew ...       3\n",
      "2  From: hilmi-er@dsv.su.se (Hilmi Eren)\\nSubject...      17\n",
      "3  From: guyd@austin.ibm.com (Guy Dawson)\\nSubjec...       3\n",
      "4  From: Alexander Samuel McDiarmid <am2o+@andrew...       4\n"
     ]
    }
   ],
   "source": [
    "# making the data into a dataframe\n",
    "data = pd.DataFrame({'text': newsgroups.data, 'target': newsgroups.target})\n",
    "print(data.head())"
   ]
  },
  {
   "cell_type": "code",
   "execution_count": 55,
   "metadata": {},
   "outputs": [
    {
     "name": "stdout",
     "output_type": "stream",
     "text": [
      "From: tell@cs.unc.edu (Stephen Tell)\n",
      "Subject: Re: subliminal message flashing on TV\n",
      "Organization: The University of North Carolina at Chapel Hill\n",
      "Lines: 25\n",
      "NNTP-Posting-Host: rukbat.cs.unc.edu\n",
      "\n",
      "In article <7480237@hpfcso.FC.HP.COM> myers@hpfcso.FC.HP.COM (Bob Myers) writes:\n",
      ">> Hi.  I was doing research on subliminal suggestion for a psychology\n",
      ">> paper, and I read that one researcher flashed hidden messages on the\n",
      ">> TV screen at 1/200ths of a second.  Is that possible?\n",
      "\n",
      "> Might\n",
      ">even be a vector (\"strokewriter\") display, in which case the lower limit\n",
      ">on image time is anyone's guess (and is probably phosphor-persistence limited).\n",
      "\n",
      "Back in high school I worked as a lab assistant for a bunch of experimental\n",
      "psychologists at Bell Labs.  When they were doing visual perception and\n",
      "memory experiments, they used vector-type displays, with 1-millisecond\n",
      "refresh rates common.\n",
      "\n",
      "So your case of 1/200th sec is quite practical, and the experimenters were\n",
      "probably sure that it was 5 milliseconds, not 4 or 6 either.\n",
      "\n",
      ">Bob Myers  KC0EW >myers@fc.hp.com \n",
      "\n",
      "Steve\n",
      "-- \n",
      "Steve Tell       tell@cs.unc.edu H: 919 968 1792  | #5L Estes Park apts\n",
      "UNC Chapel Hill Computer Science W: 919 962 1845  | Carrboro NC 27510\n",
      "Engineering is a _lot_ like art:  Some circuits are like lyric poems, some\n",
      "are like army manuals, and some are like The Hitchhiker's Guide to the Galaxy..\n",
      "\n"
     ]
    }
   ],
   "source": [
    "# printing the first text in the data\n",
    "print(data['text'][5])"
   ]
  },
  {
   "cell_type": "code",
   "execution_count": 70,
   "metadata": {},
   "outputs": [
    {
     "name": "stderr",
     "output_type": "stream",
     "text": [
      "[nltk_data] Downloading package punkt to /home/parker/nltk_data...\n",
      "[nltk_data]   Package punkt is already up-to-date!\n",
      "[nltk_data] Downloading package wordnet to /home/parker/nltk_data...\n",
      "[nltk_data]   Package wordnet is already up-to-date!\n",
      "[nltk_data] Downloading package punkt_tab to /home/parker/nltk_data...\n",
      "[nltk_data]   Package punkt_tab is already up-to-date!\n",
      "[nltk_data] Downloading package averaged_perceptron_tagger_eng to\n",
      "[nltk_data]     /home/parker/nltk_data...\n",
      "[nltk_data]   Package averaged_perceptron_tagger_eng is already up-to-\n",
      "[nltk_data]       date!\n",
      "[nltk_data] Downloading package maxent_ne_chunker_tab to\n",
      "[nltk_data]     /home/parker/nltk_data...\n",
      "[nltk_data]   Package maxent_ne_chunker_tab is already up-to-date!\n",
      "[nltk_data] Downloading package words to /home/parker/nltk_data...\n",
      "[nltk_data]   Unzipping corpora/words.zip.\n"
     ]
    },
    {
     "data": {
      "text/plain": [
       "True"
      ]
     },
     "execution_count": 70,
     "metadata": {},
     "output_type": "execute_result"
    }
   ],
   "source": [
    "# downloading the punk_tab\n",
    "nltk.download('punkt')\n",
    "nltk.download('wordnet')\n",
    "nltk.download('punkt_tab')\n",
    "nltk.download('averaged_perceptron_tagger_eng')\n",
    "nltk.download('maxent_ne_chunker_tab')\n",
    "nltk.download('words')\n"
   ]
  },
  {
   "cell_type": "code",
   "execution_count": 71,
   "metadata": {},
   "outputs": [],
   "source": [
    "def Preprocess(text_data):\n",
    "    \"\"\"\"\n",
    "    Function to preprocess text file, generate preprocessed email domain, subjects, and text\n",
    "    \"\"\"\n",
    "    \n",
    "    preprocessed_email = []\n",
    "    preprocessed_subject = []\n",
    "    preprocessed_text = []\n",
    "    \n",
    "    for sentence in tqdm(text_data):\n",
    "        \n",
    "        # Preprocessing email\n",
    "        domain = re.findall(\"@[\\w.]+\", sentence)\n",
    "        email = \"\"\n",
    "        for items in domain:\n",
    "            items = items.replace(\"@\", \"\")    \n",
    "            items = items.split(\".\")\n",
    "            for i in set(items):\n",
    "                if((len(i) > 2) and i != \"com\" and i != \"COM\"):\n",
    "                    email += i + \" \"\n",
    "        preprocessed_email.append(email.strip())\n",
    "        \n",
    "        # Preprocessing subject\n",
    "        subject = \"\"  # Initialize subject as an empty string\n",
    "        text_split = sentence.split(\"\\n\")\n",
    "        for item in text_split:\n",
    "            if item.startswith(\"Subject:\"):\n",
    "                for word in item.split():\n",
    "                    if not word.endswith(\":\"):\n",
    "                        subject += word + \" \"\n",
    "                subject = re.sub(\"[^0-9a-zA-Z\\s]\", \" \", subject)\n",
    "                subject = \" \".join(subject.split()).strip()\n",
    "        preprocessed_subject.append(subject.lower())\n",
    "        \n",
    "        # Preprocessing text\n",
    "        text = re.sub(r\"(.*)Subject:(.*?)(.*)\\n\", \" \", sentence)   # Remove subject line\n",
    "        text = re.sub(r\"(.*)From:(.*?)(.*)\\n\", \" \", text)          # Remove from line\n",
    "        text = re.sub(r\"(.*)Write to:(.*?)(.*)\\n\", \" \", text)      # Remove write to line\n",
    "        text = re.sub(r\"(.*):(.*?)\", \" \", text)                    # Remove words ending with :\n",
    "\n",
    "        # Decontraction\n",
    "        text = re.sub(r\"won't\", \"will not\", text)\n",
    "        text = re.sub(r\"can\\'t\", \"can not\", text)\n",
    "        text = re.sub(r\"n\\'t\", \" not\", text)\n",
    "        text = re.sub(r\"\\'re\", \" are\", text)\n",
    "        text = re.sub(r\"\\'s\", \" is\", text)\n",
    "        text = re.sub(r\"\\'d\", \" would\", text)\n",
    "        text = re.sub(r\"\\'ll\", \" will\", text)\n",
    "        text = re.sub(r\"\\'t\", \" not\", text)\n",
    "        text = re.sub(r\"\\'ve\", \" have\", text)\n",
    "        text = re.sub(r\"\\'m\", \" am\", text)\n",
    "\n",
    "        text = re.sub(r\"[\\w\\-\\.]+@[\\w\\.-]+\\b\", \" \", text)          # Remove all emails\n",
    "        text = re.sub(r\"[\\n\\t]\", \" \", text)                        # Remove line feeds and tabs\n",
    "        text = re.sub(r\"<.*>\", \" \", text)                          # Remove text within angular brackets\n",
    "        text = re.sub(r\"\\(.*\\)\", \" \", text)                        # Remove text within parentheses\n",
    "        text = re.sub(r\"\\[.*\\]\", \" \", text)                        # Remove text within square brackets\n",
    "        text = re.sub(r\"\\{.*\\}\", \" \", text)                        # Remove text within curly braces\n",
    "        text = re.sub(\"[0-9]+\", \" \", text)                         # Remove all digits\n",
    "        text = re.sub(\"[^A-Za-z\\s]\", \" \", text)                    # Remove all characters except alphabets and spaces\n",
    "\n",
    "        # Named Entity Recognition and Replacement\n",
    "        chunks = list(ne_chunk(pos_tag(word_tokenize(text))))\n",
    "\n",
    "        for i in chunks:\n",
    "            if isinstance(i, Tree):\n",
    "                if i.label() == \"GPE\":\n",
    "                    j = i.leaves()\n",
    "                    if len(j) > 1:   # If a city name has two or more words, combine it with an underscore\n",
    "                        gpe = \"_\".join([term for term, pos in j])\n",
    "                        text = re.sub(rf\"{j[1][0]}\", gpe, text)\n",
    "                        text = re.sub(rf\"{j[0][0]}\", \" \", text)\n",
    "                if i.label() == \"PERSON\":\n",
    "                    for term, pos in i.leaves():\n",
    "                        text = re.sub(re.escape(term), \"\", text)\n",
    "\n",
    "        # Clean up underscores\n",
    "        text = re.sub(r\"\\b_([a-zA-z]+)_\\b\", r\"\\1\", text)  # Replace _word_ with word\n",
    "        text = re.sub(r\"\\b_([a-zA-z]+)\\b\", r\"\\1\", text)   # Replace _word with word\n",
    "        text = re.sub(r\"\\b([a-zA-z]+)_\\b\", r\"\\1\", text)   # Replace word_ with word\n",
    "        text = re.sub(r\"\\b[a-zA-Z]{1}_([a-zA-Z]+)\", r\"\\1\", text) \n",
    "        text = re.sub(r\"\\b[a-zA-Z]{2}_([a-zA-Z]+)\", r\"\\1\", text)\n",
    "\n",
    "        text = text.lower()\n",
    "        text_split = text.split()\n",
    "        text = \" \".join(word for word in text_split if 2 < len(word) < 15)\n",
    "        preprocessed_text.append(text.strip())\n",
    "    \n",
    "    return preprocessed_email, preprocessed_subject, preprocessed_text"
   ]
  },
  {
   "cell_type": "code",
   "execution_count": 72,
   "metadata": {},
   "outputs": [
    {
     "name": "stderr",
     "output_type": "stream",
     "text": [
      "100%|██████████| 18846/18846 [1:08:49<00:00,  4.56it/s]\n"
     ]
    }
   ],
   "source": [
    "# applying the function to the text column\n",
    "emails, subjects, texts = Preprocess(data['text'])"
   ]
  },
  {
   "cell_type": "code",
   "execution_count": 77,
   "metadata": {},
   "outputs": [
    {
     "data": {
      "text/html": [
       "<div>\n",
       "<style scoped>\n",
       "    .dataframe tbody tr th:only-of-type {\n",
       "        vertical-align: middle;\n",
       "    }\n",
       "\n",
       "    .dataframe tbody tr th {\n",
       "        vertical-align: top;\n",
       "    }\n",
       "\n",
       "    .dataframe thead th {\n",
       "        text-align: right;\n",
       "    }\n",
       "</style>\n",
       "<table border=\"1\" class=\"dataframe\">\n",
       "  <thead>\n",
       "    <tr style=\"text-align: right;\">\n",
       "      <th></th>\n",
       "      <th>email</th>\n",
       "      <th>subject</th>\n",
       "      <th>text</th>\n",
       "      <th>target</th>\n",
       "    </tr>\n",
       "  </thead>\n",
       "  <tbody>\n",
       "    <tr>\n",
       "      <th>0</th>\n",
       "      <td>edu cmu andrew</td>\n",
       "      <td>pens fans reactions</td>\n",
       "      <td>office carnegie mellon pittsburgh andrew cmu e...</td>\n",
       "      <td>10</td>\n",
       "    </tr>\n",
       "    <tr>\n",
       "      <th>1</th>\n",
       "      <td>edu midway uoknor ecn edu essex uoknor ecn</td>\n",
       "      <td>which high performance vlb video card</td>\n",
       "      <td>seek for video card midway ecn uoknor edu engi...</td>\n",
       "      <td>3</td>\n",
       "    </tr>\n",
       "    <tr>\n",
       "      <th>2</th>\n",
       "      <td>dsv dsv</td>\n",
       "      <td>armenia says it could shoot down turkish plane...</td>\n",
       "      <td>viktoria dsv dept computer and would stretch f...</td>\n",
       "      <td>17</td>\n",
       "    </tr>\n",
       "    <tr>\n",
       "      <th>3</th>\n",
       "      <td>austin ibm austin ibm pal500 julian uwo heart ...</td>\n",
       "      <td>ide vs scsi dma and detach</td>\n",
       "      <td>ibm can anyone explain fairly simple terms why...</td>\n",
       "      <td>3</td>\n",
       "    </tr>\n",
       "    <tr>\n",
       "      <th>4</th>\n",
       "      <td>edu cmu andrew</td>\n",
       "      <td>driver</td>\n",
       "      <td>sophomore mechanical engineering carnegie mell...</td>\n",
       "      <td>4</td>\n",
       "    </tr>\n",
       "  </tbody>\n",
       "</table>\n",
       "</div>"
      ],
      "text/plain": [
       "                                               email  \\\n",
       "0                                     edu cmu andrew   \n",
       "1         edu midway uoknor ecn edu essex uoknor ecn   \n",
       "2                                            dsv dsv   \n",
       "3  austin ibm austin ibm pal500 julian uwo heart ...   \n",
       "4                                     edu cmu andrew   \n",
       "\n",
       "                                             subject  \\\n",
       "0                                pens fans reactions   \n",
       "1              which high performance vlb video card   \n",
       "2  armenia says it could shoot down turkish plane...   \n",
       "3                         ide vs scsi dma and detach   \n",
       "4                                             driver   \n",
       "\n",
       "                                                text  target  \n",
       "0  office carnegie mellon pittsburgh andrew cmu e...      10  \n",
       "1  seek for video card midway ecn uoknor edu engi...       3  \n",
       "2  viktoria dsv dept computer and would stretch f...      17  \n",
       "3  ibm can anyone explain fairly simple terms why...       3  \n",
       "4  sophomore mechanical engineering carnegie mell...       4  "
      ]
     },
     "execution_count": 77,
     "metadata": {},
     "output_type": "execute_result"
    }
   ],
   "source": [
    "# making the final dataframe with the subjects and texts columns\n",
    "final_data = pd.DataFrame({'email': emails, 'subject': subjects, 'text': texts, 'target': data['target']})\n",
    "final_data.head()"
   ]
  },
  {
   "cell_type": "markdown",
   "metadata": {},
   "source": [
    "## **Building the text classification model using tensorflow**"
   ]
  },
  {
   "cell_type": "code",
   "execution_count": 79,
   "metadata": {},
   "outputs": [],
   "source": [
    "# using word2vec to convert the text into vectors after tokenizing\n",
    "from gensim.models import Word2Vec\n",
    "from gensim.models import KeyedVectors"
   ]
  },
  {
   "cell_type": "code",
   "execution_count": 81,
   "metadata": {},
   "outputs": [
    {
     "name": "stdout",
     "output_type": "stream",
     "text": [
      "Trained Word2Vec model with 276455 words in the vocabulary.\n"
     ]
    }
   ],
   "source": [
    "# tokenize the text data\n",
    "sentences = [word_tokenize(text) for text in data['text']]\n",
    "\n",
    "# train the Word2Vec model\n",
    "word2vec_model = Word2Vec(sentences, vector_size=100, window=5, min_count=1, workers=4)\n",
    "\n",
    "# printing the number of words in the model\n",
    "print(f'Trained Word2Vec model with {len(word2vec_model.wv)} words in the vocabulary.')"
   ]
  },
  {
   "cell_type": "code",
   "execution_count": 82,
   "metadata": {},
   "outputs": [],
   "source": [
    "# function to conver the text\n",
    "def text_to_embedding(text, model, embedding_dim=100):\n",
    "    words = word_tokenize(text)\n",
    "    word_vectors = [model.wv[word] for word in words if word in model.wv]\n",
    "    \n",
    "    if not word_vectors:  # if no word retun none\n",
    "        return np.zeros(embedding_dim)\n",
    "    \n",
    "    return np.mean(word_vectors, axis=0)\n",
    "\n",
    "# apply the function to the text col \n",
    "data['text_embedding'] = data['text'].apply(lambda x: text_to_embedding(x, word2vec_model))"
   ]
  },
  {
   "cell_type": "code",
   "execution_count": 85,
   "metadata": {},
   "outputs": [],
   "source": [
    "X = np.array(data['text_embedding'].tolist())\n",
    "y = final_data['target']\n",
    "\n",
    "# spliting the data for the testing and training split\n",
    "X_train, X_test, y_train, y_test = train_test_split(X, y, test_size=0.2, random_state=42)"
   ]
  },
  {
   "cell_type": "code",
   "execution_count": 93,
   "metadata": {},
   "outputs": [
    {
     "name": "stderr",
     "output_type": "stream",
     "text": [
      "/home/parker/anaconda3/envs/tf_ml/lib/python3.10/site-packages/keras/src/layers/core/dense.py:87: UserWarning: Do not pass an `input_shape`/`input_dim` argument to a layer. When using Sequential models, prefer using an `Input(shape)` object as the first layer in the model instead.\n",
      "  super().__init__(activity_regularizer=activity_regularizer, **kwargs)\n"
     ]
    }
   ],
   "source": [
    "# setting the number of topics\n",
    "num_topics = len(set(y_train))\n",
    "\n",
    "# building the model\n",
    "model = Sequential()\n",
    "model.add(Dense(512, activation='relu', input_shape=(X_train.shape[1],)))\n",
    "model.add(Dropout(0.5))\n",
    "model.add(Dense(256, activation='relu'))\n",
    "model.add(Dropout(0.5))\n",
    "model.add(Dense(128, activation='relu'))\n",
    "model.add(Dropout(0.5))\n",
    "model.add(Dense(num_topics, activation='softmax'))\n",
    "\n",
    "# Compile the model\n",
    "model.compile(optimizer='adam', loss='sparse_categorical_crossentropy', metrics=['accuracy'])"
   ]
  },
  {
   "cell_type": "code",
   "execution_count": 94,
   "metadata": {},
   "outputs": [
    {
     "name": "stdout",
     "output_type": "stream",
     "text": [
      "Epoch 1/100\n",
      "189/189 - 6s - 29ms/step - accuracy: 0.0993 - loss: 2.8669 - val_accuracy: 0.1983 - val_loss: 2.5268\n",
      "Epoch 2/100\n",
      "189/189 - 0s - 1ms/step - accuracy: 0.1912 - loss: 2.4187 - val_accuracy: 0.2974 - val_loss: 2.0984\n",
      "Epoch 3/100\n",
      "189/189 - 0s - 1ms/step - accuracy: 0.2402 - loss: 2.2201 - val_accuracy: 0.3253 - val_loss: 2.0165\n",
      "Epoch 4/100\n",
      "189/189 - 0s - 1ms/step - accuracy: 0.2734 - loss: 2.1200 - val_accuracy: 0.3501 - val_loss: 1.9224\n",
      "Epoch 5/100\n",
      "189/189 - 0s - 1ms/step - accuracy: 0.2980 - loss: 2.0479 - val_accuracy: 0.3528 - val_loss: 1.8736\n",
      "Epoch 6/100\n",
      "189/189 - 0s - 1ms/step - accuracy: 0.3185 - loss: 1.9996 - val_accuracy: 0.3840 - val_loss: 1.8023\n",
      "Epoch 7/100\n",
      "189/189 - 0s - 1ms/step - accuracy: 0.3345 - loss: 1.9431 - val_accuracy: 0.4208 - val_loss: 1.7514\n",
      "Epoch 8/100\n",
      "189/189 - 0s - 1ms/step - accuracy: 0.3514 - loss: 1.9133 - val_accuracy: 0.4171 - val_loss: 1.7295\n",
      "Epoch 9/100\n",
      "189/189 - 0s - 1ms/step - accuracy: 0.3547 - loss: 1.8831 - val_accuracy: 0.4188 - val_loss: 1.7254\n",
      "Epoch 10/100\n",
      "189/189 - 0s - 1ms/step - accuracy: 0.3621 - loss: 1.8670 - val_accuracy: 0.4377 - val_loss: 1.6781\n",
      "Epoch 11/100\n",
      "189/189 - 0s - 1ms/step - accuracy: 0.3710 - loss: 1.8374 - val_accuracy: 0.4380 - val_loss: 1.6658\n",
      "Epoch 12/100\n",
      "189/189 - 0s - 1ms/step - accuracy: 0.3749 - loss: 1.8288 - val_accuracy: 0.4254 - val_loss: 1.6717\n",
      "Epoch 13/100\n",
      "189/189 - 0s - 1ms/step - accuracy: 0.3750 - loss: 1.8152 - val_accuracy: 0.4486 - val_loss: 1.6544\n",
      "Epoch 14/100\n",
      "189/189 - 0s - 1ms/step - accuracy: 0.3883 - loss: 1.7900 - val_accuracy: 0.4446 - val_loss: 1.6438\n",
      "Epoch 15/100\n",
      "189/189 - 0s - 1ms/step - accuracy: 0.3905 - loss: 1.7903 - val_accuracy: 0.4463 - val_loss: 1.6387\n",
      "Epoch 16/100\n",
      "189/189 - 0s - 1ms/step - accuracy: 0.3971 - loss: 1.7686 - val_accuracy: 0.4277 - val_loss: 1.6792\n",
      "Epoch 17/100\n",
      "189/189 - 0s - 1ms/step - accuracy: 0.4001 - loss: 1.7607 - val_accuracy: 0.4632 - val_loss: 1.6067\n",
      "Epoch 18/100\n",
      "189/189 - 0s - 1ms/step - accuracy: 0.4046 - loss: 1.7328 - val_accuracy: 0.4622 - val_loss: 1.5923\n",
      "Epoch 19/100\n",
      "189/189 - 0s - 1ms/step - accuracy: 0.4020 - loss: 1.7475 - val_accuracy: 0.4542 - val_loss: 1.6007\n",
      "Epoch 20/100\n",
      "189/189 - 0s - 1ms/step - accuracy: 0.4108 - loss: 1.7368 - val_accuracy: 0.4493 - val_loss: 1.5830\n",
      "Epoch 21/100\n",
      "189/189 - 0s - 1ms/step - accuracy: 0.4038 - loss: 1.7266 - val_accuracy: 0.4649 - val_loss: 1.5814\n",
      "Epoch 22/100\n",
      "189/189 - 0s - 1ms/step - accuracy: 0.4154 - loss: 1.7205 - val_accuracy: 0.4721 - val_loss: 1.5718\n",
      "Epoch 23/100\n",
      "189/189 - 0s - 1ms/step - accuracy: 0.4164 - loss: 1.7143 - val_accuracy: 0.4569 - val_loss: 1.5873\n",
      "Epoch 24/100\n",
      "189/189 - 0s - 1ms/step - accuracy: 0.4175 - loss: 1.6962 - val_accuracy: 0.4755 - val_loss: 1.5709\n",
      "Epoch 25/100\n",
      "189/189 - 0s - 1ms/step - accuracy: 0.4241 - loss: 1.6950 - val_accuracy: 0.4589 - val_loss: 1.5723\n",
      "Epoch 26/100\n",
      "189/189 - 0s - 1ms/step - accuracy: 0.4227 - loss: 1.6906 - val_accuracy: 0.4801 - val_loss: 1.5633\n",
      "Epoch 27/100\n",
      "189/189 - 0s - 1ms/step - accuracy: 0.4235 - loss: 1.6885 - val_accuracy: 0.4619 - val_loss: 1.5684\n",
      "Epoch 28/100\n",
      "189/189 - 0s - 1ms/step - accuracy: 0.4266 - loss: 1.6908 - val_accuracy: 0.4758 - val_loss: 1.5635\n",
      "Epoch 29/100\n",
      "189/189 - 0s - 1ms/step - accuracy: 0.4292 - loss: 1.6584 - val_accuracy: 0.4765 - val_loss: 1.5470\n",
      "Epoch 30/100\n",
      "189/189 - 0s - 1ms/step - accuracy: 0.4336 - loss: 1.6726 - val_accuracy: 0.4735 - val_loss: 1.5413\n",
      "Epoch 31/100\n",
      "189/189 - 0s - 1ms/step - accuracy: 0.4343 - loss: 1.6584 - val_accuracy: 0.4755 - val_loss: 1.5339\n",
      "Epoch 32/100\n",
      "189/189 - 0s - 1ms/step - accuracy: 0.4318 - loss: 1.6580 - val_accuracy: 0.4814 - val_loss: 1.5253\n",
      "Epoch 33/100\n",
      "189/189 - 0s - 1ms/step - accuracy: 0.4425 - loss: 1.6469 - val_accuracy: 0.4907 - val_loss: 1.5390\n",
      "Epoch 34/100\n",
      "189/189 - 0s - 1ms/step - accuracy: 0.4368 - loss: 1.6565 - val_accuracy: 0.4834 - val_loss: 1.5365\n",
      "Epoch 35/100\n",
      "189/189 - 0s - 1ms/step - accuracy: 0.4360 - loss: 1.6557 - val_accuracy: 0.4891 - val_loss: 1.5125\n",
      "Epoch 36/100\n",
      "189/189 - 0s - 1ms/step - accuracy: 0.4386 - loss: 1.6449 - val_accuracy: 0.4761 - val_loss: 1.5291\n",
      "Epoch 37/100\n",
      "189/189 - 0s - 1ms/step - accuracy: 0.4494 - loss: 1.6235 - val_accuracy: 0.4924 - val_loss: 1.5133\n",
      "Epoch 38/100\n",
      "189/189 - 0s - 1ms/step - accuracy: 0.4463 - loss: 1.6294 - val_accuracy: 0.4980 - val_loss: 1.5048\n",
      "Epoch 39/100\n",
      "189/189 - 0s - 1ms/step - accuracy: 0.4361 - loss: 1.6412 - val_accuracy: 0.4828 - val_loss: 1.5061\n",
      "Epoch 40/100\n",
      "189/189 - 0s - 1ms/step - accuracy: 0.4487 - loss: 1.6275 - val_accuracy: 0.4920 - val_loss: 1.4947\n",
      "Epoch 41/100\n",
      "189/189 - 0s - 1ms/step - accuracy: 0.4427 - loss: 1.6314 - val_accuracy: 0.4944 - val_loss: 1.4953\n",
      "Epoch 42/100\n",
      "189/189 - 0s - 1ms/step - accuracy: 0.4502 - loss: 1.6142 - val_accuracy: 0.4927 - val_loss: 1.5105\n",
      "Epoch 43/100\n",
      "189/189 - 0s - 1ms/step - accuracy: 0.4542 - loss: 1.6136 - val_accuracy: 0.4924 - val_loss: 1.4888\n",
      "Epoch 44/100\n",
      "189/189 - 0s - 1ms/step - accuracy: 0.4471 - loss: 1.6194 - val_accuracy: 0.4841 - val_loss: 1.5263\n",
      "Epoch 45/100\n",
      "189/189 - 0s - 1ms/step - accuracy: 0.4566 - loss: 1.6068 - val_accuracy: 0.4728 - val_loss: 1.5534\n",
      "Epoch 46/100\n",
      "189/189 - 0s - 1ms/step - accuracy: 0.4512 - loss: 1.6081 - val_accuracy: 0.5070 - val_loss: 1.4848\n",
      "Epoch 47/100\n",
      "189/189 - 0s - 1ms/step - accuracy: 0.4522 - loss: 1.6023 - val_accuracy: 0.4957 - val_loss: 1.4971\n",
      "Epoch 48/100\n",
      "189/189 - 0s - 1ms/step - accuracy: 0.4593 - loss: 1.6012 - val_accuracy: 0.4993 - val_loss: 1.4950\n",
      "Epoch 49/100\n",
      "189/189 - 0s - 1ms/step - accuracy: 0.4531 - loss: 1.6054 - val_accuracy: 0.5139 - val_loss: 1.4755\n",
      "Epoch 50/100\n",
      "189/189 - 0s - 1ms/step - accuracy: 0.4554 - loss: 1.5912 - val_accuracy: 0.4877 - val_loss: 1.4966\n",
      "Epoch 51/100\n",
      "189/189 - 0s - 1ms/step - accuracy: 0.4585 - loss: 1.5880 - val_accuracy: 0.5050 - val_loss: 1.4760\n",
      "Epoch 52/100\n",
      "189/189 - 0s - 1ms/step - accuracy: 0.4547 - loss: 1.5855 - val_accuracy: 0.5070 - val_loss: 1.4690\n",
      "Epoch 53/100\n",
      "189/189 - 0s - 1ms/step - accuracy: 0.4612 - loss: 1.5841 - val_accuracy: 0.5043 - val_loss: 1.4877\n",
      "Epoch 54/100\n",
      "189/189 - 0s - 1ms/step - accuracy: 0.4615 - loss: 1.5845 - val_accuracy: 0.5003 - val_loss: 1.4868\n",
      "Epoch 55/100\n",
      "189/189 - 0s - 1ms/step - accuracy: 0.4629 - loss: 1.5819 - val_accuracy: 0.5007 - val_loss: 1.4899\n",
      "Epoch 56/100\n",
      "189/189 - 0s - 1ms/step - accuracy: 0.4630 - loss: 1.5769 - val_accuracy: 0.5093 - val_loss: 1.4840\n",
      "Epoch 57/100\n",
      "189/189 - 0s - 1ms/step - accuracy: 0.4762 - loss: 1.5583 - val_accuracy: 0.5123 - val_loss: 1.4701\n",
      "Epoch 58/100\n",
      "189/189 - 0s - 1ms/step - accuracy: 0.4677 - loss: 1.5684 - val_accuracy: 0.5116 - val_loss: 1.4681\n",
      "Epoch 59/100\n",
      "189/189 - 0s - 1ms/step - accuracy: 0.4626 - loss: 1.5699 - val_accuracy: 0.5030 - val_loss: 1.4767\n",
      "Epoch 60/100\n",
      "189/189 - 0s - 1ms/step - accuracy: 0.4680 - loss: 1.5755 - val_accuracy: 0.5093 - val_loss: 1.4680\n",
      "Epoch 61/100\n",
      "189/189 - 0s - 1ms/step - accuracy: 0.4655 - loss: 1.5663 - val_accuracy: 0.5090 - val_loss: 1.4641\n",
      "Epoch 62/100\n",
      "189/189 - 0s - 1ms/step - accuracy: 0.4711 - loss: 1.5545 - val_accuracy: 0.5126 - val_loss: 1.4476\n",
      "Epoch 63/100\n",
      "189/189 - 0s - 1ms/step - accuracy: 0.4723 - loss: 1.5444 - val_accuracy: 0.5179 - val_loss: 1.4575\n",
      "Epoch 64/100\n",
      "189/189 - 0s - 1ms/step - accuracy: 0.4700 - loss: 1.5622 - val_accuracy: 0.5149 - val_loss: 1.4600\n",
      "Epoch 65/100\n",
      "189/189 - 0s - 1ms/step - accuracy: 0.4759 - loss: 1.5468 - val_accuracy: 0.5113 - val_loss: 1.4473\n",
      "Epoch 66/100\n",
      "189/189 - 0s - 1ms/step - accuracy: 0.4781 - loss: 1.5514 - val_accuracy: 0.5209 - val_loss: 1.4502\n",
      "Epoch 67/100\n",
      "189/189 - 0s - 1ms/step - accuracy: 0.4760 - loss: 1.5448 - val_accuracy: 0.5229 - val_loss: 1.4482\n",
      "Epoch 68/100\n",
      "189/189 - 0s - 1ms/step - accuracy: 0.4781 - loss: 1.5385 - val_accuracy: 0.5172 - val_loss: 1.4588\n",
      "Epoch 69/100\n",
      "189/189 - 0s - 1ms/step - accuracy: 0.4763 - loss: 1.5428 - val_accuracy: 0.5179 - val_loss: 1.4404\n",
      "Epoch 70/100\n",
      "189/189 - 0s - 1ms/step - accuracy: 0.4736 - loss: 1.5356 - val_accuracy: 0.5252 - val_loss: 1.4525\n",
      "Epoch 71/100\n",
      "189/189 - 0s - 1ms/step - accuracy: 0.4759 - loss: 1.5434 - val_accuracy: 0.5066 - val_loss: 1.4726\n",
      "Epoch 72/100\n",
      "189/189 - 0s - 1ms/step - accuracy: 0.4729 - loss: 1.5415 - val_accuracy: 0.5196 - val_loss: 1.4447\n",
      "Epoch 73/100\n",
      "189/189 - 0s - 1ms/step - accuracy: 0.4784 - loss: 1.5425 - val_accuracy: 0.5186 - val_loss: 1.4377\n",
      "Epoch 74/100\n",
      "189/189 - 0s - 1ms/step - accuracy: 0.4740 - loss: 1.5432 - val_accuracy: 0.5222 - val_loss: 1.4643\n",
      "Epoch 75/100\n",
      "189/189 - 0s - 1ms/step - accuracy: 0.4811 - loss: 1.5332 - val_accuracy: 0.5225 - val_loss: 1.4321\n",
      "Epoch 76/100\n",
      "189/189 - 0s - 1ms/step - accuracy: 0.4779 - loss: 1.5390 - val_accuracy: 0.5212 - val_loss: 1.4500\n",
      "Epoch 77/100\n",
      "189/189 - 0s - 1ms/step - accuracy: 0.4834 - loss: 1.5300 - val_accuracy: 0.5219 - val_loss: 1.4380\n",
      "Epoch 78/100\n",
      "189/189 - 0s - 1ms/step - accuracy: 0.4821 - loss: 1.5199 - val_accuracy: 0.5070 - val_loss: 1.4642\n",
      "Epoch 79/100\n",
      "189/189 - 0s - 1ms/step - accuracy: 0.4795 - loss: 1.5294 - val_accuracy: 0.5159 - val_loss: 1.4419\n",
      "Epoch 80/100\n",
      "189/189 - 0s - 1ms/step - accuracy: 0.4734 - loss: 1.5224 - val_accuracy: 0.5169 - val_loss: 1.4497\n",
      "Epoch 81/100\n",
      "189/189 - 0s - 1ms/step - accuracy: 0.4881 - loss: 1.5033 - val_accuracy: 0.5202 - val_loss: 1.4447\n",
      "Epoch 82/100\n",
      "189/189 - 0s - 1ms/step - accuracy: 0.4808 - loss: 1.5129 - val_accuracy: 0.5212 - val_loss: 1.4329\n",
      "Epoch 83/100\n",
      "189/189 - 0s - 1ms/step - accuracy: 0.4837 - loss: 1.5262 - val_accuracy: 0.5179 - val_loss: 1.4424\n",
      "Epoch 84/100\n",
      "189/189 - 0s - 1ms/step - accuracy: 0.4936 - loss: 1.4941 - val_accuracy: 0.5232 - val_loss: 1.4242\n",
      "Epoch 85/100\n",
      "189/189 - 0s - 1ms/step - accuracy: 0.4828 - loss: 1.5225 - val_accuracy: 0.5202 - val_loss: 1.4379\n",
      "Epoch 86/100\n",
      "189/189 - 0s - 1ms/step - accuracy: 0.4923 - loss: 1.4993 - val_accuracy: 0.5196 - val_loss: 1.4451\n",
      "Epoch 87/100\n",
      "189/189 - 0s - 1ms/step - accuracy: 0.4854 - loss: 1.5171 - val_accuracy: 0.5169 - val_loss: 1.4480\n",
      "Epoch 88/100\n",
      "189/189 - 0s - 1ms/step - accuracy: 0.4897 - loss: 1.5069 - val_accuracy: 0.5285 - val_loss: 1.4266\n",
      "Epoch 89/100\n",
      "189/189 - 0s - 1ms/step - accuracy: 0.4871 - loss: 1.5023 - val_accuracy: 0.5136 - val_loss: 1.4453\n",
      "Epoch 90/100\n",
      "189/189 - 0s - 1ms/step - accuracy: 0.4903 - loss: 1.4866 - val_accuracy: 0.5206 - val_loss: 1.4383\n",
      "Epoch 91/100\n",
      "189/189 - 0s - 1ms/step - accuracy: 0.4925 - loss: 1.5015 - val_accuracy: 0.5235 - val_loss: 1.4370\n",
      "Epoch 92/100\n",
      "189/189 - 0s - 1ms/step - accuracy: 0.4882 - loss: 1.5082 - val_accuracy: 0.5186 - val_loss: 1.4360\n",
      "Epoch 93/100\n",
      "189/189 - 0s - 1ms/step - accuracy: 0.4964 - loss: 1.4898 - val_accuracy: 0.5249 - val_loss: 1.4248\n",
      "Epoch 94/100\n",
      "189/189 - 0s - 1ms/step - accuracy: 0.4911 - loss: 1.4975 - val_accuracy: 0.5279 - val_loss: 1.4427\n",
      "Epoch 95/100\n",
      "189/189 - 0s - 1ms/step - accuracy: 0.4855 - loss: 1.4981 - val_accuracy: 0.5288 - val_loss: 1.4228\n",
      "Epoch 96/100\n",
      "189/189 - 0s - 1ms/step - accuracy: 0.4973 - loss: 1.4901 - val_accuracy: 0.5275 - val_loss: 1.4211\n",
      "Epoch 97/100\n",
      "189/189 - 0s - 1ms/step - accuracy: 0.4890 - loss: 1.4920 - val_accuracy: 0.5255 - val_loss: 1.4252\n",
      "Epoch 98/100\n",
      "189/189 - 0s - 1ms/step - accuracy: 0.4968 - loss: 1.4908 - val_accuracy: 0.5176 - val_loss: 1.4685\n",
      "Epoch 99/100\n",
      "189/189 - 0s - 1ms/step - accuracy: 0.4957 - loss: 1.5008 - val_accuracy: 0.5212 - val_loss: 1.4182\n",
      "Epoch 100/100\n",
      "189/189 - 0s - 1ms/step - accuracy: 0.4938 - loss: 1.4967 - val_accuracy: 0.5242 - val_loss: 1.4352\n"
     ]
    },
    {
     "data": {
      "text/plain": [
       "<keras.src.callbacks.history.History at 0x71f6fbfe1c90>"
      ]
     },
     "execution_count": 94,
     "metadata": {},
     "output_type": "execute_result"
    }
   ],
   "source": [
    "# Train the model\n",
    "model.fit(X_train, y_train, epochs=100, batch_size=64, validation_split=0.2, verbose=2)"
   ]
  },
  {
   "cell_type": "code",
   "execution_count": 95,
   "metadata": {},
   "outputs": [
    {
     "name": "stdout",
     "output_type": "stream",
     "text": [
      "\u001b[1m118/118\u001b[0m \u001b[32m━━━━━━━━━━━━━━━━━━━━\u001b[0m\u001b[37m\u001b[0m \u001b[1m0s\u001b[0m 2ms/step\n"
     ]
    }
   ],
   "source": [
    "# predict \n",
    "y_pred = model.predict(X_test)\n",
    "y_pred_classes = np.argmax(y_pred, axis=1)"
   ]
  },
  {
   "cell_type": "code",
   "execution_count": 96,
   "metadata": {},
   "outputs": [
    {
     "name": "stderr",
     "output_type": "stream",
     "text": [
      "/home/parker/anaconda3/envs/tf_ml/lib/python3.10/site-packages/sklearn/metrics/_classification.py:1531: UndefinedMetricWarning: Precision is ill-defined and being set to 0.0 in labels with no predicted samples. Use `zero_division` parameter to control this behavior.\n",
      "  _warn_prf(average, modifier, f\"{metric.capitalize()} is\", len(result))\n"
     ]
    }
   ],
   "source": [
    "# evaluate the model\n",
    "accuracy = accuracy_score(y_test, y_pred_classes)\n",
    "precision = precision_score(y_test, y_pred_classes, average='weighted')\n",
    "recall = recall_score(y_test, y_pred_classes, average='weighted')\n",
    "f1 = f1_score(y_test, y_pred_classes, average='weighted')\n",
    "conf_matrix = confusion_matrix(y_test, y_pred_classes)"
   ]
  },
  {
   "cell_type": "code",
   "execution_count": 101,
   "metadata": {},
   "outputs": [],
   "source": [
    "# Calculate AUC-ROC\n",
    "y_test_categorical = to_categorical(y_test, num_classes=num_topics)\n",
    "auc_roc = roc_auc_score(y_test_categorical, y_pred, average='weighted', multi_class='ovr')"
   ]
  },
  {
   "cell_type": "code",
   "execution_count": 102,
   "metadata": {},
   "outputs": [
    {
     "name": "stdout",
     "output_type": "stream",
     "text": [
      "Accuracy: 0.520159151193634\n",
      "Precision (weighted): 0.5091006819709496\n",
      "Recall (weighted): 0.520159151193634\n",
      "F1 Score (weighted): 0.5013975361823386\n",
      "Area Under ROC Curve (AUC-ROC): 0.9420493090049796\n"
     ]
    }
   ],
   "source": [
    "print(f'Accuracy: {accuracy}')\n",
    "print(f'Precision (weighted): {precision}')\n",
    "print(f'Recall (weighted): {recall}')\n",
    "print(f'F1 Score (weighted): {f1}')\n",
    "print(f'Area Under ROC Curve (AUC-ROC): {auc_roc}')"
   ]
  },
  {
   "cell_type": "code",
   "execution_count": 103,
   "metadata": {},
   "outputs": [
    {
     "data": {
      "image/png": "[encoded data removed]",
      "text/plain": [
       "<Figure size 1000x800 with 2 Axes>"
      ]
     },
     "metadata": {},
     "output_type": "display_data"
    }
   ],
   "source": [
    "plt.figure(figsize=(10, 8))\n",
    "sns.heatmap(conf_matrix, annot=True, fmt='d', cmap='Blues')\n",
    "plt.xlabel('Predicted')\n",
    "plt.ylabel('Actual')\n",
    "plt.title('Confusion Matrix')\n",
    "plt.show()"
   ]
  },
  {
   "cell_type": "code",
   "execution_count": null,
   "metadata": {},
   "outputs": [],
   "source": []
  }
 ],
 "metadata": {
  "kernelspec": {
   "display_name": "base",
   "language": "python",
   "name": "python3"
  },
  "language_info": {
   "codemirror_mode": {
    "name": "ipython",
    "version": 3
   },
   "file_extension": ".py",
   "mimetype": "text/x-python",
   "name": "python",
   "nbconvert_exporter": "python",
   "pygments_lexer": "ipython3",
   "version": "3.10.13"
  }
 },
 "nbformat": 4,
 "nbformat_minor": 2
}
